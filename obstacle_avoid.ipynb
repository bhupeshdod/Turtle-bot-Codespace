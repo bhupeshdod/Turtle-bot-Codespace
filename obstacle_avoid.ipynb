{
 "cells": [
  {
   "cell_type": "code",
   "execution_count": 3,
   "metadata": {},
   "outputs": [
    {
     "name": "stdout",
     "output_type": "stream",
     "text": [
      "You are connected to uwbot-02\n",
      "Robot is reachable\n"
     ]
    },
    {
     "name": "stderr",
     "output_type": "stream",
     "text": [
      "Could not determine the type for the passed topic\n"
     ]
    },
    {
     "name": "stdout",
     "output_type": "stream",
     "text": [
      "ros2 topic echo --once /ip failed. Proceed with caution.\n",
      "ros2 topic subscription working. Everything is working as expected.\n"
     ]
    }
   ],
   "source": [
    "import turtlebot4_wrapper\n",
    "\n",
    "turtlebot4_wrapper.use_hardware()\n",
    "# turtlebot4_wrapper.use_simulation()\n",
    "\n",
    "# load ROS library\n",
    "import rclpy\n",
    "if not rclpy.ok():\n",
    "    rclpy.init()\n",
    "\n",
    "# Instantiate Wrapper. The subscribes and publishes the relevant topics and connects the actions.\n",
    "if not \"robot\" in globals():\n",
    "    robot = turtlebot4_wrapper.Robot()"
   ]
  },
  {
   "cell_type": "code",
   "execution_count": 9,
   "metadata": {},
   "outputs": [
    {
     "name": "stdout",
     "output_type": "stream",
     "text": [
      "Battery 37.0%, charging with -1.2A\n"
     ]
    }
   ],
   "source": [
    "# Make sure we have fresh data by waiting for a new message\n",
    "robot.reset_odometry()\n",
    "robot.battery_state_future = rclpy.Future()\n",
    "robot.spin_until_future_completed(robot.battery_state_future)\n",
    "\n",
    "# Pretty print the contents of the message\n",
    "print(\"Battery {0:2.3}%, charging with {1:2.2}A\".format(\n",
    "    robot.last_battery_state_msg.percentage*100,\n",
    "    robot.last_battery_state_msg.current\n",
    "))"
   ]
  },
  {
   "cell_type": "code",
   "execution_count": 28,
   "metadata": {},
   "outputs": [
    {
     "data": {
      "text/plain": [
       "irobot_create_msgs.action.Undock_Result(is_docked=False)"
      ]
     },
     "execution_count": 28,
     "metadata": {},
     "output_type": "execute_result"
    }
   ],
   "source": [
    "robot.undock()"
   ]
  },
  {
   "cell_type": "markdown",
   "metadata": {},
   "source": [
    "# PLOT POINTS"
   ]
  },
  {
   "cell_type": "code",
   "execution_count": 3,
   "metadata": {},
   "outputs": [
    {
     "name": "stderr",
     "output_type": "stream",
     "text": [
      "/tmp/ipykernel_2135/990165653.py:26: RuntimeWarning: invalid value encountered in matmul\n",
      "  transformed_points = [numpy.matmul(T,\n"
     ]
    },
    {
     "data": {
      "text/plain": [
       "[<matplotlib.lines.Line2D at 0x7f51ded22890>]"
      ]
     },
     "execution_count": 3,
     "metadata": {},
     "output_type": "execute_result"
    },
    {
     "data": {
      "image/png": "[encoded data removed]",
      "text/plain": [
       "<Figure size 432x288 with 1 Axes>"
      ]
     },
     "metadata": {
      "needs_background": "light"
     },
     "output_type": "display_data"
    }
   ],
   "source": [
    "from matplotlib import pyplot as plt\n",
    "import numpy  as np\n",
    "# Plot robot position from odometry\n",
    "# Use blue cross marker to designate the robot position\n",
    "robot.battery_state_future = rclpy.Future()\n",
    "robot.spin_until_future_completed(robot.battery_state_future)\n",
    "pose = robot.last_odom_msg.pose.pose\n",
    "plt.plot([pose.position.y],[pose.position.x],'bx') # TODO: show robot front\n",
    "\n",
    "def get_distance(x1 , y1 , x2 , y2):\n",
    "    return np.sqrt((np.square(x2-x1))+(np.square(y2-y1)))\n",
    "# Plot lidar points from last message\n",
    "\n",
    "def plot_lidar_scan_points(msg,pose):\n",
    "    # Convert received lidar points into cartesian coordinates considering the current position from odometry\n",
    "    import numpy\n",
    "    points = [(numpy.cos(angle)*radius,numpy.sin(angle)*radius) for angle, radius \\\n",
    "              in zip(numpy.linspace(msg.angle_min,msg.angle_max,len(msg.ranges)),msg.ranges)]\n",
    "\n",
    "    T = robot.reduce_transform_to_2D(robot.convert_odom_to_transform(pose))\n",
    "    \n",
    "    # remove points which cannot be measured\n",
    "    # filtered_points = filter(lambda x: numpy.isfinite(x).all(),points)\n",
    "    filtered_points = points\n",
    "    # display points in world frame\n",
    "    transformed_points = [numpy.matmul(T,\n",
    "        numpy.vstack([ numpy.atleast_2d(x).T,numpy.ones((1,1)) ]) ) for x in \n",
    "                          filtered_points]\n",
    "    transformed_points = [pnt for pnt in transformed_points if abs(pnt[0]) <= 1 and abs(pnt[1]) <= 1]           \n",
    "    transformed_points = [pnt for pnt in transformed_points if abs(pnt[0]) >= 0 and abs(pnt[1]) >= 0.075]   \n",
    "\n",
    "    for pt in transformed_points:\n",
    "        pt[0] = -pt[0]\n",
    "        pt[1] = -pt[1]\n",
    "\n",
    "    return transformed_points\n",
    "\n",
    "    # plt.plot(\n",
    "    #     [x[0] for x in transformed_points],\n",
    "    #     [x[1] for x in transformed_points],'r.')\n",
    "\n",
    "transformed_points = plot_lidar_scan_points(robot.last_scan_msg,pose)\n",
    "\n",
    "\n",
    "    # RADIUS METHOD if np.sqrt(pt[0]**2 + pt[1]**2) <= 3:  # Points within a distance of 3 units from (0, 0)\n",
    "plt.plot(\n",
    "        [x[0] for x in transformed_points],\n",
    "        [x[1] for x in transformed_points],'r.')"
   ]
  },
  {
   "cell_type": "code",
   "execution_count": 10,
   "metadata": {},
   "outputs": [
    {
     "data": {
      "text/plain": [
       "[<matplotlib.lines.Line2D at 0x7f21a4f5cca0>]"
      ]
     },
     "execution_count": 10,
     "metadata": {},
     "output_type": "execute_result"
    },
    {
     "data": {
      "image/png": "[encoded data removed]",
      "text/plain": [
       "<Figure size 432x288 with 1 Axes>"
      ]
     },
     "metadata": {
      "needs_background": "light"
     },
     "output_type": "display_data"
    }
   ],
   "source": [
    "from matplotlib import pyplot as plt\n",
    "import numpy as np\n",
    "# Plot robot position from odometry\n",
    "# Use blue cross marker to designate the robot position\n",
    "\n",
    "robot.scan_future = rclpy.Future()\n",
    "robot.odom_future = rclpy.Future()\n",
    "robot.spin_until_future_completed(robot.scan_future);\n",
    "robot.spin_until_future_completed(robot.odom_future);\n",
    "pose = robot.last_odom_msg.pose.pose\n",
    "\n",
    "T_base_lidar = np.array([[ 2.22044605e-16, -1.00000000e+00, -4.00000000e-02],\n",
    "       [ 1.00000000e+00,  2.22044605e-16,  0.00000000e+00],\n",
    "       [ 0.00000000e+00,  0.00000000e+00,  1.00000000e+00]])\n",
    "\n",
    "\n",
    "# print(robot.last_scan_msg)\n",
    "# print(robot.last_odom_msg)\n",
    "# print(robot.reduce_transform_to_2D(robot.get_tf_transform(\"base_link\",\"rplidar_link\")))\n",
    "def get_distance(x1 , y1 , x2 ,y2):\n",
    "    return np.sqrt((x2-x1)**2+(y2-y1)**2)\n",
    "\n",
    "def is_not_rods(pt , x2 ,y2):\n",
    "    if get_distance(pt[0] ,pt[1] , x2, y2) >= 0.14:\n",
    "        return True\n",
    "    else:\n",
    "        return False\n",
    "\n",
    "# T_base_lidar = robot.reduce_transform_to_2D(robot.get_tf_transform(\"base_link\",\"rplidar_link\"))\n",
    "\n",
    "# Plot lidar points from last message\n",
    "def plot_lidar_scan_points_working(msg,pose):\n",
    "    # Convert received lidar points into cartesian coordinates considering the current position from odometry\n",
    "    import numpy\n",
    "    points = [(numpy.cos(angle)*radius,numpy.sin(angle)*radius) for angle, radius \\\n",
    "              in zip(numpy.linspace(msg.angle_min,msg.angle_max,len(msg.ranges)),msg.ranges)]\n",
    "    # print(points[0:5])\n",
    "\n",
    "    T = robot.reduce_transform_to_2D(robot.convert_odom_to_transform(pose))\n",
    "    # print(T)\n",
    "    \n",
    "    # remove points which cannot be measured\n",
    "    filtered_points = filter(lambda x: numpy.isfinite(x).all(),points)\n",
    "\n",
    "    \n",
    "    # display points in world frame\n",
    "    transformed_points = [numpy.matmul(np.dot(T,T_base_lidar),\n",
    "        numpy.vstack([ numpy.atleast_2d(x).T,numpy.ones((1,1)) ]) ) for x in \n",
    "                          filtered_points]\n",
    "    \n",
    "    transformed_points = [pnt for pnt in transformed_points if abs(pnt[0]) <= 3.5 and abs(pnt[1]) <= 3.5]           \n",
    "    # # transformed_points = [pnt for pnt in transformed_points if abs(pnt[0]) >= 0.0 and abs(pnt[1]) >= 0.095]  \n",
    "    transformed_points = [pnt for pnt in transformed_points if is_not_rods(pnt , pose.position.x , pose.position.y )] \n",
    "    \n",
    "\n",
    "    return transformed_points\n",
    "    \n",
    "    \n",
    "\n",
    "transformed_points = plot_lidar_scan_points_working(robot.last_scan_msg,pose)\n",
    "plt.plot([pose.position.x],[pose.position.y],'bx') # TODO: show robot front\n",
    "plt.plot(\n",
    "    [x[0] for x in transformed_points],\n",
    "    [x[1] for x in transformed_points],'r.')\n",
    "# plt.ylim(-2.,2.)\n",
    "# plt.xlim(-2.,2.)\n"
   ]
  },
  {
   "cell_type": "markdown",
   "metadata": {},
   "source": [
    "# APF"
   ]
  },
  {
   "cell_type": "markdown",
   "metadata": {},
   "source": [
    "## APF CLASS"
   ]
  },
  {
   "cell_type": "code",
   "execution_count": 6,
   "metadata": {},
   "outputs": [
    {
     "name": "stdout",
     "output_type": "stream",
     "text": [
      "(-1.7763568394002505e-14, 1.9539925233402755e-14)\n",
      "path plan failed\n"
     ]
    },
    {
     "data": {
      "image/png": "[encoded data removed]",
      "text/plain": [
       "<Figure size 504x504 with 1 Axes>"
      ]
     },
     "metadata": {
      "needs_background": "light"
     },
     "output_type": "display_data"
    }
   ],
   "source": [
    "import math\n",
    "import random\n",
    "from matplotlib import pyplot as plt\n",
    "from matplotlib.patches import Circle\n",
    "import time\n",
    "import numpy as np\n",
    "import numpy as np\n",
    "from tf_transformations import euler_from_quaternion\n",
    "from geometry_msgs.msg import Twist\n",
    "\n",
    "\n",
    "class Vector2d():\n",
    "\n",
    "    def __init__(self, x, y):\n",
    "        self.deltaX = x\n",
    "        self.deltaY = y\n",
    "        self.length = -1\n",
    "        self.direction = [0, 0]\n",
    "        self.vector2d_share()\n",
    "\n",
    "    def vector2d_share(self):\n",
    "        if type(self.deltaX) == type(list()) and type(self.deltaY) == type(list()):\n",
    "            deltaX, deltaY = self.deltaX, self.deltaY\n",
    "            self.deltaX = deltaY[0] - deltaX[0]\n",
    "            self.deltaY = deltaY[1] - deltaX[1]\n",
    "            self.length = math.sqrt(self.deltaX ** 2 + self.deltaY ** 2) * 1.0\n",
    "            if self.length > 0:\n",
    "                self.direction = [self.deltaX / self.length, self.deltaY / self.length]\n",
    "            else:\n",
    "                self.direction = None\n",
    "        else:\n",
    "            self.length = math.sqrt(self.deltaX ** 2 + self.deltaY ** 2) * 1.0\n",
    "            if self.length > 0:\n",
    "                self.direction = [self.deltaX / self.length, self.deltaY / self.length]\n",
    "            else:\n",
    "                self.direction = None\n",
    "\n",
    "    def __add__(self, other):\n",
    "        \"\"\"\n",
    "        :param other:\n",
    "        :return:\n",
    "        \"\"\"\n",
    "        vec = Vector2d(self.deltaX, self.deltaY)\n",
    "        vec.deltaX += other.deltaX\n",
    "        vec.deltaY += other.deltaY\n",
    "        vec.vector2d_share()\n",
    "        return vec\n",
    "\n",
    "    def __sub__(self, other):\n",
    "        vec = Vector2d(self.deltaX, self.deltaY)\n",
    "        vec.deltaX -= other.deltaX\n",
    "        vec.deltaY -= other.deltaY\n",
    "        vec.vector2d_share()\n",
    "        return vec\n",
    "\n",
    "    def __mul__(self, other):\n",
    "        vec = Vector2d(self.deltaX, self.deltaY)\n",
    "        vec.deltaX *= other\n",
    "        vec.deltaY *= other\n",
    "        vec.vector2d_share()\n",
    "        return vec\n",
    "\n",
    "    def __truediv__(self, other):\n",
    "        return self.__mul__(1.0 / other)\n",
    "\n",
    "    def __repr__(self):\n",
    "        return 'Vector deltaX:{}, deltaY:{}, length:{}, direction:{}'.format(self.deltaX, self.deltaY, self.length,\n",
    "                                                                             self.direction)\n",
    "\n",
    "\n",
    "class APF():\n",
    "\n",
    "\n",
    "    def __init__(self, start: (), goal: (), obstacles: [], k_att: float, k_rep: float, rr: float,\n",
    "                 step_size: float, max_iters: int, goal_threshold: float, is_plot=False):\n",
    "        \"\"\"\n",
    "        :param start:\n",
    "        :param goal: \n",
    "        :param obstacles: \n",
    "        :param k_att: \n",
    "        :param k_rep: \n",
    "        :param rr: \n",
    "        :param step_size: \n",
    "        :param max_iters:\n",
    "        :param goal_threshold: \n",
    "        :param is_plot: \n",
    "        \"\"\"\n",
    "        self.start = Vector2d(start[0], start[1])\n",
    "        self.current_pos = Vector2d(start[0], start[1])\n",
    "        self.goal = Vector2d(goal[0], goal[1])\n",
    "        self.obstacles = [Vector2d(OB[0], OB[1]) for OB in obstacles]\n",
    "        self.k_att = k_att\n",
    "        self.k_rep = k_rep\n",
    "        self.rr = rr  \n",
    "        self.step_size = step_size\n",
    "        self.max_iters = max_iters\n",
    "        self.iters = 0\n",
    "        self.goal_threashold = goal_threshold\n",
    "        self.path = list()\n",
    "        self.is_path_plan_success = False\n",
    "        self.is_plot = is_plot\n",
    "        self.delta_t = 0.01\n",
    "\n",
    "    def attractive(self):\n",
    "\n",
    "        att = (self.goal - self.current_pos) * self.k_att \n",
    "        return att\n",
    "\n",
    " \n",
    "\n",
    "class APF_Improved(APF):\n",
    "    def __init__(self, start: (), goal: (), obstacles: [], k_att: float, k_rep: float, rr: float,\n",
    "                 robot_radius: float, step_size: float, max_iters: int, goal_threshold: float, is_plot=False):\n",
    "        self.start = Vector2d(start[0], start[1])\n",
    "        self.current_pos = Vector2d(start[0], start[1])\n",
    "        self.goal = Vector2d(goal[0], goal[1])\n",
    "        self.obstacles = [Vector2d(OB[0], OB[1]) for OB in obstacles]\n",
    "        self.k_att = k_att\n",
    "        self.k_rep = k_rep\n",
    "        self.rr = rr  # Radius of repulsion (circle radius)\n",
    "        self.robot_radius = robot_radius  # Robot's radius\n",
    "        self.step_size = step_size\n",
    "        self.max_iters = max_iters\n",
    "        self.iters = 0\n",
    "        self.goal_threashold = goal_threshold\n",
    "        self.path = list()\n",
    "        self.is_path_plan_success = False\n",
    "        self.is_plot = is_plot\n",
    "        self.delta_t = 0.01\n",
    "\n",
    "    def repulsion(self):\n",
    "        rep = Vector2d(0, 0)\n",
    "        for obstacle in self.obstacles:\n",
    "            obs_to_rob = self.current_pos - obstacle\n",
    "            rob_to_goal = self.goal - self.current_pos\n",
    "            distance_to_obstacle = obs_to_rob.length - self.robot_radius\n",
    "            if distance_to_obstacle <= self.rr:  # Check if the obstacle is within the repulsion radius\n",
    "                rep_1 = Vector2d(obs_to_rob.direction[0], obs_to_rob.direction[1]) * self.k_rep * (\n",
    "                            1.0 - distance_to_obstacle / self.rr) * (rob_to_goal.length ** 2)\n",
    "                rep_2 = Vector2d(rob_to_goal.direction[0], rob_to_goal.direction[1]) * self.k_rep * (\n",
    "                            (1.0 - distance_to_obstacle / self.rr) ** 2) * rob_to_goal.length\n",
    "                rep += rep_1 + rep_2\n",
    "        return rep\n",
    "\n",
    "\n",
    "    def path_plan(self):\n",
    "        \"\"\"\n",
    "        path plan\n",
    "        :return:\n",
    "        \"\"\"\n",
    "        while (self.iters < self.max_iters and (self.current_pos - self.goal).length > self.goal_threashold):\n",
    "            f_vec = self.attractive() + self.repulsion()\n",
    "            self.current_pos += Vector2d(f_vec.direction[0], f_vec.direction[1]) * self.step_size\n",
    "            self.iters += 1\n",
    "            self.path.append([self.current_pos.deltaX, self.current_pos.deltaY])\n",
    "\n",
    "        if (self.current_pos - self.goal).length <= self.goal_threashold:\n",
    "            self.is_path_plan_success = True\n",
    "\n",
    "    def rt_path_plan(self):\n",
    "        \"\"\"\n",
    "        path plan\n",
    "        :return:\n",
    "        \"\"\"\n",
    "        f_vec = self.attractive() + self.repulsion()\n",
    "        self.current_pos += Vector2d(f_vec.direction[0], f_vec.direction[1]) * self.step_size\n",
    "        return ([self.current_pos.deltaX, self.current_pos.deltaY])    \n",
    "\n",
    "if __name__ == '__main__':\n",
    "\n",
    "    robot.scan_future = rclpy.Future()\n",
    "    robot.odom_future = rclpy.Future()\n",
    "    robot.spin_until_future_completed(robot.scan_future)\n",
    "    robot.spin_until_future_completed(robot.odom_future)\n",
    "    pose = robot.last_odom_msg.pose.pose\n",
    "    msg = robot.last_scan_msg\n",
    "    \n",
    "\n",
    "    k_att, k_rep = 5., 2\n",
    "    rr =  0.2 #3\n",
    "    step_size, max_iters, goal_threashold = .2, 1000 , .1\n",
    "    step_size_ = .4\n",
    "    robot_radius = 0.2\n",
    "    start = (pose.position.x , pose.position.y)\n",
    "    goal = (3, 0)\n",
    "    is_plot = True\n",
    "\n",
    "    print(start)\n",
    "  \n",
    "    ################\n",
    "    # robot.reset_odometry()\n",
    "\n",
    "    transformed_obs = plot_lidar_scan_points_working(robot.last_scan_msg,pose)\n",
    "\n",
    "\n",
    "    ########################\n",
    "    # path plan\n",
    "    if is_plot:\n",
    "        apf = APF_Improved(start, goal, transformed_obs, k_att, k_rep, rr,robot_radius , step_size, max_iters, goal_threashold, is_plot)\n",
    "    else:\n",
    "        apf = APF_Improved(start, goal, transformed_obs, k_att, k_rep, rr, robot_radius ,step_size, max_iters, goal_threashold, is_plot)\n",
    "    apf.path_plan()\n",
    "    x_co = []\n",
    "    y_co = []\n",
    "    if apf.is_path_plan_success:\n",
    "        path = apf.path\n",
    "        path_ = []\n",
    "        i = int(step_size_ / step_size)\n",
    "        while (i < len(path)):\n",
    "            path_.append(path[i])\n",
    "            i += int(step_size_ / step_size)\n",
    "        # print(\"path len = \" , len(path))\n",
    "        if (len(path)!= 0) and (path_[-1] != path[-1]):  \n",
    "            path_.append(path[-1])\n",
    "\n",
    "        for point in path_:\n",
    "            print(point)\n",
    "            x_co.append(point[0])\n",
    "            y_co.append(point[1])\n",
    "            \n",
    "        print('planed path points:{}'.format(path_))\n",
    "        print('path plan success')\n",
    "    else:\n",
    "        print('path plan failed')\n",
    "\n",
    "    \n",
    "    fig = plt.figure(figsize=(7, 7))\n",
    "    subplot = fig.add_subplot(111)\n",
    "    subplot.set_xlabel('X-distance: m')\n",
    "    subplot.set_ylabel('Y-distance: m')\n",
    "    subplot.plot(start[0], start[1], '1' , color = 'green')\n",
    "    subplot.plot(goal[0], goal[1], '*r')\n",
    "    subplot.plot(x_co ,y_co , '.')\n",
    "    for OB in transformed_obs:\n",
    "        circle = Circle(xy=(OB[0], OB[1]), radius=rr, alpha=0.02)\n",
    "        subplot.add_patch(circle)\n",
    "        subplot.plot(OB[0], OB[1], 'xk')\n",
    "    plt.show()\n",
    "\n"
   ]
  },
  {
   "cell_type": "markdown",
   "metadata": {},
   "source": [
    "## HELPER FUNCTIONS"
   ]
  },
  {
   "cell_type": "code",
   "execution_count": 7,
   "metadata": {},
   "outputs": [
    {
     "name": "stdout",
     "output_type": "stream",
     "text": [
      "None\n"
     ]
    }
   ],
   "source": [
    "def generate_path(goal , robot_radius = 0.2 , step_size_ = 0.4):\n",
    "\n",
    "    robot.odom_future = rclpy.Future()\n",
    "    robot.spin_until_future_completed(robot.odom_future)\n",
    "    pose = robot.last_odom_msg.pose.pose\n",
    "    msg = robot.last_scan_msg\n",
    "\n",
    "    k_att, k_rep = 5., 2.\n",
    "    rr =  0.3 #3\n",
    "    step_size, max_iters, goal_threashold = .2, 1500 , .1\n",
    "    step_size_ = step_size_\n",
    "    robot_radius = robot_radius\n",
    "    start = (pose.position.x , pose.position.y)\n",
    "    goal = (goal[0], goal[1])\n",
    "  \n",
    "    ################\n",
    "    # robot.reset_odometry()\n",
    "\n",
    "\n",
    "    transformed_obs = plot_lidar_scan_points_working(robot.last_scan_msg,pose)\n",
    "\n",
    "    ########################\n",
    "\n",
    "    # path plan\n",
    "    apf = APF_Improved(start, goal, transformed_obs, k_att, k_rep, rr, robot_radius , step_size, max_iters, goal_threashold, is_plot)\n",
    "    apf.path_plan()\n",
    "    if apf.is_path_plan_success:\n",
    "        path = apf.path\n",
    "        path_ = []\n",
    "        i = int(step_size_ / step_size)\n",
    "        while (i < len(path)):\n",
    "            path_.append(path[i])\n",
    "            i += int(step_size_ / step_size)\n",
    "        if (len(path)!= 0) and (path_[-1] != path[-1]):\n",
    "            path_.append(path[-1])\n",
    "        else:\n",
    "            pass\n",
    "        \n",
    "        if len(path_) != 0:\n",
    "            return path_\n",
    "        else:\n",
    "            pass\n",
    "    \n",
    "    \n",
    "\n",
    "def GoTo(desiredx,desiredy):\n",
    "    while True:\n",
    "        # Localization\n",
    "        robot.odom_future = rclpy.Future()\n",
    "        pose = robot.spin_until_future_completed(robot.odom_future).pose.pose\n",
    "        (currentx, currenty) = (pose.position.x, pose.position.y)\n",
    "        yaw = np.arctan2(2 * (pose.orientation.w * pose.orientation.z + pose.orientation.x * pose.orientation.y),1 - 2 * (pose.orientation.y ** 2 + pose.orientation.z ** 2))\n",
    "\n",
    "        # Navigation\n",
    "        distance = np.sqrt((np.square(desiredx-currentx))+(np.square(desiredy-currenty)))\n",
    "        angle_goal = np.arctan2((desiredy-currenty),(desiredx-currentx))\n",
    "        angle_diff_rad = np.arctan2(np.sin(angle_goal-yaw), np.cos(angle_goal-yaw))\n",
    "        vel_dir =  1*angle_diff_rad\n",
    "        # print(angle_diff_rad)\n",
    "        # print(\"x_pos\" , currentx , \"y_pos\" , currenty ,\"dist\",distance,\"angle\",yaw,\"angle_goal\",angle_goal,end=\"\\r\")\n",
    "        msg = Twist()\n",
    "        \n",
    "        if abs(angle_diff_rad) > 0.03:\n",
    "            msg.linear.x = 0. #min(0.02, 1. * distance)\n",
    "            msg.angular.z = float(max(-0.4,min(0.4, 0.25 * (vel_dir))))\n",
    "            robot.cmd_vel_publisher.publish(msg)\n",
    "        else:\n",
    "            break\n",
    "\n",
    "    while True:\n",
    "        robot.odom_future = rclpy.Future()\n",
    "        pose = robot.spin_until_future_completed(robot.odom_future).pose.pose\n",
    "        (currentx, currenty) = (pose.position.x, pose.position.y)\n",
    "        # print(\"x_pos\" , currentx , \"y_pos\" , currenty ,\"dist\",distance,\"angle\",yaw,\"angle_goal\",angle_goal,end=\"\\r\")\n",
    "      \n",
    "        distance = np.sqrt((np.square(desiredx-currentx))+(np.square(desiredy-currenty)))\n",
    "        msg.linear.x = max(0.15 , 1.0*0.2*distance)\n",
    "        msg.angular.z = 0. #max(-0.1,min(0.1, 0.25 * (desired_yaw-yaw)))\n",
    "        robot.cmd_vel_publisher.publish(msg)\n",
    "        if(distance<0.07):\n",
    "            return\n",
    "        \n",
    "\n",
    "def generate_real_time_path(goal , robot_radius = 0.2):\n",
    "\n",
    "    robot.odom_future = rclpy.Future()\n",
    "    robot.spin_until_future_completed(robot.odom_future)\n",
    "    pose = robot.last_odom_msg.pose.pose\n",
    "    msg = robot.last_scan_msg\n",
    "\n",
    "    k_att, k_rep = 4., 1.5\n",
    "    rr =  0.2 #3\n",
    "    step_size, max_iters, goal_threashold = .2, 1500 , .1\n",
    "    robot_radius = robot_radius\n",
    "    start = (pose.position.x , pose.position.y)\n",
    "    goal = (goal[0], goal[1])\n",
    "  \n",
    "    ################\n",
    "    # robot.reset_odometry()\n",
    "\n",
    "\n",
    "    transformed_obs = plot_lidar_scan_points_working(robot.last_scan_msg,pose)\n",
    "\n",
    "    ########################\n",
    "    # path plan\n",
    "    apf = APF_Improved(start, goal, transformed_obs, k_att, k_rep, rr, robot_radius , step_size, max_iters, goal_threashold, is_plot)\n",
    "    point = apf.rt_path_plan()\n",
    "    return point\n",
    "\n",
    "            \n",
    "goal = (0,2.5)\n",
    "# print(generate_path(goal , 0.2))\n",
    "\n",
    "\n"
   ]
  },
  {
   "cell_type": "markdown",
   "metadata": {},
   "source": [
    "## AVOID OBSTACLES"
   ]
  },
  {
   "cell_type": "code",
   "execution_count": 38,
   "metadata": {},
   "outputs": [],
   "source": [
    "# robot.reset_odometry()\n",
    "goal  = (3, 0)\n",
    "# goals = generate_path(goal , robot_radius)\n",
    "# print(goals)\n",
    "robot_radius = 0.2\n",
    "#static\n",
    "# path = generate_path(goal , robot_radius)\n",
    "# for point in path:\n",
    "#     print(point)\n",
    "#     GoTo(point[1] , -point[0])\n",
    "\n",
    "#dynamic\n",
    "while True:\n",
    "    robot.odom_future = rclpy.Future()\n",
    "    pose = robot.spin_until_future_completed(robot.odom_future).pose.pose\n",
    "    (currentx, currenty) = (pose.position.x, pose.position.y)\n",
    "    try:\n",
    "        path = generate_path(goal)\n",
    "    except:\n",
    "        break\n",
    "    if path is not None:\n",
    "        point  = path[0]\n",
    "        print(\"At: \" , currentx , \", \" , currenty ,\"\\n Next point: \" , point , end = '\\r')\n",
    "        GoTo(point[0] , point[1])\n",
    "    else:\n",
    "        print(\"going to goal\")\n",
    "        break\n",
    "        \n",
    "\n",
    "GoTo(goal[0] , goal[1])\n",
    "robot.odom_future = rclpy.Future()\n",
    "pose = robot.spin_until_future_completed(robot.odom_future).pose.pose\n",
    "(currentx, currenty) = (pose.position.x, pose.position.y)\n",
    "print(\"At: \" , currentx , \", \" , currenty)\n",
    "print(\"\\n Reached Goal\")\n",
    "\n",
    "\n",
    "\n",
    "\n"
   ]
  },
  {
   "cell_type": "code",
   "execution_count": 11,
   "metadata": {},
   "outputs": [
    {
     "name": "stdout",
     "output_type": "stream",
     "text": [
      "At:  -4.323174289311282e-05 ,  5.060117837274447e-05 \n",
      "At:  0.1380152702331543 ,  -0.0008772864239290357 267e-05]\n",
      "At:  0.28704583644866943 ,  -0.0014932537451386452 0865509]\n",
      "At:  0.4303326904773712 ,  -0.0023204952012747526 5840192]\n",
      "At:  0.5817863941192627 ,  -0.0030481601133942604 1411217]\n",
      "At:  0.7261751294136047 ,  -0.004421749617904425 63595112]\n",
      "At:  0.8754744529724121 ,  -0.005579222925007343 8409749]\n",
      "At:  1.0272289514541626 ,  -0.0068877264857292175 90579]\n",
      "At:  1.1777974367141724 ,  -0.0080678416416049 731654965]\n",
      "At:  1.3261581659317017 ,  -0.009765136986970901 922935]\n",
      " Next point:  [1.5319662176578817, -0.00856157777698463]\r"
     ]
    },
    {
     "ename": "KeyboardInterrupt",
     "evalue": "",
     "output_type": "error",
     "traceback": [
      "\u001b[0;31m---------------------------------------------------------------------------\u001b[0m",
      "\u001b[0;31mKeyboardInterrupt\u001b[0m                         Traceback (most recent call last)",
      "\u001b[0;32m/tmp/ipykernel_10512/3725861786.py\u001b[0m in \u001b[0;36m<module>\u001b[0;34m\u001b[0m\n\u001b[1;32m     12\u001b[0m \u001b[0;34m\u001b[0m\u001b[0m\n\u001b[1;32m     13\u001b[0m     \u001b[0mprint\u001b[0m\u001b[0;34m(\u001b[0m\u001b[0;34m\"At: \"\u001b[0m \u001b[0;34m,\u001b[0m \u001b[0mcurrentx\u001b[0m \u001b[0;34m,\u001b[0m \u001b[0;34m\", \"\u001b[0m \u001b[0;34m,\u001b[0m \u001b[0mcurrenty\u001b[0m \u001b[0;34m,\u001b[0m\u001b[0;34m\"\\n Next point: \"\u001b[0m \u001b[0;34m,\u001b[0m \u001b[0mpoint\u001b[0m \u001b[0;34m,\u001b[0m \u001b[0mend\u001b[0m \u001b[0;34m=\u001b[0m \u001b[0;34m'\\r'\u001b[0m\u001b[0;34m)\u001b[0m\u001b[0;34m\u001b[0m\u001b[0;34m\u001b[0m\u001b[0m\n\u001b[0;32m---> 14\u001b[0;31m     \u001b[0mGoTo\u001b[0m\u001b[0;34m(\u001b[0m\u001b[0mpoint\u001b[0m\u001b[0;34m[\u001b[0m\u001b[0;36m0\u001b[0m\u001b[0;34m]\u001b[0m\u001b[0;34m,\u001b[0m \u001b[0mpoint\u001b[0m\u001b[0;34m[\u001b[0m\u001b[0;36m1\u001b[0m\u001b[0;34m]\u001b[0m\u001b[0;34m)\u001b[0m\u001b[0;34m\u001b[0m\u001b[0;34m\u001b[0m\u001b[0m\n\u001b[0m\u001b[1;32m     15\u001b[0m \u001b[0;34m\u001b[0m\u001b[0m\n\u001b[1;32m     16\u001b[0m \u001b[0mGoTo\u001b[0m\u001b[0;34m(\u001b[0m\u001b[0mgoal\u001b[0m\u001b[0;34m[\u001b[0m\u001b[0;36m0\u001b[0m\u001b[0;34m]\u001b[0m\u001b[0;34m,\u001b[0m \u001b[0mgoal\u001b[0m\u001b[0;34m[\u001b[0m\u001b[0;36m1\u001b[0m\u001b[0;34m]\u001b[0m\u001b[0;34m)\u001b[0m\u001b[0;34m\u001b[0m\u001b[0;34m\u001b[0m\u001b[0m\n",
      "\u001b[0;32m/tmp/ipykernel_10512/929522307.py\u001b[0m in \u001b[0;36mGoTo\u001b[0;34m(desiredx, desiredy)\u001b[0m\n\u001b[1;32m     70\u001b[0m     \u001b[0;32mwhile\u001b[0m \u001b[0;32mTrue\u001b[0m\u001b[0;34m:\u001b[0m\u001b[0;34m\u001b[0m\u001b[0;34m\u001b[0m\u001b[0m\n\u001b[1;32m     71\u001b[0m         \u001b[0mrobot\u001b[0m\u001b[0;34m.\u001b[0m\u001b[0modom_future\u001b[0m \u001b[0;34m=\u001b[0m \u001b[0mrclpy\u001b[0m\u001b[0;34m.\u001b[0m\u001b[0mFuture\u001b[0m\u001b[0;34m(\u001b[0m\u001b[0;34m)\u001b[0m\u001b[0;34m\u001b[0m\u001b[0;34m\u001b[0m\u001b[0m\n\u001b[0;32m---> 72\u001b[0;31m         \u001b[0mpose\u001b[0m \u001b[0;34m=\u001b[0m \u001b[0mrobot\u001b[0m\u001b[0;34m.\u001b[0m\u001b[0mspin_until_future_completed\u001b[0m\u001b[0;34m(\u001b[0m\u001b[0mrobot\u001b[0m\u001b[0;34m.\u001b[0m\u001b[0modom_future\u001b[0m\u001b[0;34m)\u001b[0m\u001b[0;34m.\u001b[0m\u001b[0mpose\u001b[0m\u001b[0;34m.\u001b[0m\u001b[0mpose\u001b[0m\u001b[0;34m\u001b[0m\u001b[0;34m\u001b[0m\u001b[0m\n\u001b[0m\u001b[1;32m     73\u001b[0m         \u001b[0;34m(\u001b[0m\u001b[0mcurrentx\u001b[0m\u001b[0;34m,\u001b[0m \u001b[0mcurrenty\u001b[0m\u001b[0;34m)\u001b[0m \u001b[0;34m=\u001b[0m \u001b[0;34m(\u001b[0m\u001b[0mpose\u001b[0m\u001b[0;34m.\u001b[0m\u001b[0mposition\u001b[0m\u001b[0;34m.\u001b[0m\u001b[0mx\u001b[0m\u001b[0;34m,\u001b[0m \u001b[0mpose\u001b[0m\u001b[0;34m.\u001b[0m\u001b[0mposition\u001b[0m\u001b[0;34m.\u001b[0m\u001b[0my\u001b[0m\u001b[0;34m)\u001b[0m\u001b[0;34m\u001b[0m\u001b[0;34m\u001b[0m\u001b[0m\n\u001b[1;32m     74\u001b[0m         \u001b[0;31m# print(\"x_pos\" , currentx , \"y_pos\" , currenty ,\"dist\",distance,\"angle\",yaw,\"angle_goal\",angle_goal,end=\"\\r\")\u001b[0m\u001b[0;34m\u001b[0m\u001b[0;34m\u001b[0m\u001b[0m\n",
      "\u001b[0;32m/opt/robohub/humble/lib/python3.10/site-packages/turtlebot4_wrapper/__init__.py\u001b[0m in \u001b[0;36mspin_until_future_completed\u001b[0;34m(self, future)\u001b[0m\n\u001b[1;32m    354\u001b[0m         \u001b[0;31m# Use while loop to be responsive to kernel interrupt\u001b[0m\u001b[0;34m\u001b[0m\u001b[0;34m\u001b[0m\u001b[0m\n\u001b[1;32m    355\u001b[0m         \u001b[0;31m# instead of\u001b[0m\u001b[0;34m\u001b[0m\u001b[0;34m\u001b[0m\u001b[0m\n\u001b[0;32m--> 356\u001b[0;31m         \u001b[0mrclpy\u001b[0m\u001b[0;34m.\u001b[0m\u001b[0mspin_until_future_complete\u001b[0m\u001b[0;34m(\u001b[0m\u001b[0mself\u001b[0m\u001b[0;34m,\u001b[0m\u001b[0mfuture\u001b[0m\u001b[0;34m)\u001b[0m\u001b[0;34m\u001b[0m\u001b[0;34m\u001b[0m\u001b[0m\n\u001b[0m\u001b[1;32m    357\u001b[0m         \u001b[0;31m#while not future.done():\u001b[0m\u001b[0;34m\u001b[0m\u001b[0;34m\u001b[0m\u001b[0m\n\u001b[1;32m    358\u001b[0m         \u001b[0;31m#    rclpy.spin_once(self)\u001b[0m\u001b[0;34m\u001b[0m\u001b[0;34m\u001b[0m\u001b[0m\n",
      "\u001b[0;32m/opt/ros/humble/local/lib/python3.10/dist-packages/rclpy/__init__.py\u001b[0m in \u001b[0;36mspin_until_future_complete\u001b[0;34m(node, future, executor, timeout_sec)\u001b[0m\n\u001b[1;32m    246\u001b[0m     \u001b[0;32mtry\u001b[0m\u001b[0;34m:\u001b[0m\u001b[0;34m\u001b[0m\u001b[0;34m\u001b[0m\u001b[0m\n\u001b[1;32m    247\u001b[0m         \u001b[0mexecutor\u001b[0m\u001b[0;34m.\u001b[0m\u001b[0madd_node\u001b[0m\u001b[0;34m(\u001b[0m\u001b[0mnode\u001b[0m\u001b[0;34m)\u001b[0m\u001b[0;34m\u001b[0m\u001b[0;34m\u001b[0m\u001b[0m\n\u001b[0;32m--> 248\u001b[0;31m         \u001b[0mexecutor\u001b[0m\u001b[0;34m.\u001b[0m\u001b[0mspin_until_future_complete\u001b[0m\u001b[0;34m(\u001b[0m\u001b[0mfuture\u001b[0m\u001b[0;34m,\u001b[0m \u001b[0mtimeout_sec\u001b[0m\u001b[0;34m)\u001b[0m\u001b[0;34m\u001b[0m\u001b[0;34m\u001b[0m\u001b[0m\n\u001b[0m\u001b[1;32m    249\u001b[0m     \u001b[0;32mfinally\u001b[0m\u001b[0;34m:\u001b[0m\u001b[0;34m\u001b[0m\u001b[0;34m\u001b[0m\u001b[0m\n\u001b[1;32m    250\u001b[0m         \u001b[0mexecutor\u001b[0m\u001b[0;34m.\u001b[0m\u001b[0mremove_node\u001b[0m\u001b[0;34m(\u001b[0m\u001b[0mnode\u001b[0m\u001b[0;34m)\u001b[0m\u001b[0;34m\u001b[0m\u001b[0;34m\u001b[0m\u001b[0m\n",
      "\u001b[0;32m/opt/ros/humble/local/lib/python3.10/dist-packages/rclpy/executors.py\u001b[0m in \u001b[0;36mspin_until_future_complete\u001b[0;34m(self, future, timeout_sec)\u001b[0m\n\u001b[1;32m    286\u001b[0m         \u001b[0;32mif\u001b[0m \u001b[0mtimeout_sec\u001b[0m \u001b[0;32mis\u001b[0m \u001b[0;32mNone\u001b[0m \u001b[0;32mor\u001b[0m \u001b[0mtimeout_sec\u001b[0m \u001b[0;34m<\u001b[0m \u001b[0;36m0\u001b[0m\u001b[0;34m:\u001b[0m\u001b[0;34m\u001b[0m\u001b[0;34m\u001b[0m\u001b[0m\n\u001b[1;32m    287\u001b[0m             \u001b[0;32mwhile\u001b[0m \u001b[0mself\u001b[0m\u001b[0;34m.\u001b[0m\u001b[0m_context\u001b[0m\u001b[0;34m.\u001b[0m\u001b[0mok\u001b[0m\u001b[0;34m(\u001b[0m\u001b[0;34m)\u001b[0m \u001b[0;32mand\u001b[0m \u001b[0;32mnot\u001b[0m \u001b[0mfuture\u001b[0m\u001b[0;34m.\u001b[0m\u001b[0mdone\u001b[0m\u001b[0;34m(\u001b[0m\u001b[0;34m)\u001b[0m \u001b[0;32mand\u001b[0m \u001b[0;32mnot\u001b[0m \u001b[0mself\u001b[0m\u001b[0;34m.\u001b[0m\u001b[0m_is_shutdown\u001b[0m\u001b[0;34m:\u001b[0m\u001b[0;34m\u001b[0m\u001b[0;34m\u001b[0m\u001b[0m\n\u001b[0;32m--> 288\u001b[0;31m                 \u001b[0mself\u001b[0m\u001b[0;34m.\u001b[0m\u001b[0mspin_once_until_future_complete\u001b[0m\u001b[0;34m(\u001b[0m\u001b[0mfuture\u001b[0m\u001b[0;34m,\u001b[0m \u001b[0mtimeout_sec\u001b[0m\u001b[0;34m)\u001b[0m\u001b[0;34m\u001b[0m\u001b[0;34m\u001b[0m\u001b[0m\n\u001b[0m\u001b[1;32m    289\u001b[0m         \u001b[0;32melse\u001b[0m\u001b[0;34m:\u001b[0m\u001b[0;34m\u001b[0m\u001b[0;34m\u001b[0m\u001b[0m\n\u001b[1;32m    290\u001b[0m             \u001b[0mstart\u001b[0m \u001b[0;34m=\u001b[0m \u001b[0mtime\u001b[0m\u001b[0;34m.\u001b[0m\u001b[0mmonotonic\u001b[0m\u001b[0;34m(\u001b[0m\u001b[0;34m)\u001b[0m\u001b[0;34m\u001b[0m\u001b[0;34m\u001b[0m\u001b[0m\n",
      "\u001b[0;32m/opt/ros/humble/local/lib/python3.10/dist-packages/rclpy/executors.py\u001b[0m in \u001b[0;36mspin_once_until_future_complete\u001b[0;34m(self, future, timeout_sec)\u001b[0m\n\u001b[1;32m    714\u001b[0m \u001b[0;34m\u001b[0m\u001b[0m\n\u001b[1;32m    715\u001b[0m     \u001b[0;32mdef\u001b[0m \u001b[0mspin_once_until_future_complete\u001b[0m\u001b[0;34m(\u001b[0m\u001b[0mself\u001b[0m\u001b[0;34m,\u001b[0m \u001b[0mfuture\u001b[0m\u001b[0;34m:\u001b[0m \u001b[0mFuture\u001b[0m\u001b[0;34m,\u001b[0m \u001b[0mtimeout_sec\u001b[0m\u001b[0;34m:\u001b[0m \u001b[0mfloat\u001b[0m \u001b[0;34m=\u001b[0m \u001b[0;32mNone\u001b[0m\u001b[0;34m)\u001b[0m \u001b[0;34m->\u001b[0m \u001b[0;32mNone\u001b[0m\u001b[0;34m:\u001b[0m\u001b[0;34m\u001b[0m\u001b[0;34m\u001b[0m\u001b[0m\n\u001b[0;32m--> 716\u001b[0;31m         \u001b[0mself\u001b[0m\u001b[0;34m.\u001b[0m\u001b[0mspin_once\u001b[0m\u001b[0;34m(\u001b[0m\u001b[0mtimeout_sec\u001b[0m\u001b[0;34m)\u001b[0m\u001b[0;34m\u001b[0m\u001b[0;34m\u001b[0m\u001b[0m\n\u001b[0m\u001b[1;32m    717\u001b[0m \u001b[0;34m\u001b[0m\u001b[0m\n\u001b[1;32m    718\u001b[0m \u001b[0;34m\u001b[0m\u001b[0m\n",
      "\u001b[0;32m/opt/ros/humble/local/lib/python3.10/dist-packages/rclpy/executors.py\u001b[0m in \u001b[0;36mspin_once\u001b[0;34m(self, timeout_sec)\u001b[0m\n\u001b[1;32m    703\u001b[0m     \u001b[0;32mdef\u001b[0m \u001b[0mspin_once\u001b[0m\u001b[0;34m(\u001b[0m\u001b[0mself\u001b[0m\u001b[0;34m,\u001b[0m \u001b[0mtimeout_sec\u001b[0m\u001b[0;34m:\u001b[0m \u001b[0mfloat\u001b[0m \u001b[0;34m=\u001b[0m \u001b[0;32mNone\u001b[0m\u001b[0;34m)\u001b[0m \u001b[0;34m->\u001b[0m \u001b[0;32mNone\u001b[0m\u001b[0;34m:\u001b[0m\u001b[0;34m\u001b[0m\u001b[0;34m\u001b[0m\u001b[0m\n\u001b[1;32m    704\u001b[0m         \u001b[0;32mtry\u001b[0m\u001b[0;34m:\u001b[0m\u001b[0;34m\u001b[0m\u001b[0;34m\u001b[0m\u001b[0m\n\u001b[0;32m--> 705\u001b[0;31m             \u001b[0mhandler\u001b[0m\u001b[0;34m,\u001b[0m \u001b[0mentity\u001b[0m\u001b[0;34m,\u001b[0m \u001b[0mnode\u001b[0m \u001b[0;34m=\u001b[0m \u001b[0mself\u001b[0m\u001b[0;34m.\u001b[0m\u001b[0mwait_for_ready_callbacks\u001b[0m\u001b[0;34m(\u001b[0m\u001b[0mtimeout_sec\u001b[0m\u001b[0;34m=\u001b[0m\u001b[0mtimeout_sec\u001b[0m\u001b[0;34m)\u001b[0m\u001b[0;34m\u001b[0m\u001b[0;34m\u001b[0m\u001b[0m\n\u001b[0m\u001b[1;32m    706\u001b[0m         \u001b[0;32mexcept\u001b[0m \u001b[0mShutdownException\u001b[0m\u001b[0;34m:\u001b[0m\u001b[0;34m\u001b[0m\u001b[0;34m\u001b[0m\u001b[0m\n\u001b[1;32m    707\u001b[0m             \u001b[0;32mpass\u001b[0m\u001b[0;34m\u001b[0m\u001b[0;34m\u001b[0m\u001b[0m\n",
      "\u001b[0;32m/opt/ros/humble/local/lib/python3.10/dist-packages/rclpy/executors.py\u001b[0m in \u001b[0;36mwait_for_ready_callbacks\u001b[0;34m(self, *args, **kwargs)\u001b[0m\n\u001b[1;32m    689\u001b[0m \u001b[0;34m\u001b[0m\u001b[0m\n\u001b[1;32m    690\u001b[0m             \u001b[0;32mtry\u001b[0m\u001b[0;34m:\u001b[0m\u001b[0;34m\u001b[0m\u001b[0;34m\u001b[0m\u001b[0m\n\u001b[0;32m--> 691\u001b[0;31m                 \u001b[0;32mreturn\u001b[0m \u001b[0mnext\u001b[0m\u001b[0;34m(\u001b[0m\u001b[0mself\u001b[0m\u001b[0;34m.\u001b[0m\u001b[0m_cb_iter\u001b[0m\u001b[0;34m)\u001b[0m\u001b[0;34m\u001b[0m\u001b[0;34m\u001b[0m\u001b[0m\n\u001b[0m\u001b[1;32m    692\u001b[0m             \u001b[0;32mexcept\u001b[0m \u001b[0mStopIteration\u001b[0m\u001b[0;34m:\u001b[0m\u001b[0;34m\u001b[0m\u001b[0;34m\u001b[0m\u001b[0m\n\u001b[1;32m    693\u001b[0m                 \u001b[0;31m# Generator ran out of work\u001b[0m\u001b[0;34m\u001b[0m\u001b[0;34m\u001b[0m\u001b[0m\n",
      "\u001b[0;32m/opt/ros/humble/local/lib/python3.10/dist-packages/rclpy/executors.py\u001b[0m in \u001b[0;36m_wait_for_ready_callbacks\u001b[0;34m(self, timeout_sec, nodes, condition)\u001b[0m\n\u001b[1;32m    586\u001b[0m \u001b[0;34m\u001b[0m\u001b[0m\n\u001b[1;32m    587\u001b[0m                 \u001b[0;31m# Wait for something to become ready\u001b[0m\u001b[0;34m\u001b[0m\u001b[0;34m\u001b[0m\u001b[0m\n\u001b[0;32m--> 588\u001b[0;31m                 \u001b[0mwait_set\u001b[0m\u001b[0;34m.\u001b[0m\u001b[0mwait\u001b[0m\u001b[0;34m(\u001b[0m\u001b[0mtimeout_nsec\u001b[0m\u001b[0;34m)\u001b[0m\u001b[0;34m\u001b[0m\u001b[0;34m\u001b[0m\u001b[0m\n\u001b[0m\u001b[1;32m    589\u001b[0m                 \u001b[0;32mif\u001b[0m \u001b[0mself\u001b[0m\u001b[0;34m.\u001b[0m\u001b[0m_is_shutdown\u001b[0m\u001b[0;34m:\u001b[0m\u001b[0;34m\u001b[0m\u001b[0;34m\u001b[0m\u001b[0m\n\u001b[1;32m    590\u001b[0m                     \u001b[0;32mraise\u001b[0m \u001b[0mShutdownException\u001b[0m\u001b[0;34m(\u001b[0m\u001b[0;34m)\u001b[0m\u001b[0;34m\u001b[0m\u001b[0;34m\u001b[0m\u001b[0m\n",
      "\u001b[0;31mKeyboardInterrupt\u001b[0m: "
     ]
    }
   ],
   "source": [
    "goal  = (3, 0)\n",
    "robot_radius = 0.25\n",
    "while True:\n",
    "    robot.odom_future = rclpy.Future()\n",
    "    pose = robot.spin_until_future_completed(robot.odom_future).pose.pose\n",
    "    (currentx, currenty) = (pose.position.x, pose.position.y)\n",
    "    # Generate a new path based on the updated obstacle positions\n",
    "    point = generate_real_time_path(goal, robot_radius)\n",
    "    # Navigate the robot along the path\\\n",
    "    if (point is None) or (get_distance(currentx , currenty , goal[0] , goal[1])  <= 0.15):\n",
    "        break\n",
    "\n",
    "    print(\"At: \" , currentx , \", \" , currenty ,\"\\n Next point: \" , point , end = '\\r')\n",
    "    GoTo(point[0], point[1])\n",
    "\n",
    "GoTo(goal[0], goal[1])\n",
    "print(\"\\n Reached Goal\")\n"
   ]
  },
  {
   "cell_type": "code",
   "execution_count": 18,
   "metadata": {},
   "outputs": [],
   "source": [
    "GoTo(1,0)"
   ]
  },
  {
   "cell_type": "code",
   "execution_count": 18,
   "metadata": {},
   "outputs": [],
   "source": [
    "def goal_potential_gradient(x)\n",
    "    return (1.,0.)\n",
    "\n",
    "def scan_callback(scan):\n",
    "    cmd = goal_potential_gradient(state)\n",
    "    for point in scan:\n",
    "        cmd += obs_potential_gradient(point)\n",
    "    drive(cart2cmd(cmd))\n",
    "    "
   ]
  },
  {
   "cell_type": "code",
   "execution_count": null,
   "metadata": {},
   "outputs": [],
   "source": [
    "desiredx,desiredy = (3,0)\n",
    "while True:\n",
    "    # Localization\n",
    "    robot.odom_future = rclpy.Future()\n",
    "    pose = robot.spin_until_future_completed(robot.odom_future).pose.pose\n",
    "    (currentx, currenty) = (pose.position.x, pose.position.y)\n",
    "    yaw = np.arctan2(2 * (pose.orientation.w * pose.orientation.z + pose.orientation.x * pose.orientation.y),1 - 2 * (pose.orientation.y ** 2 + pose.orientation.z ** 2))\n",
    "\n",
    "    # Navigation\n",
    "    distance = np.sqrt((np.square(desiredx-currentx))+(np.square(desiredy-currenty)))\n",
    "    angle_goal = np.arctan2((desiredy-currenty),(desiredx-currentx))\n",
    "    angle_diff_rad = np.arctan2(np.sin(angle_goal-yaw), np.cos(angle_goal-yaw))\n",
    "    vel_dir =  1*angle_diff_rad\n",
    "\n",
    "    msg = Twist()\n",
    "    \n",
    "    if abs(angle_diff_rad) > 0.03:\n",
    "        msg.linear.x = 0. #min(0.02, 1. * distance)\n",
    "        msg.angular.z = max(-0.4,min(0.4, 0.25 * (vel_dir)))\n",
    "        robot.cmd_vel_publisher.publish(msg)\n",
    "    else:\n",
    "        break"
   ]
  },
  {
   "cell_type": "code",
   "execution_count": null,
   "metadata": {},
   "outputs": [],
   "source": [
    "def GoTo(desiredx,desiredy):\n",
    "    while True:\n",
    "        # Localization\n",
    "        robot.odom_future = rclpy.Future()\n",
    "        pose = robot.spin_until_future_completed(robot.odom_future).pose.pose\n",
    "        (currentx, currenty) = (pose.position.x, pose.position.y)\n",
    "        yaw = np.arctan2(2 * (pose.orientation.w * pose.orientation.z + pose.orientation.x * pose.orientation.y),1 - 2 * (pose.orientation.y ** 2 + pose.orientation.z ** 2))\n",
    "\n",
    "        # Navigation\n",
    "        distance = np.sqrt((np.square(desiredx-currentx))+(np.square(desiredy-currenty)))\n",
    "        angle_goal = np.arctan2((desiredy-currenty),(desiredx-currentx))\n",
    "        angle_diff_rad = np.arctan2(np.sin(angle_goal-yaw), np.cos(angle_goal-yaw))\n",
    "        vel_dir =  1*angle_diff_rad\n",
    "        # print(angle_diff_rad)\n",
    "        # print(\"x_pos\" , currentx , \"y_pos\" , currenty ,\"dist\",distance,\"angle\",yaw,\"angle_goal\",angle_goal,end=\"\\r\")\n",
    "        msg = Twist()\n",
    "        \n",
    "        if abs(angle_diff_rad) > 0.03:\n",
    "            msg.linear.x = 0. #min(0.02, 1. * distance)\n",
    "            msg.angular.z = max(-0.4,min(0.4, 0.25 * (vel_dir)))\n",
    "            robot.cmd_vel_publisher.publish(msg)\n",
    "        else:\n",
    "            break\n",
    "\n",
    "    while True:\n",
    "        robot.odom_future = rclpy.Future()\n",
    "        pose = robot.spin_until_future_completed(robot.odom_future).pose.pose\n",
    "        (currentx, currenty) = (pose.position.x, pose.position.y)\n",
    "        # print(\"x_pos\" , currentx , \"y_pos\" , currenty ,\"dist\",distance,\"angle\",yaw,\"angle_goal\",angle_goal,end=\"\\r\")\n",
    "      \n",
    "        distance = np.sqrt((np.square(desiredx-currentx))+(np.square(desiredy-currenty)))\n",
    "        msg.linear.x = max(0.15 , 0.2*distance)\n",
    "        msg.angular.z = 0. #max(-0.1,min(0.1, 0.25 * (desired_yaw-yaw)))\n",
    "        robot.cmd_vel_publisher.publish(msg)\n",
    "        if(distance<0.07):\n",
    "            return"
   ]
  },
  {
   "cell_type": "code",
   "execution_count": 21,
   "metadata": {},
   "outputs": [
    {
     "name": "stdout",
     "output_type": "stream",
     "text": [
      "[10. 10. 10. 10.]\n"
     ]
    }
   ],
   "source": [
    "# import numpy\n",
    "import numpy as np\n",
    "# create list\n",
    "x1 = [0, 10 , 20 , 30]\n",
    "# convert the lists to 2D array using np.array\n",
    "# f = np.array([x1, x2])\n",
    "\n",
    "# compute the gradient of an N-dimensional array\n",
    "# and store the result in result\n",
    "result = np.gradient(x1)\n",
    "\n",
    "print(result)"
   ]
  },
  {
   "cell_type": "code",
   "execution_count": 61,
   "metadata": {},
   "outputs": [
    {
     "name": "stdout",
     "output_type": "stream",
     "text": [
      "[[-4.0, -4.0, 9.9], [-4.0, -2.666666666666667, 9.01], [-4.0, -1.3333333333333335, 8.23], [-4.0, 0.0, 7.62], [-4.0, 1.333333333333333, 7.2], [-4.0, 2.666666666666666, 7.01], [-4.0, 4.0, 7.07], [-2.666666666666667, -4.0, 9.01], [-2.666666666666667, -2.666666666666667, 8.01], [-2.666666666666667, -1.3333333333333335, 7.13], [-2.666666666666667, 0.0, 6.41], [-2.666666666666667, 1.333333333333333, 5.91], [-2.666666666666667, 2.666666666666666, 5.68], [-2.666666666666667, 4.0, 5.75], [-1.3333333333333335, -4.0, 8.23], [-1.3333333333333335, -2.666666666666667, 7.13], [-1.3333333333333335, -1.3333333333333335, 6.13], [-1.3333333333333335, 0.0, 5.27], [-1.3333333333333335, 1.333333333333333, 4.64], [-1.3333333333333335, 2.666666666666666, 4.35], [-1.3333333333333335, 4.0, 4.45], [0.0, -4.0, 7.62], [0.0, -2.666666666666667, 6.41], [0.0, -1.3333333333333335, 5.27], [0.0, 0.0, 4.24], [0.0, 1.333333333333333, 3.43], [0.0, 2.666666666666666, 3.02], [0.0, 4.0, 3.16], [1.333333333333333, -4.0, 7.2], [1.333333333333333, -2.666666666666667, 5.91], [1.333333333333333, -1.3333333333333335, 4.64], [1.333333333333333, 0.0, 3.43], [1.333333333333333, 1.333333333333333, 2.36], [1.333333333333333, 2.666666666666666, 1.7], [1.333333333333333, 4.0, 1.94], [2.666666666666666, -4.0, 7.01], [2.666666666666666, -2.666666666666667, 5.68], [2.666666666666666, -1.3333333333333335, 4.35], [2.666666666666666, 0.0, 3.02], [2.666666666666666, 1.333333333333333, 1.7], [2.666666666666666, 2.666666666666666, 0.47], [2.666666666666666, 4.0, 1.05], [4.0, -4.0, 7.07], [4.0, -2.666666666666667, 5.75], [4.0, -1.3333333333333335, 4.45], [4.0, 0.0, 3.16], [4.0, 1.333333333333333, 1.94], [4.0, 2.666666666666666, 1.05], [4.0, 4.0, 1.41]]\n"
     ]
    },
    {
     "data": {
      "image/png": "[encoded data removed]",
      "text/plain": [
       "<Figure size 432x288 with 1 Axes>"
      ]
     },
     "metadata": {
      "needs_background": "light"
     },
     "output_type": "display_data"
    }
   ],
   "source": [
    "import numpy as np\n",
    "import matplotlib.pyplot as plt\n",
    "\n",
    "def potential_func(x, y , goal_x , goal_y):\n",
    "    return np.sqrt((y - goal_y)**2 + (x - goal_x)**2)\n",
    "\n",
    "def create_goal_gradient(goal):\n",
    "    x = np.linspace(-4, 4, 7)\n",
    "    y = np.linspace(-4, 4, 7)\n",
    "    X, Y = np.meshgrid(x, y)\n",
    "    goal_kp = 1\n",
    "    points = []\n",
    "    for ptx in x:\n",
    "        for pty in y:\n",
    "            points.append([ptx,pty])\n",
    "\n",
    "    for pt in points:\n",
    "        potential = goal_kp*potential_func(pt[0] , pt[1] , goal[0] , goal[1])\n",
    "        pt.append(round(potential, 2))\n",
    "\n",
    "    return X,Y,points\n",
    "\n",
    "\n",
    "goal  = [3,3]\n",
    "X,Y,points = create_goal_gradient(goal)\n",
    "plt.plot(\n",
    "        [x[0] for x in points],\n",
    "        [x[1] for x in points],'b.')\n",
    "\n",
    "for pt in points:\n",
    "    plt.text(pt[0], pt[1], str(pt[2]), fontsize=10, color='red')\n",
    "    \n",
    "print(points)"
   ]
  },
  {
   "cell_type": "code",
   "execution_count": 2,
   "metadata": {},
   "outputs": [
    {
     "name": "stdout",
     "output_type": "stream",
     "text": [
      "[[-3.0, -3.0, 5.3852], [-3.0, -2.5, 5.2202], [-3.0, -2.0, 5.099], [-3.0, -1.5, 5.0249], [-3.0, -1.0, 5.0], [-3.0, -0.5, 5.0249], [-3.0, 0.0, 5.099], [-3.0, 0.5, 5.2202], [-3.0, 1.0, 5.3852], [-3.0, 1.5, 5.5902], [-3.0, 2.0, 5.831], [-3.0, 2.5, 6.1033], [-3.0, 3.0, 6.4031], [-2.5, -3.0, 4.9244], [-2.5, -2.5, 4.7434], [-2.5, -2.0, 4.6098], [-2.5, -1.5, 4.5277], [-2.5, -1.0, 4.5], [-2.5, -0.5, 4.5277], [-2.5, 0.0, 4.6098], [-2.5, 0.5, 4.7434], [-2.5, 1.0, 4.9244], [-2.5, 1.5, 5.1478], [-2.5, 2.0, 5.4083], [-2.5, 2.5, 5.7009], [-2.5, 3.0, 6.0208], [-2.0, -3.0, 4.4721], [-2.0, -2.5, 4.272], [-2.0, -2.0, 4.1231], [-2.0, -1.5, 4.0311], [-2.0, -1.0, 4.0], [-2.0, -0.5, 4.0311], [-2.0, 0.0, 4.1231], [-2.0, 0.5, 4.272], [-2.0, 1.0, 4.4721], [-2.0, 1.5, 4.717], [-2.0, 2.0, 5.0], [-2.0, 2.5, 5.3151], [-2.0, 3.0, 5.6569], [-1.5, -3.0, 4.0311], [-1.5, -2.5, 3.8079], [-1.5, -2.0, 3.6401], [-1.5, -1.5, 3.5355], [-1.5, -1.0, 3.5], [-1.5, -0.5, 3.5355], [-1.5, 0.0, 3.6401], [-1.5, 0.5, 3.8079], [-1.5, 1.0, 4.0311], [-1.5, 1.5, 4.3012], [-1.5, 2.0, 4.6098], [-1.5, 2.5, 4.9497], [-1.5, 3.0, 5.3151], [-1.0, -3.0, 3.6056], [-1.0, -2.5, 3.3541], [-1.0, -2.0, 3.1623], [-1.0, -1.5, 3.0414], [-1.0, -1.0, 3.0], [-1.0, -0.5, 3.0414], [-1.0, 0.0, 3.1623], [-1.0, 0.5, 3.3541], [-1.0, 1.0, 3.6056], [-1.0, 1.5, 3.9051], [-1.0, 2.0, 4.2426], [-1.0, 2.5, 4.6098], [-1.0, 3.0, 5.0], [-0.5, -3.0, 3.2016], [-0.5, -2.5, 2.9155], [-0.5, -2.0, 2.6926], [-0.5, -1.5, 2.5495], [-0.5, -1.0, 2.5], [-0.5, -0.5, 2.5495], [-0.5, 0.0, 2.6926], [-0.5, 0.5, 2.9155], [-0.5, 1.0, 3.2016], [-0.5, 1.5, 3.5355], [-0.5, 2.0, 3.9051], [-0.5, 2.5, 4.3012], [-0.5, 3.0, 4.717], [0.0, -3.0, 2.8284], [0.0, -2.5, 2.5], [0.0, -2.0, 2.2361], [0.0, -1.5, 2.0616], [0.0, -1.0, 2.0], [0.0, -0.5, 2.0616], [0.0, 0.0, 2.2361], [0.0, 0.5, 2.5], [0.0, 1.0, 2.8284], [0.0, 1.5, 3.2016], [0.0, 2.0, 3.6056], [0.0, 2.5, 4.0311], [0.0, 3.0, 4.4721], [0.5, -3.0, 2.5], [0.5, -2.5, 2.1213], [0.5, -2.0, 1.8028], [0.5, -1.5, 1.5811], [0.5, -1.0, 1.5], [0.5, -0.5, 1.5811], [0.5, 0.0, 1.8028], [0.5, 0.5, 2.1213], [0.5, 1.0, 2.5], [0.5, 1.5, 2.9155], [0.5, 2.0, 3.3541], [0.5, 2.5, 3.8079], [0.5, 3.0, 4.272], [1.0, -3.0, 2.2361], [1.0, -2.5, 1.8028], [1.0, -2.0, 1.4142], [1.0, -1.5, 1.118], [1.0, -1.0, 1.0], [1.0, -0.5, 1.118], [1.0, 0.0, 1.4142], [1.0, 0.5, 1.8028], [1.0, 1.0, 2.2361], [1.0, 1.5, 2.6926], [1.0, 2.0, 3.1623], [1.0, 2.5, 3.6401], [1.0, 3.0, 4.1231], [1.5, -3.0, 2.0616], [1.5, -2.5, 1.5811], [1.5, -2.0, 1.118], [1.5, -1.5, 0.7071], [1.5, -1.0, 0.5], [1.5, -0.5, 0.7071], [1.5, 0.0, 1.118], [1.5, 0.5, 1.5811], [1.5, 1.0, 2.0616], [1.5, 1.5, 2.5495], [1.5, 2.0, 3.0414], [1.5, 2.5, 3.5355], [1.5, 3.0, 4.0311], [2.0, -3.0, 2.0], [2.0, -2.5, 1.5], [2.0, -2.0, 1.0], [2.0, -1.5, 0.5], [2.0, -1.0, 0.0], [2.0, -0.5, 0.5], [2.0, 0.0, 1.0], [2.0, 0.5, 1.5], [2.0, 1.0, 2.0], [2.0, 1.5, 2.5], [2.0, 2.0, 3.0], [2.0, 2.5, 3.5], [2.0, 3.0, 4.0], [2.5, -3.0, 2.0616], [2.5, -2.5, 1.5811], [2.5, -2.0, 1.118], [2.5, -1.5, 0.7071], [2.5, -1.0, 0.5], [2.5, -0.5, 0.7071], [2.5, 0.0, 1.118], [2.5, 0.5, 1.5811], [2.5, 1.0, 2.0616], [2.5, 1.5, 2.5495], [2.5, 2.0, 3.0414], [2.5, 2.5, 3.5355], [2.5, 3.0, 4.0311], [3.0, -3.0, 2.2361], [3.0, -2.5, 1.8028], [3.0, -2.0, 1.4142], [3.0, -1.5, 1.118], [3.0, -1.0, 1.0], [3.0, -0.5, 1.118], [3.0, 0.0, 1.4142], [3.0, 0.5, 1.8028], [3.0, 1.0, 2.2361], [3.0, 1.5, 2.6926], [3.0, 2.0, 3.1623], [3.0, 2.5, 3.6401], [3.0, 3.0, 4.1231]]\n",
      "I am at: (-3, -3)\n",
      "prev pt was  (100, 100, 0)\n",
      "next pt should be [-2.5, -2.5, 4.7434]\n",
      "I am going to  [-2.5, -2.5, 4.7434]\n"
     ]
    },
    {
     "data": {
      "image/png": "[encoded data removed]",
      "text/plain": [
       "<Figure size 432x288 with 1 Axes>"
      ]
     },
     "metadata": {
      "needs_background": "light"
     },
     "output_type": "display_data"
    },
    {
     "name": "stdout",
     "output_type": "stream",
     "text": [
      "I am at: (-2.5, -2.5)\n",
      "prev pt was  (-3, -3)\n",
      "next pt should be [-2.0, -2.0, 4.1231]\n",
      "I am going to  [-2.0, -2.0, 4.1231]\n"
     ]
    },
    {
     "data": {
      "image/png": "[encoded data removed]",
      "text/plain": [
       "<Figure size 432x288 with 1 Axes>"
      ]
     },
     "metadata": {
      "needs_background": "light"
     },
     "output_type": "display_data"
    },
    {
     "name": "stdout",
     "output_type": "stream",
     "text": [
      "I am at: (-2.0, -2.0)\n",
      "prev pt was  (-2.5, -2.5)\n",
      "next pt should be [-1.5, -1.5, 3.5355]\n",
      "I am going to  [-1.5, -1.5, 3.5355]\n"
     ]
    },
    {
     "data": {
      "image/png": "[encoded data removed]",
      "text/plain": [
       "<Figure size 432x288 with 1 Axes>"
      ]
     },
     "metadata": {
      "needs_background": "light"
     },
     "output_type": "display_data"
    },
    {
     "name": "stdout",
     "output_type": "stream",
     "text": [
      "I am at: (-1.5, -1.5)\n",
      "prev pt was  (-2.0, -2.0)\n",
      "next pt should be [-1.0, -1.5, 3.0414]\n",
      "I am going to  [-1.0, -1.5, 3.0414]\n"
     ]
    },
    {
     "data": {
      "image/png": "[encoded data removed]",
      "text/plain": [
       "<Figure size 432x288 with 1 Axes>"
      ]
     },
     "metadata": {
      "needs_background": "light"
     },
     "output_type": "display_data"
    },
    {
     "name": "stdout",
     "output_type": "stream",
     "text": [
      "I am at: (-1.0, -1.5)\n",
      "prev pt was  (-1.5, -1.5)\n",
      "next pt should be [-0.5, -1.0, 2.5]\n",
      "I am going to  [-0.5, -1.0, 2.5]\n"
     ]
    },
    {
     "data": {
      "image/png": "[encoded data removed]",
      "text/plain": [
       "<Figure size 432x288 with 1 Axes>"
      ]
     },
     "metadata": {
      "needs_background": "light"
     },
     "output_type": "display_data"
    },
    {
     "name": "stdout",
     "output_type": "stream",
     "text": [
      "I am at: (-0.5, -1.0)\n",
      "prev pt was  (-1.0, -1.5)\n",
      "next pt should be [0.0, -1.0, 2.0]\n",
      "I am going to  [0.0, -1.0, 2.0]\n"
     ]
    },
    {
     "data": {
      "image/png": "[encoded data removed]",
      "text/plain": [
       "<Figure size 432x288 with 1 Axes>"
      ]
     },
     "metadata": {
      "needs_background": "light"
     },
     "output_type": "display_data"
    },
    {
     "name": "stdout",
     "output_type": "stream",
     "text": [
      "I am at: (0.0, -1.0)\n",
      "prev pt was  (-0.5, -1.0)\n",
      "next pt should be [0.5, -1.0, 1.5]\n",
      "I am going to  [0.5, -1.0, 1.5]\n"
     ]
    },
    {
     "data": {
      "image/png": "[encoded data removed]",
      "text/plain": [
       "<Figure size 432x288 with 1 Axes>"
      ]
     },
     "metadata": {
      "needs_background": "light"
     },
     "output_type": "display_data"
    },
    {
     "name": "stdout",
     "output_type": "stream",
     "text": [
      "I am at: (0.5, -1.0)\n",
      "prev pt was  (0.0, -1.0)\n",
      "next pt should be [1.0, -1.0, 1.0]\n",
      "I am going to  [1.0, -1.0, 1.0]\n"
     ]
    },
    {
     "data": {
      "image/png": "[encoded data removed]",
      "text/plain": [
       "<Figure size 432x288 with 1 Axes>"
      ]
     },
     "metadata": {
      "needs_background": "light"
     },
     "output_type": "display_data"
    },
    {
     "name": "stdout",
     "output_type": "stream",
     "text": [
      "I am at: (1.0, -1.0)\n",
      "prev pt was  (0.5, -1.0)\n",
      "next pt should be [1.5, -1.0, 0.5]\n",
      "I am going to  [1.5, -1.0, 0.5]\n"
     ]
    },
    {
     "data": {
      "image/png": "[encoded data removed]",
      "text/plain": [
       "<Figure size 432x288 with 1 Axes>"
      ]
     },
     "metadata": {
      "needs_background": "light"
     },
     "output_type": "display_data"
    },
    {
     "name": "stdout",
     "output_type": "stream",
     "text": [
      "I am at: (1.5, -1.0)\n",
      "prev pt was  (1.0, -1.0)\n",
      "next pt should be [2.0, -1.0, 0.0]\n",
      "I am going to  [2.0, -1.0, 0.0]\n"
     ]
    },
    {
     "data": {
      "image/png": "[encoded data removed]",
      "text/plain": [
       "<Figure size 432x288 with 1 Axes>"
      ]
     },
     "metadata": {
      "needs_background": "light"
     },
     "output_type": "display_data"
    }
   ],
   "source": [
    "import numpy as np\n",
    "import matplotlib.pyplot as plt\n",
    "\n",
    "global grid_range\n",
    "global num_grid_pts\n",
    "\n",
    "grid_range , num_grid_pts = 3 , 13\n",
    "\n",
    "def potential_func(x, y, goal_x, goal_y):\n",
    "    return np.sqrt((y - goal_y)**2 + (x - goal_x)**2)\n",
    "\n",
    "def create_goal_gradient(goal):\n",
    "    x = np.linspace(-grid_range, grid_range, num_grid_pts)  # Increase the number of points in the grid to capture more detail\n",
    "    y = np.linspace(-grid_range, grid_range, num_grid_pts)  # Increase the number of points in the grid to capture more detail\n",
    "    #X, Y = np.meshgrid(x, y)\n",
    "    goal_kp = 1\n",
    "    points = []\n",
    "    for ptx in x:\n",
    "        for pty in y:\n",
    "            points.append([round(ptx , 1), round(pty,1)])\n",
    "\n",
    "    for pt in points:\n",
    "        potential = goal_kp * potential_func(pt[0], pt[1], goal[0], goal[1])\n",
    "        pt.append(round(potential, 4))\n",
    "\n",
    "    return points\n",
    "\n",
    "def get_adjacent_points(point):\n",
    "    x, y = point\n",
    "    gap = round((grid_range*2)/(num_grid_pts-1) ,2)\n",
    "    adjacent_points = [\n",
    "        (round(x-gap , 2), y),   # Left\n",
    "        (round(x+gap , 2), y),   # Right\n",
    "        (x, round(y-gap , 2)),   # Down\n",
    "        (x, round(y+gap , 2)),   # Up\n",
    "        (round(x-gap , 2), round(y-gap , 2)), # Diagonal top-left\n",
    "        (round(x+gap , 2), round(y-gap , 2)), # Diagonal top-right\n",
    "        (round(x-gap , 2), round(y+gap , 2)), # Diagonal bottom-left\n",
    "        (round(x+gap , 2), round(y+gap , 2)) # Diagonal bottom-right\n",
    "    ]\n",
    "    \n",
    "    # print(\"unsorted adj points\")\n",
    "    # print(adjacent_points)\n",
    "    return adjacent_points\n",
    "\n",
    "def find_adjacent_point_with_lowest_value(points ,goal, reference_point , previous_pt ):\n",
    "    # points = create_goal_gradient(goal)\n",
    "    unsorted_adj = get_adjacent_points(reference_point)\n",
    "    # Find and filter adjacent points to the reference point\n",
    "    adjacent_points = [pt for pt in points if (pt[0], pt[1]) in unsorted_adj]\n",
    "    \n",
    "    \n",
    "    # Sort adjacent points based on their potential value\n",
    "    adjacent_points.sort(key=lambda pt: pt[2])\n",
    "    # print(\"sorted adj points\")\n",
    "    # print(adjacent_points)\n",
    "    \n",
    "    # Return the adjacent point with the lowest value\n",
    "    print(\"prev pt was \", previous_pt)\n",
    "    print(\"next pt should be\" , adjacent_points[0])\n",
    "    if ((adjacent_points[0][0] == previous_pt[0]) and (adjacent_points[0][1] == previous_pt[1]) ):\n",
    "        return adjacent_points[1]\n",
    "\n",
    "    return adjacent_points[0]\n",
    "\n",
    "def get_distance(pt1 , pt2):\n",
    "    return np.sqrt((pt1[0]-pt2[0])**2+((pt1[1]-pt2[1])**2))\n",
    "# np.sqrt(pt[0]**2 + pt[1]**2) <= 3:  # Points within a distance of 3 units from (0, 0)\n",
    "\n",
    "goal = [2, -1]\n",
    "reference_point = (0, 0)\n",
    "lowest_value_point = (-3,-3 , 1000)\n",
    "points = create_goal_gradient(goal)\n",
    "print(points)\n",
    "# for i in range(3):\n",
    "obs = ([-1,-1] ,[1,1] , [-1.5 ,-1])\n",
    "obs = plot_lidar_scan_points(robot.last_scan_msg,pose)\n",
    "for ob in obs:\n",
    "    for pt in points:\n",
    "        dist = get_distance(pt , ob)\n",
    "        if (dist <=  0.3):\n",
    "            # print(pt)\n",
    "            pt[2]+= (1- np.round(dist , 3))\n",
    "\n",
    "\n",
    "previous_pt = (100,100 , 0)\n",
    "reference_points = []\n",
    "while(lowest_value_point[2] > 0.2):\n",
    "# for i in range(15):\n",
    "\n",
    "    \n",
    "    reference_point = (lowest_value_point[0],lowest_value_point[1])\n",
    "    print(\"I am at:\" , reference_point)\n",
    "    # print(\"ref point is \" , reference_point)\n",
    "    lowest_value_point = find_adjacent_point_with_lowest_value(points , goal, reference_point , previous_pt)\n",
    "    print(\"I am going to \", lowest_value_point)\n",
    "    previous_pt = reference_point\n",
    "\n",
    "    # Plot all points with potential values\n",
    "    plt.plot(\n",
    "        [x[0] for x in points],\n",
    "        [x[1] for x in points], 'b.'\n",
    "    )\n",
    "\n",
    "    # for pt in points:\n",
    "    #     plt.text(pt[0], pt[1], str(pt[2]), fontsize=10, color='red')\n",
    "\n",
    "    # Plot adjacent point with the lowest value in green\n",
    "    plt.plot(\n",
    "        [lowest_value_point[0]],\n",
    "        [lowest_value_point[1]], 'go', markersize=10\n",
    "    )\n",
    "    plt.plot(\n",
    "        [x[0] for x in obs],\n",
    "        [x[1] for x in obs], 'xk'\n",
    "    )\n",
    "\n",
    "    plt.show()\n",
    "    # print(\"Adjacent point with the lowest value:\", lowest_value_point)"
   ]
  },
  {
   "cell_type": "code",
   "execution_count": 68,
   "metadata": {},
   "outputs": [
    {
     "name": "stdout",
     "output_type": "stream",
     "text": [
      "[-5.         -3.33333333 -1.66666667  0.          1.66666667  3.33333333\n",
      "  5.        ]\n",
      "1.6666666666666667\n"
     ]
    }
   ],
   "source": [
    "print(np.linspace(-5,5,7))\n",
    "print((10)/6)\n"
   ]
  },
  {
   "cell_type": "code",
   "execution_count": null,
   "metadata": {},
   "outputs": [],
   "source": [
    "def grad_to_vel(dx,dy):\n",
    "    while True:\n",
    "        # Localization\n",
    "        robot.odom_future = rclpy.Future()\n",
    "        pose = robot.spin_until_future_completed(robot.odom_future).pose.pose\n",
    "        (currentx, currenty) = (pose.position.x, pose.position.y)\n",
    "        yaw = np.arctan2(2 * (pose.orientation.w * pose.orientation.z + pose.orientation.x * pose.orientation.y),1 - 2 * (pose.orientation.y ** 2 + pose.orientation.z ** 2))\n",
    "\n",
    "        # Navigation\n",
    "        distance = np.sqrt((np.square(dx))+(np.square(dy)))\n",
    "        angle_goal = np.arctan2((dy),(dx))\n",
    "        angle_diff_rad = np.arctan2(np.sin(angle_goal-yaw), np.cos(angle_goal-yaw))\n",
    "        vel_dir =  1*angle_diff_rad\n",
    "        # print(angle_diff_rad)\n",
    "        # print(\"x_pos\" , currentx , \"y_pos\" , currenty ,\"dist\",distance,\"angle\",yaw,\"angle_goal\",angle_goal,end=\"\\r\")\n",
    "        msg = Twist()\n",
    "        \n",
    "        if abs(angle_diff_rad) > 0.03:\n",
    "            msg.linear.x = 0. #min(0.02, 1. * distance)\n",
    "            msg.angular.z = max(-0.4,min(0.4, 0.25 * (vel_dir)))\n",
    "            robot.cmd_vel_publisher.publish(msg)\n",
    "        else:\n",
    "            break\n",
    "        # print(\"x_pos\" , currentx , \"y_pos\" , currenty ,\"dist\",distance,\"angle\",yaw,\"angle_goal\",angle_goal,end=\"\\r\")\n",
    "      \n",
    "        distance = np.sqrt((np.square(dx))+(np.square(dy)))\n",
    "        msg.linear.x = max(0.15 , 0.2*distance)\n",
    "        msg.angular.z = 0. #max(-0.1,min(0.1, 0.25 * (desired_yaw-yaw)))\n",
    "        robot.cmd_vel_publisher.publish(msg)\n",
    "        if(distance<0.07):\n",
    "            return\n",
    "        \n",
    "\n"
   ]
  }
 ],
 "metadata": {
  "kernelspec": {
   "display_name": "Python 3",
   "language": "python",
   "name": "python3"
  },
  "language_info": {
   "codemirror_mode": {
    "name": "ipython",
    "version": 3
   },
   "file_extension": ".py",
   "mimetype": "text/x-python",
   "name": "python",
   "nbconvert_exporter": "python",
   "pygments_lexer": "ipython3",
   "version": "3.10.6"
  },
  "orig_nbformat": 4
 },
 "nbformat": 4,
 "nbformat_minor": 2
}
