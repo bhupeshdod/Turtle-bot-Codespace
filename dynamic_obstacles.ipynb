{
 "cells": [
  {
   "cell_type": "code",
   "execution_count": 18,
   "metadata": {},
   "outputs": [
    {
     "name": "stdout",
     "output_type": "stream",
     "text": [
      "You are connected to uwbot-02\n",
      "Robot is reachable\n",
      "ros2 topic echo --once /ip failed. Proceed with caution.\n",
      "ros2 topic subscription working. Everything is working as expected.\n"
     ]
    },
    {
     "name": "stderr",
     "output_type": "stream",
     "text": [
      "Could not determine the type for the passed topic\n"
     ]
    }
   ],
   "source": [
    "import turtlebot4_wrapper\n",
    "\n",
    "turtlebot4_wrapper.use_hardware()\n",
    "# turtlebot4_wrapper.use_simulation()\n",
    "\n",
    "# load ROS library\n",
    "import rclpy\n",
    "if not rclpy.ok():\n",
    "    rclpy.init()\n",
    "\n",
    "# Instantiate Wrapper. The subscribes and publishes the relevant topics and connects the actions.\n",
    "if not \"robot\" in globals():\n",
    "    robot = turtlebot4_wrapper.Robot()"
   ]
  },
  {
   "cell_type": "code",
   "execution_count": 64,
   "metadata": {},
   "outputs": [
    {
     "name": "stdout",
     "output_type": "stream",
     "text": [
      "Battery 40.0%, charging with -1.1A\n"
     ]
    }
   ],
   "source": [
    "# Make sure we have fresh data by waiting for a new message\n",
    "robot.reset_odometry()\n",
    "robot.battery_state_future = rclpy.Future()\n",
    "robot.spin_until_future_completed(robot.battery_state_future)\n",
    "\n",
    "# Pretty print the contents of the message\n",
    "print(\"Battery {0:2.3}%, charging with {1:2.2}A\".format(\n",
    "    robot.last_battery_state_msg.percentage*100,\n",
    "    robot.last_battery_state_msg.current\n",
    "))"
   ]
  },
  {
   "cell_type": "code",
   "execution_count": 65,
   "metadata": {},
   "outputs": [
    {
     "data": {
      "text/plain": [
       "(-3.0, 3.0)"
      ]
     },
     "execution_count": 65,
     "metadata": {},
     "output_type": "execute_result"
    },
    {
     "data": {
      "image/png": "[encoded data removed]",
      "text/plain": [
       "<Figure size 432x288 with 1 Axes>"
      ]
     },
     "metadata": {
      "needs_background": "light"
     },
     "output_type": "display_data"
    }
   ],
   "source": [
    "from matplotlib import pyplot as plt\n",
    "import numpy as np\n",
    "# Plot robot position from odometry\n",
    "# Use blue cross marker to designate the robot position\n",
    "\n",
    "robot.scan_future = rclpy.Future()\n",
    "robot.odom_future = rclpy.Future()\n",
    "robot.spin_until_future_completed(robot.scan_future);\n",
    "robot.spin_until_future_completed(robot.odom_future);\n",
    "pose = robot.last_odom_msg.pose.pose\n",
    "\n",
    "T_base_lidar = np.array([[ 2.22044605e-16, -1.00000000e+00, -4.00000000e-02],\n",
    "       [ 1.00000000e+00,  2.22044605e-16,  0.00000000e+00],\n",
    "       [ 0.00000000e+00,  0.00000000e+00,  1.00000000e+00]])\n",
    "\n",
    "\n",
    "# print(robot.last_scan_msg)\n",
    "# print(robot.last_odom_msg)\n",
    "# print(robot.reduce_transform_to_2D(robot.get_tf_transform(\"base_link\",\"rplidar_link\")))\n",
    "def get_distance(x1 , y1 , x2 ,y2):\n",
    "    return np.sqrt((x2-x1)**2+(y2-y1)**2)\n",
    "\n",
    "def is_not_rods(pt , x2 ,y2):\n",
    "    if get_distance(pt[0] ,pt[1] , x2, y2) >= 0.14:\n",
    "        return True\n",
    "    else:\n",
    "        return False\n",
    "\n",
    "# T_base_lidar = robot.reduce_transform_to_2D(robot.get_tf_transform(\"base_link\",\"rplidar_link\"))\n",
    "\n",
    "# Plot lidar points from last message\n",
    "def plot_lidar_scan_points_working(msg,pose):\n",
    "    # Convert received lidar points into cartesian coordinates considering the current position from odometry\n",
    "    import numpy\n",
    "    points = [(numpy.cos(angle)*radius,numpy.sin(angle)*radius) for angle, radius \\\n",
    "              in zip(numpy.linspace(msg.angle_min,msg.angle_max,len(msg.ranges)),msg.ranges)]\n",
    "    # print(points[0:5])\n",
    "\n",
    "    T = robot.reduce_transform_to_2D(robot.convert_odom_to_transform(pose))\n",
    "    # print(T)\n",
    "    \n",
    "    # remove points which cannot be measured\n",
    "    filtered_points = filter(lambda x: numpy.isfinite(x).all(),points)\n",
    "\n",
    "    \n",
    "    # display points in world frame\n",
    "    transformed_points = [numpy.matmul(np.dot(T,T_base_lidar),\n",
    "        numpy.vstack([ numpy.atleast_2d(x).T,numpy.ones((1,1)) ]) ) for x in \n",
    "                          filtered_points]\n",
    "    \n",
    "    # transformed_points = [pnt for pnt in transformed_points if abs(pnt[0]) <= 3 and abs(pnt[1]) <= 3]           \n",
    "    # # transformed_points = [pnt for pnt in transformed_points if abs(pnt[0]) >= 0.0 and abs(pnt[1]) >= 0.095]  \n",
    "    transformed_points = [pnt for pnt in transformed_points if is_not_rods(pnt , pose.position.x , pose.position.y )] \n",
    "\n",
    "    return transformed_points\n",
    "    \n",
    "    \n",
    "\n",
    "transformed_points = plot_lidar_scan_points_working(robot.last_scan_msg,pose)\n",
    "plt.plot([pose.position.x],[pose.position.y],'bx') # TODO: show robot front\n",
    "plt.plot(\n",
    "    [x[0] for x in transformed_points],\n",
    "    [x[1] for x in transformed_points],'r.')\n",
    "plt.ylim(-3.,3.)\n",
    "plt.xlim(-3.,3.)\n"
   ]
  },
  {
   "cell_type": "code",
   "execution_count": null,
   "metadata": {},
   "outputs": [],
   "source": [
    "robot.dock()"
   ]
  },
  {
   "cell_type": "code",
   "execution_count": 62,
   "metadata": {},
   "outputs": [],
   "source": [
    "import numpy as np\n",
    "import numpy as np\n",
    "from tf_transformations import euler_from_quaternion\n",
    "from geometry_msgs.msg import Twist\n",
    "\n",
    "def grad_to_vel(dx,dy):\n",
    "    while True:\n",
    "        # Localization\n",
    "        robot.scan_future = rclpy.Future()\n",
    "        robot.odom_future = rclpy.Future()\n",
    "        robot.spin_until_future_completed(robot.scan_future)\n",
    "        robot.spin_until_future_completed(robot.odom_future)\n",
    "        pose = robot.spin_until_future_completed(robot.odom_future).pose.pose\n",
    "        # (currentx, currenty) = (pose.position.x, pose.position.y)\n",
    "        yaw = np.arctan2(2 * (pose.orientation.w * pose.orientation.z + pose.orientation.x * pose.orientation.y),1 - 2 * (pose.orientation.y ** 2 + pose.orientation.z ** 2))\n",
    "\n",
    "        # Navigation\n",
    "        distance = np.sqrt((np.square(dx))+(np.square(dy)))\n",
    "        angle_goal = np.arctan2((dy),(dx))\n",
    "        angle_diff_rad = np.arctan2(np.sin(angle_goal-yaw), np.cos(angle_goal-yaw))\n",
    "        vel_dir =  1*angle_diff_rad\n",
    "        # print(angle_diff_rad)\n",
    "        # print(\"x_pos\" , currentx , \"y_pos\" , currenty ,\"dist\",distance,\"angle\",yaw,\"angle_goal\",angle_goal,end=\"\\r\")\n",
    "        msg = Twist()\n",
    "        \n",
    "        if abs(angle_diff_rad) > 0.03:\n",
    "            msg.linear.x = 0. #min(0.02, 1. * distance)\n",
    "            msg.angular.z = max(-0.4,min(0.4, 0.25 * (vel_dir)))\n",
    "            robot.cmd_vel_publisher.publish(msg)\n",
    "        else:\n",
    "            break\n",
    "        # print(\"x_pos\" , currentx , \"y_pos\" , currenty ,\"dist\",distance,\"angle\",yaw,\"angle_goal\",angle_goal,end=\"\\r\")\n",
    "      \n",
    "    distance = np.sqrt((np.square(dx))+(np.square(dy)))\n",
    "    msg.linear.x = max(0.17 , 0.1*distance)\n",
    "    msg.angular.z = 0. #max(-0.1,min(0.1, 0.25 * (desired_yaw-yaw)))\n",
    "    robot.cmd_vel_publisher.publish(msg)\n",
    "        # if(distance<0.07):\n",
    "        #     return\n",
    "\n",
    "def grad_to_vel_v2(dx,dy):\n",
    "    while True:\n",
    "        # Localization\n",
    "        robot.scan_future = rclpy.Future()\n",
    "        robot.odom_future = rclpy.Future()\n",
    "        robot.spin_until_future_completed(robot.scan_future)\n",
    "        robot.spin_until_future_completed(robot.odom_future)\n",
    "        pose = robot.spin_until_future_completed(robot.odom_future).pose.pose\n",
    "        # (currentx, currenty) = (pose.position.x, pose.position.y)\n",
    "        yaw = np.arctan2(2 * (pose.orientation.w * pose.orientation.z + pose.orientation.x * pose.orientation.y),1 - 2 * (pose.orientation.y ** 2 + pose.orientation.z ** 2))\n",
    "\n",
    "        # Navigation\n",
    "        distance = np.sqrt((np.square(dx))+(np.square(dy)))\n",
    "        angle_goal = np.arctan2((dy),(dx))\n",
    "        angle_diff_rad = np.arctan2(np.sin(angle_goal-yaw), np.cos(angle_goal-yaw))\n",
    "        vel_dir =  1*angle_diff_rad\n",
    "        # print(angle_diff_rad)\n",
    "        # print(\"x_pos\" , currentx , \"y_pos\" , currenty ,\"dist\",distance,\"angle\",yaw,\"angle_goal\",angle_goal,end=\"\\r\")\n",
    "        msg = Twist()\n",
    "        \n",
    "        if abs(angle_diff_rad) > 0.03:\n",
    "            msg.linear.x = 0.3\n",
    "            msg.angular.z = max(-0.4,min(0.4, 0.25 * (vel_dir)))\n",
    "            robot.cmd_vel_publisher.publish(msg)\n",
    "        else:\n",
    "            msg.linear.x = 0.3\n",
    "            msg.angular.z = 0.\n",
    "            robot.cmd_vel_publisher.publish(msg)\n",
    "            return\n",
    "\n",
    "def get_distance(x1 , y1 , x2 ,y2):\n",
    "    return np.sqrt((x2-x1)**2+(y2-y1)**2)\n",
    "        \n",
    "\n",
    "        \n",
    "\n"
   ]
  },
  {
   "cell_type": "code",
   "execution_count": 66,
   "metadata": {},
   "outputs": [
    {
     "name": "stdout",
     "output_type": "stream",
     "text": [
      "2.9398963558371576\r"
     ]
    },
    {
     "ename": "KeyboardInterrupt",
     "evalue": "",
     "output_type": "error",
     "traceback": [
      "\u001b[0;31m---------------------------------------------------------------------------\u001b[0m",
      "\u001b[0;31mKeyboardInterrupt\u001b[0m                         Traceback (most recent call last)",
      "\u001b[0;32m/tmp/ipykernel_537/2866762328.py\u001b[0m in \u001b[0;36m<module>\u001b[0;34m\u001b[0m\n\u001b[1;32m      7\u001b[0m     \u001b[0mrobot\u001b[0m\u001b[0;34m.\u001b[0m\u001b[0mscan_future\u001b[0m \u001b[0;34m=\u001b[0m \u001b[0mrclpy\u001b[0m\u001b[0;34m.\u001b[0m\u001b[0mFuture\u001b[0m\u001b[0;34m(\u001b[0m\u001b[0;34m)\u001b[0m\u001b[0;34m\u001b[0m\u001b[0;34m\u001b[0m\u001b[0m\n\u001b[1;32m      8\u001b[0m     \u001b[0mrobot\u001b[0m\u001b[0;34m.\u001b[0m\u001b[0modom_future\u001b[0m \u001b[0;34m=\u001b[0m \u001b[0mrclpy\u001b[0m\u001b[0;34m.\u001b[0m\u001b[0mFuture\u001b[0m\u001b[0;34m(\u001b[0m\u001b[0;34m)\u001b[0m\u001b[0;34m\u001b[0m\u001b[0;34m\u001b[0m\u001b[0m\n\u001b[0;32m----> 9\u001b[0;31m     \u001b[0mrobot\u001b[0m\u001b[0;34m.\u001b[0m\u001b[0mspin_until_future_completed\u001b[0m\u001b[0;34m(\u001b[0m\u001b[0mrobot\u001b[0m\u001b[0;34m.\u001b[0m\u001b[0mscan_future\u001b[0m\u001b[0;34m)\u001b[0m\u001b[0;34m\u001b[0m\u001b[0;34m\u001b[0m\u001b[0m\n\u001b[0m\u001b[1;32m     10\u001b[0m     \u001b[0modom\u001b[0m \u001b[0;34m=\u001b[0m \u001b[0mrobot\u001b[0m\u001b[0;34m.\u001b[0m\u001b[0mspin_until_future_completed\u001b[0m\u001b[0;34m(\u001b[0m\u001b[0mrobot\u001b[0m\u001b[0;34m.\u001b[0m\u001b[0modom_future\u001b[0m\u001b[0;34m)\u001b[0m\u001b[0;34m\u001b[0m\u001b[0;34m\u001b[0m\u001b[0m\n\u001b[1;32m     11\u001b[0m     \u001b[0mpose\u001b[0m \u001b[0;34m=\u001b[0m \u001b[0modom\u001b[0m\u001b[0;34m.\u001b[0m\u001b[0mpose\u001b[0m\u001b[0;34m.\u001b[0m\u001b[0mpose\u001b[0m\u001b[0;34m\u001b[0m\u001b[0;34m\u001b[0m\u001b[0m\n",
      "\u001b[0;32m/opt/robohub/humble/lib/python3.10/site-packages/turtlebot4_wrapper/__init__.py\u001b[0m in \u001b[0;36mspin_until_future_completed\u001b[0;34m(self, future)\u001b[0m\n\u001b[1;32m    354\u001b[0m         \u001b[0;31m# Use while loop to be responsive to kernel interrupt\u001b[0m\u001b[0;34m\u001b[0m\u001b[0;34m\u001b[0m\u001b[0m\n\u001b[1;32m    355\u001b[0m         \u001b[0;31m# instead of\u001b[0m\u001b[0;34m\u001b[0m\u001b[0;34m\u001b[0m\u001b[0m\n\u001b[0;32m--> 356\u001b[0;31m         \u001b[0mrclpy\u001b[0m\u001b[0;34m.\u001b[0m\u001b[0mspin_until_future_complete\u001b[0m\u001b[0;34m(\u001b[0m\u001b[0mself\u001b[0m\u001b[0;34m,\u001b[0m\u001b[0mfuture\u001b[0m\u001b[0;34m)\u001b[0m\u001b[0;34m\u001b[0m\u001b[0;34m\u001b[0m\u001b[0m\n\u001b[0m\u001b[1;32m    357\u001b[0m         \u001b[0;31m#while not future.done():\u001b[0m\u001b[0;34m\u001b[0m\u001b[0;34m\u001b[0m\u001b[0m\n\u001b[1;32m    358\u001b[0m         \u001b[0;31m#    rclpy.spin_once(self)\u001b[0m\u001b[0;34m\u001b[0m\u001b[0;34m\u001b[0m\u001b[0m\n",
      "\u001b[0;32m/opt/ros/humble/local/lib/python3.10/dist-packages/rclpy/__init__.py\u001b[0m in \u001b[0;36mspin_until_future_complete\u001b[0;34m(node, future, executor, timeout_sec)\u001b[0m\n\u001b[1;32m    246\u001b[0m     \u001b[0;32mtry\u001b[0m\u001b[0;34m:\u001b[0m\u001b[0;34m\u001b[0m\u001b[0;34m\u001b[0m\u001b[0m\n\u001b[1;32m    247\u001b[0m         \u001b[0mexecutor\u001b[0m\u001b[0;34m.\u001b[0m\u001b[0madd_node\u001b[0m\u001b[0;34m(\u001b[0m\u001b[0mnode\u001b[0m\u001b[0;34m)\u001b[0m\u001b[0;34m\u001b[0m\u001b[0;34m\u001b[0m\u001b[0m\n\u001b[0;32m--> 248\u001b[0;31m         \u001b[0mexecutor\u001b[0m\u001b[0;34m.\u001b[0m\u001b[0mspin_until_future_complete\u001b[0m\u001b[0;34m(\u001b[0m\u001b[0mfuture\u001b[0m\u001b[0;34m,\u001b[0m \u001b[0mtimeout_sec\u001b[0m\u001b[0;34m)\u001b[0m\u001b[0;34m\u001b[0m\u001b[0;34m\u001b[0m\u001b[0m\n\u001b[0m\u001b[1;32m    249\u001b[0m     \u001b[0;32mfinally\u001b[0m\u001b[0;34m:\u001b[0m\u001b[0;34m\u001b[0m\u001b[0;34m\u001b[0m\u001b[0m\n\u001b[1;32m    250\u001b[0m         \u001b[0mexecutor\u001b[0m\u001b[0;34m.\u001b[0m\u001b[0mremove_node\u001b[0m\u001b[0;34m(\u001b[0m\u001b[0mnode\u001b[0m\u001b[0;34m)\u001b[0m\u001b[0;34m\u001b[0m\u001b[0;34m\u001b[0m\u001b[0m\n",
      "\u001b[0;32m/opt/ros/humble/local/lib/python3.10/dist-packages/rclpy/executors.py\u001b[0m in \u001b[0;36mspin_until_future_complete\u001b[0;34m(self, future, timeout_sec)\u001b[0m\n\u001b[1;32m    286\u001b[0m         \u001b[0;32mif\u001b[0m \u001b[0mtimeout_sec\u001b[0m \u001b[0;32mis\u001b[0m \u001b[0;32mNone\u001b[0m \u001b[0;32mor\u001b[0m \u001b[0mtimeout_sec\u001b[0m \u001b[0;34m<\u001b[0m \u001b[0;36m0\u001b[0m\u001b[0;34m:\u001b[0m\u001b[0;34m\u001b[0m\u001b[0;34m\u001b[0m\u001b[0m\n\u001b[1;32m    287\u001b[0m             \u001b[0;32mwhile\u001b[0m \u001b[0mself\u001b[0m\u001b[0;34m.\u001b[0m\u001b[0m_context\u001b[0m\u001b[0;34m.\u001b[0m\u001b[0mok\u001b[0m\u001b[0;34m(\u001b[0m\u001b[0;34m)\u001b[0m \u001b[0;32mand\u001b[0m \u001b[0;32mnot\u001b[0m \u001b[0mfuture\u001b[0m\u001b[0;34m.\u001b[0m\u001b[0mdone\u001b[0m\u001b[0;34m(\u001b[0m\u001b[0;34m)\u001b[0m \u001b[0;32mand\u001b[0m \u001b[0;32mnot\u001b[0m \u001b[0mself\u001b[0m\u001b[0;34m.\u001b[0m\u001b[0m_is_shutdown\u001b[0m\u001b[0;34m:\u001b[0m\u001b[0;34m\u001b[0m\u001b[0;34m\u001b[0m\u001b[0m\n\u001b[0;32m--> 288\u001b[0;31m                 \u001b[0mself\u001b[0m\u001b[0;34m.\u001b[0m\u001b[0mspin_once_until_future_complete\u001b[0m\u001b[0;34m(\u001b[0m\u001b[0mfuture\u001b[0m\u001b[0;34m,\u001b[0m \u001b[0mtimeout_sec\u001b[0m\u001b[0;34m)\u001b[0m\u001b[0;34m\u001b[0m\u001b[0;34m\u001b[0m\u001b[0m\n\u001b[0m\u001b[1;32m    289\u001b[0m         \u001b[0;32melse\u001b[0m\u001b[0;34m:\u001b[0m\u001b[0;34m\u001b[0m\u001b[0;34m\u001b[0m\u001b[0m\n\u001b[1;32m    290\u001b[0m             \u001b[0mstart\u001b[0m \u001b[0;34m=\u001b[0m \u001b[0mtime\u001b[0m\u001b[0;34m.\u001b[0m\u001b[0mmonotonic\u001b[0m\u001b[0;34m(\u001b[0m\u001b[0;34m)\u001b[0m\u001b[0;34m\u001b[0m\u001b[0;34m\u001b[0m\u001b[0m\n",
      "\u001b[0;32m/opt/ros/humble/local/lib/python3.10/dist-packages/rclpy/executors.py\u001b[0m in \u001b[0;36mspin_once_until_future_complete\u001b[0;34m(self, future, timeout_sec)\u001b[0m\n\u001b[1;32m    714\u001b[0m \u001b[0;34m\u001b[0m\u001b[0m\n\u001b[1;32m    715\u001b[0m     \u001b[0;32mdef\u001b[0m \u001b[0mspin_once_until_future_complete\u001b[0m\u001b[0;34m(\u001b[0m\u001b[0mself\u001b[0m\u001b[0;34m,\u001b[0m \u001b[0mfuture\u001b[0m\u001b[0;34m:\u001b[0m \u001b[0mFuture\u001b[0m\u001b[0;34m,\u001b[0m \u001b[0mtimeout_sec\u001b[0m\u001b[0;34m:\u001b[0m \u001b[0mfloat\u001b[0m \u001b[0;34m=\u001b[0m \u001b[0;32mNone\u001b[0m\u001b[0;34m)\u001b[0m \u001b[0;34m->\u001b[0m \u001b[0;32mNone\u001b[0m\u001b[0;34m:\u001b[0m\u001b[0;34m\u001b[0m\u001b[0;34m\u001b[0m\u001b[0m\n\u001b[0;32m--> 716\u001b[0;31m         \u001b[0mself\u001b[0m\u001b[0;34m.\u001b[0m\u001b[0mspin_once\u001b[0m\u001b[0;34m(\u001b[0m\u001b[0mtimeout_sec\u001b[0m\u001b[0;34m)\u001b[0m\u001b[0;34m\u001b[0m\u001b[0;34m\u001b[0m\u001b[0m\n\u001b[0m\u001b[1;32m    717\u001b[0m \u001b[0;34m\u001b[0m\u001b[0m\n\u001b[1;32m    718\u001b[0m \u001b[0;34m\u001b[0m\u001b[0m\n",
      "\u001b[0;32m/opt/ros/humble/local/lib/python3.10/dist-packages/rclpy/executors.py\u001b[0m in \u001b[0;36mspin_once\u001b[0;34m(self, timeout_sec)\u001b[0m\n\u001b[1;32m    703\u001b[0m     \u001b[0;32mdef\u001b[0m \u001b[0mspin_once\u001b[0m\u001b[0;34m(\u001b[0m\u001b[0mself\u001b[0m\u001b[0;34m,\u001b[0m \u001b[0mtimeout_sec\u001b[0m\u001b[0;34m:\u001b[0m \u001b[0mfloat\u001b[0m \u001b[0;34m=\u001b[0m \u001b[0;32mNone\u001b[0m\u001b[0;34m)\u001b[0m \u001b[0;34m->\u001b[0m \u001b[0;32mNone\u001b[0m\u001b[0;34m:\u001b[0m\u001b[0;34m\u001b[0m\u001b[0;34m\u001b[0m\u001b[0m\n\u001b[1;32m    704\u001b[0m         \u001b[0;32mtry\u001b[0m\u001b[0;34m:\u001b[0m\u001b[0;34m\u001b[0m\u001b[0;34m\u001b[0m\u001b[0m\n\u001b[0;32m--> 705\u001b[0;31m             \u001b[0mhandler\u001b[0m\u001b[0;34m,\u001b[0m \u001b[0mentity\u001b[0m\u001b[0;34m,\u001b[0m \u001b[0mnode\u001b[0m \u001b[0;34m=\u001b[0m \u001b[0mself\u001b[0m\u001b[0;34m.\u001b[0m\u001b[0mwait_for_ready_callbacks\u001b[0m\u001b[0;34m(\u001b[0m\u001b[0mtimeout_sec\u001b[0m\u001b[0;34m=\u001b[0m\u001b[0mtimeout_sec\u001b[0m\u001b[0;34m)\u001b[0m\u001b[0;34m\u001b[0m\u001b[0;34m\u001b[0m\u001b[0m\n\u001b[0m\u001b[1;32m    706\u001b[0m         \u001b[0;32mexcept\u001b[0m \u001b[0mShutdownException\u001b[0m\u001b[0;34m:\u001b[0m\u001b[0;34m\u001b[0m\u001b[0;34m\u001b[0m\u001b[0m\n\u001b[1;32m    707\u001b[0m             \u001b[0;32mpass\u001b[0m\u001b[0;34m\u001b[0m\u001b[0;34m\u001b[0m\u001b[0m\n",
      "\u001b[0;32m/opt/ros/humble/local/lib/python3.10/dist-packages/rclpy/executors.py\u001b[0m in \u001b[0;36mwait_for_ready_callbacks\u001b[0;34m(self, *args, **kwargs)\u001b[0m\n\u001b[1;32m    689\u001b[0m \u001b[0;34m\u001b[0m\u001b[0m\n\u001b[1;32m    690\u001b[0m             \u001b[0;32mtry\u001b[0m\u001b[0;34m:\u001b[0m\u001b[0;34m\u001b[0m\u001b[0;34m\u001b[0m\u001b[0m\n\u001b[0;32m--> 691\u001b[0;31m                 \u001b[0;32mreturn\u001b[0m \u001b[0mnext\u001b[0m\u001b[0;34m(\u001b[0m\u001b[0mself\u001b[0m\u001b[0;34m.\u001b[0m\u001b[0m_cb_iter\u001b[0m\u001b[0;34m)\u001b[0m\u001b[0;34m\u001b[0m\u001b[0;34m\u001b[0m\u001b[0m\n\u001b[0m\u001b[1;32m    692\u001b[0m             \u001b[0;32mexcept\u001b[0m \u001b[0mStopIteration\u001b[0m\u001b[0;34m:\u001b[0m\u001b[0;34m\u001b[0m\u001b[0;34m\u001b[0m\u001b[0m\n\u001b[1;32m    693\u001b[0m                 \u001b[0;31m# Generator ran out of work\u001b[0m\u001b[0;34m\u001b[0m\u001b[0;34m\u001b[0m\u001b[0m\n",
      "\u001b[0;32m/opt/ros/humble/local/lib/python3.10/dist-packages/rclpy/executors.py\u001b[0m in \u001b[0;36m_wait_for_ready_callbacks\u001b[0;34m(self, timeout_sec, nodes, condition)\u001b[0m\n\u001b[1;32m    586\u001b[0m \u001b[0;34m\u001b[0m\u001b[0m\n\u001b[1;32m    587\u001b[0m                 \u001b[0;31m# Wait for something to become ready\u001b[0m\u001b[0;34m\u001b[0m\u001b[0;34m\u001b[0m\u001b[0m\n\u001b[0;32m--> 588\u001b[0;31m                 \u001b[0mwait_set\u001b[0m\u001b[0;34m.\u001b[0m\u001b[0mwait\u001b[0m\u001b[0;34m(\u001b[0m\u001b[0mtimeout_nsec\u001b[0m\u001b[0;34m)\u001b[0m\u001b[0;34m\u001b[0m\u001b[0;34m\u001b[0m\u001b[0m\n\u001b[0m\u001b[1;32m    589\u001b[0m                 \u001b[0;32mif\u001b[0m \u001b[0mself\u001b[0m\u001b[0;34m.\u001b[0m\u001b[0m_is_shutdown\u001b[0m\u001b[0;34m:\u001b[0m\u001b[0;34m\u001b[0m\u001b[0;34m\u001b[0m\u001b[0m\n\u001b[1;32m    590\u001b[0m                     \u001b[0;32mraise\u001b[0m \u001b[0mShutdownException\u001b[0m\u001b[0;34m(\u001b[0m\u001b[0;34m)\u001b[0m\u001b[0;34m\u001b[0m\u001b[0;34m\u001b[0m\u001b[0m\n",
      "\u001b[0;31mKeyboardInterrupt\u001b[0m: "
     ]
    }
   ],
   "source": [
    "goal = (3,0)\n",
    "\n",
    "dist_to_goal = get_distance(0 , 0 , goal[0] ,goal[1])\n",
    "\n",
    "while (dist_to_goal >= 0.1):\n",
    "    ox ,oy ,gx ,gy ,dx ,dy = 0,0,0,0,0,0\n",
    "    robot.scan_future = rclpy.Future()\n",
    "    robot.odom_future = rclpy.Future()\n",
    "    robot.spin_until_future_completed(robot.scan_future)\n",
    "    odom = robot.spin_until_future_completed(robot.odom_future)\n",
    "    pose = odom.pose.pose\n",
    "    (currentx, currenty) = (pose.position.x, pose.position.y)\n",
    "    gx = goal[0] - currentx\n",
    "    gy = goal[1] - currenty\n",
    "\n",
    "    dx = gx+ox\n",
    "    dy = gy+oy\n",
    "\n",
    "    obstacles = plot_lidar_scan_points_working(robot.last_scan_msg,pose)\n",
    "    for ob in obstacles:\n",
    "        # dist = get_distance(currentx , currenty , ob[0] ,ob[1])\n",
    "        # if (dist <=  0.50):\n",
    "        #     print(\"within dist \" , dist)\n",
    "        #     print(\"current = \" , currentx , currenty , \"obs = \" ,ob)\n",
    "        #     oy -= 0.5 - (ob[1] - currenty)\n",
    "        #     ox -= 0.5 - (ob[0] - currentx)\n",
    "\n",
    "        if (abs(currentx - ob[0]) <=  0.50):\n",
    "            dy -= 0.5\n",
    "            dx = currentx\n",
    "            break\n",
    "        elif (abs(currentx - ob[1]) <=  0.50):\n",
    "            dx -= 0.5\n",
    "            dy = currenty\n",
    "            break\n",
    "            \n",
    "            \n",
    "\n",
    "\n",
    "\n",
    "    grad_to_vel(float(dx) , float(dy))\n",
    "    dist_to_goal = get_distance(currentx , currenty , goal[0] ,goal[1])\n",
    "    print(dist_to_goal , end = '\\r')\n",
    "\n",
    "    \n",
    "\n"
   ]
  },
  {
   "cell_type": "code",
   "execution_count": null,
   "metadata": {},
   "outputs": [],
   "source": [
    "robot.odom_future = rclpy.Future()\n",
    "pose = robot.spin_until_future_completed(robot.odom_future).pose.pose\n",
    "(currentx, currenty) = (-pose.position.x, -pose.position.y)\n",
    "\n",
    "goal = (5,5)\n",
    "dx = goal[0] - currentx\n",
    "dy = goal[1] - currenty\n",
    "grad_to_vel(dx , dy)\n",
    "\n",
    "\n",
    "# grad_to_vel(0,1)\n"
   ]
  }
 ],
 "metadata": {
  "kernelspec": {
   "display_name": "Python 3",
   "language": "python",
   "name": "python3"
  },
  "language_info": {
   "codemirror_mode": {
    "name": "ipython",
    "version": 3
   },
   "file_extension": ".py",
   "mimetype": "text/x-python",
   "name": "python",
   "nbconvert_exporter": "python",
   "pygments_lexer": "ipython3",
   "version": "3.10.6"
  },
  "orig_nbformat": 4
 },
 "nbformat": 4,
 "nbformat_minor": 2
}
