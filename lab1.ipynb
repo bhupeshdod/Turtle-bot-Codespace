{
 "cells": [
  {
   "attachments": {},
   "cell_type": "markdown",
   "metadata": {},
   "source": [
    "# Lab1\n",
    "Welcome to the Turtlebot4 Orientation Lab. Here you will learn to:\n",
    "* Read data from the robots services\n",
    "* Drive the robot around\n",
    "* Accuracy of the odometry\n",
    "\n",
    "Next, just execute the code cells below in sequence, read the comments, the output, and see what happens.\n",
    "\n",
    "Don't worry, you can modify this code as you like. First, let's confirm you know how to run the code."
   ]
  },
  {
   "cell_type": "code",
   "execution_count": 1,
   "metadata": {},
   "outputs": [
    {
     "name": "stdout",
     "output_type": "stream",
     "text": [
      "2\n"
     ]
    }
   ],
   "source": [
    "# This text box is called a cell.\n",
    "# In this environment, a Jupyter Python Notebook, it contains Python code.\n",
    "# Click on the triangle left of this box (cell) to execute it.\n",
    "# The output will appear below.\n",
    "print(1+1)"
   ]
  },
  {
   "attachments": {},
   "cell_type": "markdown",
   "metadata": {},
   "source": [
    "# Load Robot wrapper and initialize ROS\n",
    "While the Turtlebot4 works using ROS2, you are using a wrapper around\n",
    "ROS2 to make things more straight forward. \n",
    "\n",
    "You can inspect the wrapper by opening the file [/opt/robohub/humble/lib/python3.10/site-packages/turtlebot4_wrapper/\\_\\_init__.py](/opt/robohub/humble/lib/python3.10/site-packages/turtlebot4_wrapper/\\_\\_init__.py)"
   ]
  },
  {
   "cell_type": "code",
   "execution_count": 2,
   "metadata": {},
   "outputs": [
    {
     "ename": "Exception",
     "evalue": "('VPN does not seem to be running, did you start it?:', AttributeError(\"'NoneType' object has no attribute 'groups'\"))",
     "output_type": "error",
     "traceback": [
      "\u001b[0;31m---------------------------------------------------------------------------\u001b[0m",
      "\u001b[0;31mAttributeError\u001b[0m                            Traceback (most recent call last)",
      "\u001b[0;32m/opt/robohub/humble/lib/python3.10/site-packages/turtlebot4_wrapper/__init__.py\u001b[0m in \u001b[0;36muse_hardware\u001b[0;34m()\u001b[0m\n\u001b[1;32m     32\u001b[0m         \u001b[0;32mimport\u001b[0m \u001b[0mre\u001b[0m\u001b[0;34m\u001b[0m\u001b[0;34m\u001b[0m\u001b[0m\n\u001b[0;32m---> 33\u001b[0;31m         \u001b[0mrobot_id\u001b[0m \u001b[0;34m=\u001b[0m \u001b[0mint\u001b[0m\u001b[0;34m(\u001b[0m\u001b[0mre\u001b[0m\u001b[0;34m.\u001b[0m\u001b[0msearch\u001b[0m\u001b[0;34m(\u001b[0m\u001b[0;34mr\"tap[0-9]\\.([0-9]+)@tap\"\u001b[0m\u001b[0;34m,\u001b[0m\u001b[0moutput\u001b[0m\u001b[0;34m.\u001b[0m\u001b[0mdecode\u001b[0m\u001b[0;34m(\u001b[0m\u001b[0;34m)\u001b[0m\u001b[0;34m)\u001b[0m\u001b[0;34m.\u001b[0m\u001b[0mgroups\u001b[0m\u001b[0;34m(\u001b[0m\u001b[0;34m)\u001b[0m\u001b[0;34m[\u001b[0m\u001b[0;36m0\u001b[0m\u001b[0;34m]\u001b[0m\u001b[0;34m)\u001b[0m\u001b[0;34m\u001b[0m\u001b[0;34m\u001b[0m\u001b[0m\n\u001b[0m\u001b[1;32m     34\u001b[0m     \u001b[0;32mexcept\u001b[0m \u001b[0mException\u001b[0m \u001b[0;32mas\u001b[0m \u001b[0mex\u001b[0m\u001b[0;34m:\u001b[0m\u001b[0;34m\u001b[0m\u001b[0;34m\u001b[0m\u001b[0m\n",
      "\u001b[0;31mAttributeError\u001b[0m: 'NoneType' object has no attribute 'groups'",
      "\nDuring handling of the above exception, another exception occurred:\n",
      "\u001b[0;31mException\u001b[0m                                 Traceback (most recent call last)",
      "\u001b[0;32m/tmp/ipykernel_4733/1802450531.py\u001b[0m in \u001b[0;36m<module>\u001b[0;34m\u001b[0m\n\u001b[1;32m      1\u001b[0m \u001b[0;32mimport\u001b[0m \u001b[0mturtlebot4_wrapper\u001b[0m\u001b[0;34m\u001b[0m\u001b[0;34m\u001b[0m\u001b[0m\n\u001b[1;32m      2\u001b[0m \u001b[0;34m\u001b[0m\u001b[0m\n\u001b[0;32m----> 3\u001b[0;31m \u001b[0mturtlebot4_wrapper\u001b[0m\u001b[0;34m.\u001b[0m\u001b[0muse_hardware\u001b[0m\u001b[0;34m(\u001b[0m\u001b[0;34m)\u001b[0m\u001b[0;34m\u001b[0m\u001b[0;34m\u001b[0m\u001b[0m\n\u001b[0m\u001b[1;32m      4\u001b[0m \u001b[0;31m# turtlebot4_wrapper.use_simulation()\u001b[0m\u001b[0;34m\u001b[0m\u001b[0;34m\u001b[0m\u001b[0m\n\u001b[1;32m      5\u001b[0m \u001b[0;34m\u001b[0m\u001b[0m\n",
      "\u001b[0;32m/opt/robohub/humble/lib/python3.10/site-packages/turtlebot4_wrapper/__init__.py\u001b[0m in \u001b[0;36muse_hardware\u001b[0;34m()\u001b[0m\n\u001b[1;32m     33\u001b[0m         \u001b[0mrobot_id\u001b[0m \u001b[0;34m=\u001b[0m \u001b[0mint\u001b[0m\u001b[0;34m(\u001b[0m\u001b[0mre\u001b[0m\u001b[0;34m.\u001b[0m\u001b[0msearch\u001b[0m\u001b[0;34m(\u001b[0m\u001b[0;34mr\"tap[0-9]\\.([0-9]+)@tap\"\u001b[0m\u001b[0;34m,\u001b[0m\u001b[0moutput\u001b[0m\u001b[0;34m.\u001b[0m\u001b[0mdecode\u001b[0m\u001b[0;34m(\u001b[0m\u001b[0;34m)\u001b[0m\u001b[0;34m)\u001b[0m\u001b[0;34m.\u001b[0m\u001b[0mgroups\u001b[0m\u001b[0;34m(\u001b[0m\u001b[0;34m)\u001b[0m\u001b[0;34m[\u001b[0m\u001b[0;36m0\u001b[0m\u001b[0;34m]\u001b[0m\u001b[0;34m)\u001b[0m\u001b[0;34m\u001b[0m\u001b[0;34m\u001b[0m\u001b[0m\n\u001b[1;32m     34\u001b[0m     \u001b[0;32mexcept\u001b[0m \u001b[0mException\u001b[0m \u001b[0;32mas\u001b[0m \u001b[0mex\u001b[0m\u001b[0;34m:\u001b[0m\u001b[0;34m\u001b[0m\u001b[0;34m\u001b[0m\u001b[0m\n\u001b[0;32m---> 35\u001b[0;31m         \u001b[0;32mraise\u001b[0m \u001b[0mException\u001b[0m\u001b[0;34m(\u001b[0m\u001b[0;34m\"VPN does not seem to be running, did you start it?:\"\u001b[0m\u001b[0;34m,\u001b[0m\u001b[0mex\u001b[0m\u001b[0;34m)\u001b[0m\u001b[0;34m\u001b[0m\u001b[0;34m\u001b[0m\u001b[0m\n\u001b[0m\u001b[1;32m     36\u001b[0m     \u001b[0mprint\u001b[0m\u001b[0;34m(\u001b[0m\u001b[0;34m\"You are connected to uwbot-{:02d}\"\u001b[0m\u001b[0;34m.\u001b[0m\u001b[0mformat\u001b[0m\u001b[0;34m(\u001b[0m\u001b[0mrobot_id\u001b[0m\u001b[0;34m)\u001b[0m\u001b[0;34m)\u001b[0m\u001b[0;34m\u001b[0m\u001b[0;34m\u001b[0m\u001b[0m\n\u001b[1;32m     37\u001b[0m     \u001b[0;32mtry\u001b[0m\u001b[0;34m:\u001b[0m\u001b[0;34m\u001b[0m\u001b[0;34m\u001b[0m\u001b[0m\n",
      "\u001b[0;31mException\u001b[0m: ('VPN does not seem to be running, did you start it?:', AttributeError(\"'NoneType' object has no attribute 'groups'\"))"
     ]
    }
   ],
   "source": [
    "import turtlebot4_wrapper\n",
    "\n",
    "turtlebot4_wrapper.use_hardware()\n",
    "# turtlebot4_wrapper.use_simulation()\n",
    "\n",
    "# load ROS library\n",
    "import rclpy\n",
    "if not rclpy.ok():\n",
    "    rclpy.init()\n",
    "\n",
    "# Instantiate Wrapper. The subscribes and publishes the relevant topics and connects the actions.\n",
    "if not \"robot\" in globals():\n",
    "    robot = turtlebot4_wrapper.Robot()"
   ]
  },
  {
   "attachments": {},
   "cell_type": "markdown",
   "metadata": {},
   "source": [
    "# Example: Read data from topics: Battery charge state\n",
    "Check Battery State. Note: 10% get you 10 minutes of runtime.\n"
   ]
  },
  {
   "cell_type": "code",
   "execution_count": 2,
   "metadata": {},
   "outputs": [
    {
     "name": "stdout",
     "output_type": "stream",
     "text": [
      "Battery 1e+02%, charging with -0.7A\n"
     ]
    }
   ],
   "source": [
    "# Make sure we have fresh data by waiting for a new message\n",
    "robot.battery_state_future = rclpy.Future()\n",
    "robot.spin_until_future_completed(robot.battery_state_future)\n",
    "\n",
    "# Pretty print the contents of the message\n",
    "print(\"Battery {0:2.3}%, charging with {1:2.2}A\".format(\n",
    "    robot.last_battery_state_msg.percentage*100,\n",
    "    robot.last_battery_state_msg.current\n",
    "))"
   ]
  },
  {
   "cell_type": "code",
   "execution_count": 3,
   "metadata": {},
   "outputs": [
    {
     "data": {
      "text/plain": [
       "sensor_msgs.msg.LaserScan(header=std_msgs.msg.Header(stamp=builtin_interfaces.msg.Time(sec=1692649990, nanosec=200373331), frame_id='rplidar_link'), angle_min=-3.1241393089294434, angle_max=3.1415927410125732, angle_increment=0.008714509196579456, time_increment=0.00018665297830011696, scan_time=0.1342034935951233, range_min=0.15000000596046448, range_max=12.0, ranges=[0.4950000047683716, 0.49300000071525574, 0.49300000071525574, 0.49000000953674316, 0.49000000953674316, 0.48899999260902405, 0.48899999260902405, 0.4880000054836273, 0.48899999260902405, 0.492000013589859, 0.49399998784065247, inf, inf, inf, 0.6439999938011169, 0.6439999938011169, 0.6399999856948853, inf, inf, inf, inf, 1.722000002861023, 1.722000002861023, inf, 1.4220000505447388, 1.4220000505447388, 1.3919999599456787, 1.3919999599456787, 1.3179999589920044, 1.25600004196167, 1.2280000448226929, inf, 1.0759999752044678, 1.0759999752044678, 1.0540000200271606, 1.0360000133514404, 0.9980000257492065, 0.9639999866485596, 0.9459999799728394, 0.9120000004768372, 0.8980000019073486, 0.8700000047683716, 0.8560000061988831, 0.8299999833106995, 0.8040000200271606, 0.7940000295639038, 0.7720000147819519, 0.75, 0.7400000095367432, 0.7279999852180481, 0.7239999771118164, inf, inf, inf, inf, inf, 0.593999981880188, 0.593999981880188, 0.5899999737739563, 0.5899999737739563, 0.5879999995231628, 0.578000009059906, 0.5659999847412109, 0.5619999766349792, 0.550000011920929, 0.13300000131130219, 0.5360000133514404, 0.13199999928474426, 0.5220000147819519, 0.5139999985694885, 0.5040000081062317, 0.49799999594688416, 0.4909999966621399, 0.4819999933242798, 0.4819999933242798, 0.47699999809265137, 0.4659999907016754, inf, inf, inf, inf, inf, 0.43299999833106995, 0.43299999833106995, 0.4269999861717224, 0.4269999861717224, 0.41999998688697815, 0.41499999165534973, 0.4129999876022339, 0.40799999237060547, 0.4050000011920929, 0.4009999930858612, 0.39899998903274536, 0.3930000066757202, 0.3889999985694885, 0.3869999945163727, 0.382999986410141, 0.38100001215934753, 0.37700000405311584, 0.37299999594688416, 0.3709999918937683, 0.36800000071525574, 0.3659999966621399, 0.3619999885559082, 0.35899999737739563, 0.3569999933242798, 0.3540000021457672, 0.3529999852180481, 0.3490000069141388, 0.34700000286102295, 0.34599998593330383, 0.3440000116825104, 0.3409999907016754, 0.33799999952316284, 0.3370000123977661, 0.33500000834465027, 0.3330000042915344, 0.3310000002384186, 0.32899999618530273, 0.3269999921321869, 0.32499998807907104, 0.3240000009536743, 0.32199999690055847, 0.3199999928474426, 0.3179999887943268, 0.3179999887943268, 0.3160000145435333, 0.31299999356269836, 0.31299999356269836, 0.31200000643730164, 0.3100000023841858, 0.30799999833106995, 0.3070000112056732, 0.3059999942779541, 0.3050000071525574, 0.30399999022483826, 0.3019999861717224, 0.3009999990463257, 0.3009999990463257, 0.29899999499320984, 0.2980000078678131, 0.296999990940094, 0.29600000381469727, 0.29600000381469727, 0.2939999997615814, 0.2939999997615814, 0.2919999957084656, 0.2919999957084656, 0.29100000858306885, 0.28999999165534973, 0.289000004529953, 0.2879999876022339, 0.2879999876022339, 0.28700000047683716, 0.28700000047683716, 0.2849999964237213, 0.2849999964237213, 0.2840000092983246, 0.2840000092983246, 0.28299999237060547, 0.28299999237060547, 0.28200000524520874, 0.28200000524520874, 0.28200000524520874, 0.2809999883174896, 0.2800000011920929, 0.2800000011920929, 0.2800000011920929, 0.2800000011920929, 0.27900001406669617, 0.27900001406669617, 0.27900001406669617, 0.27799999713897705, 0.27799999713897705, 0.27799999713897705, 0.2770000100135803, 0.2770000100135803, 0.2770000100135803, 0.2770000100135803, 0.2770000100135803, 0.2770000100135803, 0.2770000100135803, 0.2770000100135803, 0.2770000100135803, 0.2770000100135803, 0.2770000100135803, 0.2770000100135803, 0.2770000100135803, 0.2770000100135803, 0.2770000100135803, 0.2770000100135803, 0.2770000100135803, 0.2770000100135803, 0.27799999713897705, 0.27799999713897705, 0.27799999713897705, 0.27900001406669617, 0.27799999713897705, 0.27900001406669617, 0.2800000011920929, 0.2800000011920929, 0.2800000011920929, 0.2800000011920929, 0.2809999883174896, 0.2809999883174896, 0.28200000524520874, 0.28200000524520874, 0.28299999237060547, 0.28299999237060547, 0.28299999237060547, 0.2840000092983246, 0.2840000092983246, 0.28600001335144043, 0.28600001335144043, 0.28600001335144043, 0.28700000047683716, 0.2879999876022339, 0.2879999876022339, 0.28999999165534973, 0.28999999165534973, 0.29100000858306885, 0.2919999957084656, 0.2919999957084656, 0.2930000126361847, 0.2939999997615814, 0.29499998688697815, 0.29600000381469727, 0.2980000078678131, 0.2980000078678131, 0.29899999499320984, 0.30000001192092896, 0.3009999990463257, 0.30300000309944153, 0.30399999022483826, 0.3050000071525574, 0.3059999942779541, 0.30799999833106995, 0.3089999854564667, 0.3100000023841858, 0.3109999895095825, 0.31200000643730164, 0.3149999976158142, 0.3160000145435333, 0.3179999887943268, 0.3179999887943268, 0.3199999928474426, 0.32199999690055847, 0.3230000138282776, 0.32600000500679016, 0.32600000500679016, 0.328000009059906, 0.3310000002384186, 0.3319999873638153, 0.33500000834465027, 0.335999995470047, 0.33899998664855957, 0.3409999907016754, 0.34200000762939453, inf, inf, inf, inf, inf, inf, 2.436000108718872, 2.436000108718872, 2.4519999027252197, 2.4519999027252197, 2.4639999866485596, 2.4839999675750732, 2.492000102996826, 2.5239999294281006, 2.5480000972747803, 2.5759999752044678, 2.5840001106262207, 2.6080000400543213, 2.631999969482422, 2.6760001182556152, 2.687999963760376, 2.7119998931884766, 2.7360000610351562, 2.635999917984009, 2.635999917984009, inf, inf, inf, inf, 2.4679999351501465, 2.4679999351501465, 2.4639999866485596, 2.4639999866485596, 2.436000108718872, 2.4200000762939453, 2.3919999599456787, 2.380000114440918, 2.3440001010894775, 2.3440001010894775, 0.13600000739097595, 0.13500000536441803, 0.13500000536441803, 0.13300000131130219, 3.51200008392334, 3.5439999103546143, 3.6080000400543213, 3.6440000534057617, 3.7239999771118164, 3.7679998874664307, 3.8480000495910645, 3.8959999084472656, 3.9719998836517334, 4.007999897003174, 4.139999866485596, 4.199999809265137, 4.28000020980835, 4.3520002365112305, inf, inf, inf, inf, inf, inf, 4.208000183105469, 4.208000183105469, 4.199999809265137, 4.199999809265137, 4.184000015258789, 4.184000015258789, 4.168000221252441, 4.159999847412109, 4.136000156402588, 4.136000156402588, 4.119999885559082, 4.104000091552734, 4.0879998207092285, 4.079999923706055, 4.067999839782715, 4.056000232696533, 4.052000045776367, 4.047999858856201, 4.0320000648498535, 4.02400016784668, 4.015999794006348, 4.01200008392334, 4.004000186920166, 4.0, 3.992000102996826, 3.98799991607666, 3.98799991607666, 3.9839999675750732, 3.9839999675750732, 3.9800000190734863, 3.9760000705718994, 3.9679999351501465, 3.9679999351501465, 3.9639999866485596, 3.9519999027252197, 3.9519999027252197, 3.947999954223633, 3.940000057220459, 3.940000057220459, 3.9639999866485596, 3.9600000381469727, 3.940000057220459, 3.940000057220459, 0.11299999803304672, 3.931999921798706, 0.11299999803304672, 3.940000057220459, 3.936000108718872, 3.931999921798706, 3.940000057220459, 3.9519999027252197, 3.9639999866485596, 3.9679999351501465, 3.9560000896453857, 3.9519999027252197, 4.02400016784668, 3.4800000190734863, 3.4800000190734863, inf, inf, inf, inf, inf, inf, inf, inf, inf, inf, inf, 3.51200008392334, 3.51200008392334, 3.4600000381469727, 3.4600000381469727, 3.507999897003174, 3.559999942779541, 4.127999782562256, 4.127999782562256, 4.127999782562256, 4.136000156402588, 4.144000053405762, 4.1519999504089355, 4.176000118255615, 4.184000015258789, 4.199999809265137, 4.208000183105469, 4.23199987411499, 4.248000144958496, 4.25600004196167, 4.263999938964844, inf, 2.552000045776367, 2.552000045776367, 2.552000045776367, 4.375999927520752, 4.375999927520752, 4.423999786376953, 4.423999786376953, 4.440000057220459, 4.455999851226807, 4.464000225067139, 4.495999813079834, 4.51200008392334, 4.544000148773193, 2.7119998931884766, inf, inf, inf, inf, inf, inf, inf, inf, inf, inf, inf, inf, inf, 5.015999794006348, 5.015999794006348, 5.064000129699707, 5.079999923706055, 5.02400016784668, 5.1519999504089355, 5.168000221252441, 5.25600004196167, 5.25600004196167, 5.311999797821045, 5.3520002365112305, 5.392000198364258, 5.432000160217285, 5.480000019073486, 5.495999813079834, inf, 5.703999996185303, 5.703999996185303, 5.751999855041504, 5.895999908447266, inf, inf, inf, inf, inf, inf, inf, inf, inf, inf, 2.859999895095825, 2.859999895095825, 2.8519999980926514, 2.8399999141693115, inf, inf, inf, inf, inf, inf, inf, inf, 5.952000141143799, 5.952000141143799, 5.9039998054504395, 5.9039998054504395, 5.872000217437744, 5.880000114440918, 5.943999767303467, 5.104000091552734, inf, inf, inf, inf, inf, inf, inf, inf, inf, inf, inf, inf, inf, inf, inf, inf, inf, inf, inf, inf, inf, inf, inf, inf, inf, inf, inf, inf, inf, inf, inf, inf, inf, inf, inf, inf, inf, inf, inf, inf, inf, inf, inf, inf, inf, inf, inf, inf, inf, inf, inf, inf, inf, inf, inf, inf, inf, inf, inf, inf, inf, inf, inf, inf, inf, inf, inf, inf, inf, inf, inf, inf, inf, inf, inf, inf, inf, inf, inf, inf, inf, inf, inf, inf, inf, inf, inf, inf, inf, inf, inf, inf, inf, inf, inf, inf, inf, inf, inf, inf, inf, inf, inf, inf, inf, inf, inf, inf, inf, inf, inf, inf, inf, inf, inf, inf, inf, inf, inf, inf, inf, inf, inf, inf, inf, inf, inf, inf, inf, inf, inf, inf, inf, inf, inf, inf, inf, inf, inf, inf, inf, inf, inf, inf, inf, inf, inf, inf, inf, inf, inf, inf, inf, inf, inf, inf, inf, 6.960000038146973, 6.960000038146973, 6.943999767303467, 6.943999767303467, 6.943999767303467, 6.863999843597412, 6.823999881744385, 6.823999881744385, 6.815999984741211, 6.711999893188477, inf, inf, inf, inf, inf, inf, inf, inf, inf, inf, 7.880000114440918, 7.880000114440918, inf, inf, inf, inf, inf, inf, inf, inf, inf, inf, inf, 6.751999855041504, 6.751999855041504, 7.184000015258789, 7.184000015258789, 7.176000118255615, 7.168000221252441, 7.119999885559082, 7.127999782562256, 7.119999885559082, 7.0879998207092285, 7.079999923706055, 7.064000129699707, 6.984000205993652, 7.015999794006348, 6.984000205993652, 6.943999767303467, 6.943999767303467, 6.895999908447266, 6.888000011444092, 6.888000011444092, 6.840000152587891, 6.831999778747559, 6.863999843597412, inf, inf, inf, inf, inf, inf, inf, inf, inf, 1.2039999961853027, 1.2039999961853027, 1.1959999799728394, 1.1959999799728394, inf, inf, 0.42800000309944153, 0.42800000309944153, 0.4259999990463257, inf], intensities=[47.0, 47.0, 47.0, 47.0, 47.0, 47.0, 47.0, 47.0, 47.0, 47.0, 47.0, 0.0, 0.0, 0.0, 47.0, 47.0, 47.0, 0.0, 0.0, 0.0, 0.0, 47.0, 47.0, 0.0, 47.0, 47.0, 47.0, 47.0, 47.0, 47.0, 47.0, 0.0, 47.0, 47.0, 47.0, 47.0, 47.0, 47.0, 47.0, 47.0, 47.0, 47.0, 47.0, 47.0, 47.0, 47.0, 47.0, 47.0, 47.0, 47.0, 47.0, 0.0, 0.0, 0.0, 0.0, 0.0, 47.0, 47.0, 47.0, 47.0, 47.0, 47.0, 47.0, 47.0, 47.0, 47.0, 47.0, 47.0, 47.0, 47.0, 47.0, 47.0, 47.0, 47.0, 47.0, 47.0, 47.0, 0.0, 0.0, 0.0, 0.0, 0.0, 47.0, 47.0, 47.0, 47.0, 47.0, 47.0, 47.0, 47.0, 47.0, 47.0, 47.0, 47.0, 47.0, 47.0, 47.0, 47.0, 47.0, 47.0, 47.0, 47.0, 47.0, 47.0, 47.0, 47.0, 47.0, 47.0, 47.0, 47.0, 47.0, 47.0, 47.0, 47.0, 47.0, 47.0, 47.0, 47.0, 47.0, 47.0, 47.0, 47.0, 47.0, 47.0, 47.0, 47.0, 47.0, 47.0, 47.0, 47.0, 47.0, 47.0, 47.0, 47.0, 47.0, 47.0, 47.0, 47.0, 47.0, 47.0, 47.0, 47.0, 47.0, 47.0, 47.0, 47.0, 47.0, 47.0, 47.0, 47.0, 47.0, 47.0, 47.0, 47.0, 47.0, 47.0, 47.0, 47.0, 47.0, 47.0, 47.0, 47.0, 47.0, 47.0, 47.0, 47.0, 47.0, 47.0, 47.0, 47.0, 47.0, 47.0, 47.0, 47.0, 47.0, 47.0, 47.0, 47.0, 47.0, 47.0, 47.0, 47.0, 47.0, 47.0, 47.0, 47.0, 47.0, 47.0, 47.0, 47.0, 47.0, 47.0, 47.0, 47.0, 47.0, 47.0, 47.0, 47.0, 47.0, 47.0, 47.0, 47.0, 47.0, 47.0, 47.0, 47.0, 47.0, 47.0, 47.0, 47.0, 47.0, 47.0, 47.0, 47.0, 47.0, 47.0, 47.0, 47.0, 47.0, 47.0, 47.0, 47.0, 47.0, 47.0, 47.0, 47.0, 47.0, 47.0, 47.0, 47.0, 47.0, 47.0, 47.0, 47.0, 47.0, 47.0, 47.0, 47.0, 47.0, 47.0, 47.0, 47.0, 47.0, 47.0, 47.0, 47.0, 47.0, 47.0, 47.0, 47.0, 47.0, 47.0, 47.0, 47.0, 47.0, 47.0, 47.0, 47.0, 0.0, 0.0, 0.0, 0.0, 0.0, 0.0, 47.0, 47.0, 47.0, 47.0, 47.0, 47.0, 47.0, 47.0, 47.0, 47.0, 47.0, 47.0, 47.0, 47.0, 47.0, 47.0, 47.0, 47.0, 47.0, 0.0, 0.0, 0.0, 0.0, 47.0, 47.0, 47.0, 47.0, 47.0, 47.0, 47.0, 47.0, 47.0, 47.0, 47.0, 47.0, 47.0, 47.0, 47.0, 47.0, 47.0, 47.0, 47.0, 47.0, 47.0, 47.0, 47.0, 47.0, 47.0, 47.0, 47.0, 47.0, 0.0, 0.0, 0.0, 0.0, 0.0, 0.0, 47.0, 47.0, 47.0, 47.0, 47.0, 47.0, 47.0, 47.0, 47.0, 47.0, 47.0, 47.0, 47.0, 47.0, 47.0, 47.0, 47.0, 47.0, 47.0, 47.0, 47.0, 47.0, 47.0, 47.0, 47.0, 47.0, 47.0, 47.0, 47.0, 47.0, 47.0, 47.0, 47.0, 47.0, 47.0, 47.0, 47.0, 47.0, 47.0, 47.0, 47.0, 47.0, 47.0, 47.0, 47.0, 47.0, 47.0, 47.0, 47.0, 47.0, 47.0, 47.0, 47.0, 47.0, 47.0, 47.0, 47.0, 47.0, 0.0, 0.0, 0.0, 0.0, 0.0, 0.0, 0.0, 0.0, 0.0, 0.0, 0.0, 47.0, 47.0, 47.0, 47.0, 47.0, 47.0, 47.0, 47.0, 47.0, 47.0, 47.0, 47.0, 47.0, 47.0, 47.0, 47.0, 47.0, 47.0, 47.0, 47.0, 0.0, 47.0, 47.0, 47.0, 47.0, 47.0, 47.0, 47.0, 47.0, 47.0, 47.0, 47.0, 47.0, 47.0, 47.0, 0.0, 0.0, 0.0, 0.0, 0.0, 0.0, 0.0, 0.0, 0.0, 0.0, 0.0, 0.0, 0.0, 47.0, 47.0, 47.0, 47.0, 47.0, 47.0, 47.0, 47.0, 47.0, 47.0, 47.0, 47.0, 47.0, 47.0, 47.0, 0.0, 47.0, 47.0, 47.0, 47.0, 0.0, 0.0, 0.0, 0.0, 0.0, 0.0, 0.0, 0.0, 0.0, 0.0, 47.0, 47.0, 47.0, 47.0, 0.0, 0.0, 0.0, 0.0, 0.0, 0.0, 0.0, 0.0, 47.0, 47.0, 47.0, 47.0, 47.0, 47.0, 47.0, 47.0, 0.0, 0.0, 0.0, 0.0, 0.0, 0.0, 0.0, 0.0, 0.0, 0.0, 0.0, 0.0, 0.0, 0.0, 0.0, 0.0, 0.0, 0.0, 0.0, 0.0, 0.0, 0.0, 0.0, 0.0, 0.0, 0.0, 0.0, 0.0, 0.0, 0.0, 0.0, 0.0, 0.0, 0.0, 0.0, 0.0, 0.0, 0.0, 0.0, 0.0, 0.0, 0.0, 0.0, 0.0, 0.0, 0.0, 0.0, 0.0, 0.0, 0.0, 0.0, 0.0, 0.0, 0.0, 0.0, 0.0, 0.0, 0.0, 0.0, 0.0, 0.0, 0.0, 0.0, 0.0, 0.0, 0.0, 0.0, 0.0, 0.0, 0.0, 0.0, 0.0, 0.0, 0.0, 0.0, 0.0, 0.0, 0.0, 0.0, 0.0, 0.0, 0.0, 0.0, 0.0, 0.0, 0.0, 0.0, 0.0, 0.0, 0.0, 0.0, 0.0, 0.0, 0.0, 0.0, 0.0, 0.0, 0.0, 0.0, 0.0, 0.0, 0.0, 0.0, 0.0, 0.0, 0.0, 0.0, 0.0, 0.0, 0.0, 0.0, 0.0, 0.0, 0.0, 0.0, 0.0, 0.0, 0.0, 0.0, 0.0, 0.0, 0.0, 0.0, 0.0, 0.0, 0.0, 0.0, 0.0, 0.0, 0.0, 0.0, 0.0, 0.0, 0.0, 0.0, 0.0, 0.0, 0.0, 0.0, 0.0, 0.0, 0.0, 0.0, 0.0, 0.0, 0.0, 0.0, 0.0, 0.0, 0.0, 0.0, 0.0, 0.0, 0.0, 0.0, 0.0, 0.0, 47.0, 47.0, 47.0, 47.0, 47.0, 47.0, 47.0, 47.0, 47.0, 47.0, 0.0, 0.0, 0.0, 0.0, 0.0, 0.0, 0.0, 0.0, 0.0, 0.0, 47.0, 47.0, 0.0, 0.0, 0.0, 0.0, 0.0, 0.0, 0.0, 0.0, 0.0, 0.0, 0.0, 47.0, 47.0, 47.0, 47.0, 47.0, 47.0, 47.0, 47.0, 47.0, 47.0, 47.0, 47.0, 47.0, 47.0, 47.0, 47.0, 47.0, 47.0, 47.0, 47.0, 47.0, 47.0, 47.0, 0.0, 0.0, 0.0, 0.0, 0.0, 0.0, 0.0, 0.0, 0.0, 47.0, 47.0, 47.0, 47.0, 0.0, 0.0, 47.0, 47.0, 47.0, 0.0])"
      ]
     },
     "execution_count": 3,
     "metadata": {},
     "output_type": "execute_result"
    }
   ],
   "source": [
    "# Read laser scan\n",
    "robot.scan_future = rclpy.Future()\n",
    "robot.spin_until_future_completed(robot.scan_future)\n",
    "robot.last_scan_msg\n"
   ]
  },
  {
   "cell_type": "code",
   "execution_count": 4,
   "metadata": {},
   "outputs": [
    {
     "data": {
      "text/plain": [
       "geometry_msgs.msg.Pose(position=geometry_msgs.msg.Point(x=3.557888703653589e-06, y=-2.5184288460877724e-05, z=1.227644759183022e-07), orientation=geometry_msgs.msg.Quaternion(x=-0.0004968613502569497, y=-0.018498696386814117, z=6.10650604357943e-05, w=0.9998287558555603))"
      ]
     },
     "execution_count": 4,
     "metadata": {},
     "output_type": "execute_result"
    }
   ],
   "source": [
    "robot.odom_future = rclpy.Future()\n",
    "robot.spin_until_future_completed(robot.odom_future)\n",
    "robot.last_odom_msg.pose.pose\n"
   ]
  },
  {
   "cell_type": "code",
   "execution_count": 5,
   "metadata": {},
   "outputs": [
    {
     "data": {
      "image/png": "[encoded data removed]",
      "text/plain": [
       "<Figure size 432x288 with 1 Axes>"
      ]
     },
     "metadata": {
      "needs_background": "light"
     },
     "output_type": "display_data"
    }
   ],
   "source": [
    "from matplotlib import pyplot as plt\n",
    "# Plot robot position from odometry\n",
    "# Use blue cross marker to designate the robot position\n",
    "pose = robot.last_odom_msg.pose.pose\n",
    "plt.plot([pose.position.x],[pose.position.y],'bx') # TODO: show robot front\n",
    "\n",
    "# Plot lidar points from last message\n",
    "def plot_lidar_scan_points(msg,pose):\n",
    "    # Convert received lidar points into cartesian coordinates considering the current position from odometry\n",
    "    import numpy\n",
    "    points = [(numpy.cos(angle)*radius,numpy.sin(angle)*radius) for angle, radius \\\n",
    "              in zip(numpy.linspace(msg.angle_min,msg.angle_max,len(msg.ranges)),msg.ranges)]\n",
    "\n",
    "    T = robot.reduce_transform_to_2D(robot.convert_odom_to_transform(pose))\n",
    "    T_base_lidar = numpy.array([[ 2.22044605e-16, -1.00000000e+00, -4.00000000e-02],       [ 1.00000000e+00,  2.22044605e-16,  0.00000000e+00],       [ 0.00000000e+00,  0.00000000e+00,  1.00000000e+00]])\n",
    "    # remove points which cannot be measured\n",
    "    filtered_points = filter(lambda x: numpy.isfinite(x).all(),points)\n",
    "    \n",
    "    # display points in world frame\n",
    "    transformed_points = [numpy.matmul(numpy.dot(T,T_base_lidar), numpy.vstack([ numpy.atleast_2d(x).T,numpy.ones((1,1)) ]) ) for x in filtered_points]\n",
    "    plt.plot(\n",
    "        [x[0] for x in transformed_points],\n",
    "        [x[1] for x in transformed_points],'r.')\n",
    "\n",
    "plot_lidar_scan_points(robot.last_scan_msg,pose)"
   ]
  },
  {
   "cell_type": "code",
   "execution_count": 15,
   "metadata": {},
   "outputs": [
    {
     "name": "stdout",
     "output_type": "stream",
     "text": [
      "Angle of the fitted line with respect to the x-axis: -0.20 radians\n",
      "Distance to the wall: 1.55 meters\n"
     ]
    },
    {
     "data": {
      "image/png": "[encoded data removed]",
      "text/plain": [
       "<Figure size 432x288 with 1 Axes>"
      ]
     },
     "metadata": {
      "needs_background": "light"
     },
     "output_type": "display_data"
    }
   ],
   "source": [
    "import numpy as np\n",
    "from sklearn.linear_model import RANSACRegressor\n",
    "from matplotlib import pyplot as plt\n",
    "from sklearn.cluster import DBSCAN\n",
    "from geometry_msgs.msg import Twist\n",
    "from sklearn.linear_model import LinearRegression\n",
    "from sklearn.preprocessing import PolynomialFeatures\n",
    "from scipy.optimize import minimize\n",
    "import time\n",
    "\n",
    "# Function to reduce 3D transformation to 2D\n",
    "def reduce_transform_to_2D(transform):\n",
    "    # Assuming transform is a 4x4 matrix\n",
    "    return transform[:2, :2]\n",
    "\n",
    "# Function to convert odometry to transformation\n",
    "def convert_odom_to_transform(pose):\n",
    "    # Convert the 2D pose (position and orientation) to a 3x3 homogeneous transformation matrix\n",
    "    return np.array([\n",
    "        [np.cos(pose.orientation.z), -np.sin(pose.orientation.z), pose.position.x],\n",
    "        [np.sin(pose.orientation.z), np.cos(pose.orientation.z), pose.position.y],\n",
    "        [0, 0, 1]\n",
    "    ])\n",
    "\n",
    "def rotate(angle):\n",
    "        # Create a Twist message\n",
    "        twist = Twist()\n",
    "\n",
    "        # Set the angular velocity in the z-axis to achieve the desired rotation\n",
    "        twist.angular.z = angle / abs(angle) * 0.5  # Adjust the value\n",
    "\n",
    "        # Publish the message for a certain duration to achieve the desired rotation\n",
    "        start_time = robot.get_clock().now()\n",
    "        while robot.get_clock().now() - start_time < rclpy.time.Duration(seconds=abs(angle) / 0.5):\n",
    "            robot.cmd_vel_publisher.publish(twist)\n",
    "            time.sleep(0.1)  # Sleep for 100 ms\n",
    "        # Stop the rotation\n",
    "        twist.angular.z = 0.0\n",
    "        robot.cmd_vel_publisher.publish(twist)\n",
    "        robot.set_cmd_vel(0.1, 0.0, 0.2)\n",
    "\n",
    "        \n",
    "def plot_lidar_scan_points(msg, pose):\n",
    "    points = [(np.cos(angle) * radius, np.sin(angle) * radius, 1) for angle, radius \\\n",
    "              in zip(np.linspace(msg.angle_min, msg.angle_max, len(msg.ranges)), msg.ranges)]\n",
    "    \n",
    "    T = convert_odom_to_transform(pose)\n",
    "    \n",
    "    # Remove points which cannot be measured\n",
    "    filtered_points = filter(lambda x: np.isfinite(x).all(), points)\n",
    "\n",
    "    transformed_points = [np.matmul(T, x) for x in filtered_points]\n",
    "    transformed_points = [x[:2] for x in transformed_points] # Reduce the homogeneous coordinates back to 2D\n",
    "    \n",
    "     # Convert to array for clustering\n",
    "    transformed_points_array = np.array(transformed_points)\n",
    "\n",
    "    # Apply DBSCAN algorithm to cluster the points\n",
    "    clustering = DBSCAN(eps=0.5, min_samples=5).fit(transformed_points_array)\n",
    "\n",
    "    # Find the cluster with the most points (above threshold)\n",
    "    threshold_value = 50 # Example threshold\n",
    "    largest_cluster = []\n",
    "    for cluster_id in set(clustering.labels_):\n",
    "        if cluster_id == -1:\n",
    "            continue # Ignore noise (-1 label)\n",
    "        \n",
    "        cluster_points = transformed_points_array[clustering.labels_ == cluster_id]\n",
    "        if len(cluster_points) > threshold_value and len(cluster_points) > len(largest_cluster):\n",
    "            largest_cluster = cluster_points\n",
    "\n",
    "    plt.plot([x[0] for x in largest_cluster], [x[1] for x in largest_cluster], 'r.')\n",
    "\n",
    "    return largest_cluster\n",
    "\n",
    "T_base_lidar = np.array([[ 2.22044605e-16, -1.00000000e+00, -4.00000000e-02],       [ 1.00000000e+00,  2.22044605e-16,  0.00000000e+00],       [ 0.00000000e+00,  0.00000000e+00,  1.00000000e+00]])\n",
    "# Assuming robot.last_odom_msg and robot.last_scan_msg contain the necessary information\n",
    "pose = robot.last_odom_msg.pose.pose\n",
    "plt.plot([pose.position.x], [pose.position.y], 'bx') # Robot position\n",
    "\n",
    "transformed_points = plot_lidar_scan_points(robot.last_scan_msg, pose)\n",
    "transformed_points_array = np.array(transformed_points)\n",
    "\n",
    "# Extract X and Y coordinates\n",
    "X = transformed_points_array[:, 0].reshape(-1, 1)\n",
    "y = transformed_points_array[:, 1]\n",
    "# Apply RANSAC algorithm to fit a line to the points\n",
    "ransac = RANSACRegressor()\n",
    "ransac.fit(X, y)\n",
    "\n",
    "# Plot the line\n",
    "line_X = np.array([np.min(X), np.max(X)])\n",
    "line_y = ransac.predict(line_X.reshape(-1, 1))\n",
    "plt.plot(line_X, line_y, 'g-') # Line in green color\n",
    "\n",
    "# Determine the slope of the fitted line\n",
    "m = (line_y[1] - line_y[0]) / (line_X[1] - line_X[0])\n",
    "\n",
    "# Compute the angle of inclination to the x-axis in radians\n",
    "theta_rad = np.arctan(m)\n",
    "#theta_deg = theta_rad * (180 / np.pi)\n",
    "\n",
    "print(f\"Angle of the fitted line with respect to the x-axis: {theta_rad:.2f} radians\")\n",
    "# Calculate the distance between the robot and the wall\n",
    "distance_to_wall = np.abs(line_y[0] - pose.position.y) / np.sqrt(1 + m ** 2)\n",
    "print(f\"Distance to the wall: {distance_to_wall:.2f} meters\")\n",
    "\n",
    "# Define target distance to the wall\n",
    "target_distance = 0.5 # meters\n",
    "\n",
    "# Calculate rotation angle based on the distance to the wall\n",
    "if distance_to_wall > target_distance:\n",
    "    rotation_angle = theta_rad\n",
    "else:\n",
    "    rotation_angle = np.pi - theta_rad\n",
    "\n",
    "# Apply rotation to the robot\n",
    "rotate(rotation_angle)"
   ]
  },
  {
   "cell_type": "code",
   "execution_count": null,
   "metadata": {},
   "outputs": [],
   "source": [
    "T_base_lidar = np.array([[ 2.22044605e-16, -1.00000000e+00, -4.00000000e-02],       [ 1.00000000e+00,  2.22044605e-16,  0.00000000e+00],       [ 0.00000000e+00,  0.00000000e+00,  1.00000000e+00]])\n",
    "# print(robot.last_scan_msg)\n",
    "# # print(robot.last_odom_msg)# print(robot.reduce_transform_to_2D(robot.get_tf_transform(\"base_link\",\"rplidar_link\")))def get_distance(x1 , y1 , x2 ,y2):    return np.sqrt((x2-x1)**2+(y2-y1)**2)def is_not_rods(pt , x2 ,y2):    if get_distance(pt[0] ,pt[1] , x2, y2) >= 0.14:        return True    else:        return False# T_base_lidar = robot.reduce_transform_to_2D(robot.get_tf_transform(\"base_link\",\"rplidar_link\"))# Plot lidar points from last messagedef plot_lidar_scan_points_working(msg,pose):    # Convert received lidar points into cartesian coordinates considering the current position from odometry    import numpy    points = [(numpy.cos(angle)*radius,numpy.sin(angle)*radius) for angle, radius \\\n",
    "              in zip(numpy.linspace(msg.angle_min,msg.angle_max,len(msg.ranges)),msg.ranges)]    \n",
    "# print(points[0:5])\n",
    "    T = robot.reduce_transform_to_2D(robot.convert_odom_to_transform(pose))    # print(T)        # remove points which cannot be measured    filtered_points = filter(lambda x: numpy.isfinite(x).all(),points)\n",
    "        # display points in world frame    transformed_points = [numpy.matmul(np.dot(T,T_base_lidar),        numpy.vstack([ numpy.atleast_2d(x).T,numpy.ones((1,1)) ]) ) for x in \n",
    "                          filtered_points]        # transformed_points = [pnt for pnt in transformed_points if abs(pnt[0]) <= 3 and abs(pnt[1]) <= 3]               # # transformed_points = [pnt for pnt in transformed_points if abs(pnt[0]) >= 0.0 and abs(pnt[1]) >= 0.095]      transformed_points = [pnt for pnt in transformed_points if is_not_rods(pnt , pose.position.x , pose.position.y )] \n",
    "\n",
    "    return transformed_points        transformed_points = plot_lidar_scan_points_working(robot.last_scan_msg,pose)plt.plot([pose.position.x],[pose.position.y],'bx') # TODO: show robot frontplt.plot(    [x[0] for x in transformed_points],    [x[1] for x in transformed_points],'r.')plt.ylim(-3.,3.)plt.xlim(-3.,3.)"
   ]
  },
  {
   "cell_type": "code",
   "execution_count": null,
   "metadata": {},
   "outputs": [],
   "source": [
    "robot.reset_odometry()"
   ]
  },
  {
   "cell_type": "code",
   "execution_count": null,
   "metadata": {},
   "outputs": [],
   "source": [
    "from geometry_msgs.msg import Twist\n",
    "msg = Twist()\n",
    "msg.linear.x = 0.1\n",
    "msg.angular.z = 0.\n",
    "robot.cmd_vel_publisher.publish(msg)"
   ]
  },
  {
   "attachments": {},
   "cell_type": "markdown",
   "metadata": {},
   "source": [
    "# Example: Drive the robot via teleoperation\n",
    "First, undock the robot using a preprogrammed behavior. Then open the visualization to drive the robot using buttons. After you are done, dock the robot again."
   ]
  },
  {
   "cell_type": "code",
   "execution_count": 7,
   "metadata": {},
   "outputs": [
    {
     "data": {
      "text/plain": [
       "irobot_create_msgs.action.Undock_Result(is_docked=False)"
      ]
     },
     "execution_count": 7,
     "metadata": {},
     "output_type": "execute_result"
    }
   ],
   "source": [
    "robot.undock()"
   ]
  },
  {
   "cell_type": "code",
   "execution_count": 12,
   "metadata": {},
   "outputs": [
    {
     "ename": "ValueError",
     "evalue": "Unknown format code 'd' for object of type 'str'",
     "output_type": "error",
     "traceback": [
      "\u001b[0;31m---------------------------------------------------------------------------\u001b[0m",
      "\u001b[0;31mValueError\u001b[0m                                Traceback (most recent call last)",
      "\u001b[0;32m/tmp/ipykernel_484/392928079.py\u001b[0m in \u001b[0;36m<module>\u001b[0;34m\u001b[0m\n\u001b[0;32m----> 1\u001b[0;31m \u001b[0mrobot\u001b[0m\u001b[0;34m.\u001b[0m\u001b[0mopen_visualization\u001b[0m\u001b[0;34m(\u001b[0m\u001b[0;34m)\u001b[0m\u001b[0;34m\u001b[0m\u001b[0;34m\u001b[0m\u001b[0m\n\u001b[0m",
      "\u001b[0;32m/opt/robohub/humble/lib/python3.10/site-packages/turtlebot4_wrapper/__init__.py\u001b[0m in \u001b[0;36mopen_visualization\u001b[0;34m(self, open_url, mobile_layout, display_qrcode)\u001b[0m\n\u001b[1;32m    220\u001b[0m                 \u001b[0moutput\u001b[0m \u001b[0;34m=\u001b[0m \u001b[0msubprocess\u001b[0m\u001b[0;34m.\u001b[0m\u001b[0mcheck_output\u001b[0m\u001b[0;34m(\u001b[0m\u001b[0;34m\"ip addr show\"\u001b[0m\u001b[0;34m,\u001b[0m\u001b[0mshell\u001b[0m\u001b[0;34m=\u001b[0m\u001b[0;32mTrue\u001b[0m\u001b[0;34m)\u001b[0m\u001b[0;34m\u001b[0m\u001b[0;34m\u001b[0m\u001b[0m\n\u001b[1;32m    221\u001b[0m                 \u001b[0mrobot_id\u001b[0m \u001b[0;34m=\u001b[0m \u001b[0mre\u001b[0m\u001b[0;34m.\u001b[0m\u001b[0msearch\u001b[0m\u001b[0;34m(\u001b[0m\u001b[0;34mr\"tap[0-9]\\.([0-9]+)@tap\"\u001b[0m\u001b[0;34m,\u001b[0m\u001b[0moutput\u001b[0m\u001b[0;34m.\u001b[0m\u001b[0mdecode\u001b[0m\u001b[0;34m(\u001b[0m\u001b[0;34m)\u001b[0m\u001b[0;34m)\u001b[0m\u001b[0;34m.\u001b[0m\u001b[0mgroups\u001b[0m\u001b[0;34m(\u001b[0m\u001b[0;34m)\u001b[0m\u001b[0;34m[\u001b[0m\u001b[0;36m0\u001b[0m\u001b[0;34m]\u001b[0m\u001b[0;34m\u001b[0m\u001b[0;34m\u001b[0m\u001b[0m\n\u001b[0;32m--> 222\u001b[0;31m                 \u001b[0mfoxglove_websocket_url\u001b[0m \u001b[0;34m=\u001b[0m \u001b[0;34m\"wss%3A%2F%2Frobohub.eng.uwaterloo.ca%2Fuwbot-{:02d}-foxglove%2F\"\u001b[0m\u001b[0;34m.\u001b[0m\u001b[0mformat\u001b[0m\u001b[0;34m(\u001b[0m\u001b[0mrobot_id\u001b[0m\u001b[0;34m)\u001b[0m\u001b[0;34m\u001b[0m\u001b[0;34m\u001b[0m\u001b[0m\n\u001b[0m\u001b[1;32m    223\u001b[0m \u001b[0;34m\u001b[0m\u001b[0m\n\u001b[1;32m    224\u001b[0m         \u001b[0;32mif\u001b[0m \u001b[0;32mnot\u001b[0m \u001b[0mmobile_layout\u001b[0m\u001b[0;34m:\u001b[0m\u001b[0;34m\u001b[0m\u001b[0;34m\u001b[0m\u001b[0m\n",
      "\u001b[0;31mValueError\u001b[0m: Unknown format code 'd' for object of type 'str'"
     ]
    }
   ],
   "source": [
    "robot.open_visualization()"
   ]
  },
  {
   "cell_type": "code",
   "execution_count": 11,
   "metadata": {},
   "outputs": [
    {
     "name": "stdout",
     "output_type": "stream",
     "text": [
      "You can additional move the robot with your phone:\n"
     ]
    },
    {
     "ename": "ValueError",
     "evalue": "Unknown format code 'd' for object of type 'str'",
     "output_type": "error",
     "traceback": [
      "\u001b[0;31m---------------------------------------------------------------------------\u001b[0m",
      "\u001b[0;31mValueError\u001b[0m                                Traceback (most recent call last)",
      "\u001b[0;32m/tmp/ipykernel_484/2958001119.py\u001b[0m in \u001b[0;36m<module>\u001b[0;34m\u001b[0m\n\u001b[1;32m      1\u001b[0m \u001b[0mprint\u001b[0m\u001b[0;34m(\u001b[0m\u001b[0;34m\"You can additional move the robot with your phone:\"\u001b[0m\u001b[0;34m)\u001b[0m\u001b[0;34m\u001b[0m\u001b[0;34m\u001b[0m\u001b[0m\n\u001b[0;32m----> 2\u001b[0;31m \u001b[0mrobot\u001b[0m\u001b[0;34m.\u001b[0m\u001b[0mopen_visualization\u001b[0m\u001b[0;34m(\u001b[0m\u001b[0mopen_url\u001b[0m\u001b[0;34m=\u001b[0m\u001b[0;32mFalse\u001b[0m\u001b[0;34m,\u001b[0m\u001b[0mmobile_layout\u001b[0m\u001b[0;34m=\u001b[0m\u001b[0;32mTrue\u001b[0m\u001b[0;34m,\u001b[0m\u001b[0mdisplay_qrcode\u001b[0m\u001b[0;34m=\u001b[0m\u001b[0;32mTrue\u001b[0m\u001b[0;34m)\u001b[0m\u001b[0;34m\u001b[0m\u001b[0;34m\u001b[0m\u001b[0m\n\u001b[0m",
      "\u001b[0;32m/opt/robohub/humble/lib/python3.10/site-packages/turtlebot4_wrapper/__init__.py\u001b[0m in \u001b[0;36mopen_visualization\u001b[0;34m(self, open_url, mobile_layout, display_qrcode)\u001b[0m\n\u001b[1;32m    220\u001b[0m                 \u001b[0moutput\u001b[0m \u001b[0;34m=\u001b[0m \u001b[0msubprocess\u001b[0m\u001b[0;34m.\u001b[0m\u001b[0mcheck_output\u001b[0m\u001b[0;34m(\u001b[0m\u001b[0;34m\"ip addr show\"\u001b[0m\u001b[0;34m,\u001b[0m\u001b[0mshell\u001b[0m\u001b[0;34m=\u001b[0m\u001b[0;32mTrue\u001b[0m\u001b[0;34m)\u001b[0m\u001b[0;34m\u001b[0m\u001b[0;34m\u001b[0m\u001b[0m\n\u001b[1;32m    221\u001b[0m                 \u001b[0mrobot_id\u001b[0m \u001b[0;34m=\u001b[0m \u001b[0mre\u001b[0m\u001b[0;34m.\u001b[0m\u001b[0msearch\u001b[0m\u001b[0;34m(\u001b[0m\u001b[0;34mr\"tap[0-9]\\.([0-9]+)@tap\"\u001b[0m\u001b[0;34m,\u001b[0m\u001b[0moutput\u001b[0m\u001b[0;34m.\u001b[0m\u001b[0mdecode\u001b[0m\u001b[0;34m(\u001b[0m\u001b[0;34m)\u001b[0m\u001b[0;34m)\u001b[0m\u001b[0;34m.\u001b[0m\u001b[0mgroups\u001b[0m\u001b[0;34m(\u001b[0m\u001b[0;34m)\u001b[0m\u001b[0;34m[\u001b[0m\u001b[0;36m0\u001b[0m\u001b[0;34m]\u001b[0m\u001b[0;34m\u001b[0m\u001b[0;34m\u001b[0m\u001b[0m\n\u001b[0;32m--> 222\u001b[0;31m                 \u001b[0mfoxglove_websocket_url\u001b[0m \u001b[0;34m=\u001b[0m \u001b[0;34m\"wss%3A%2F%2Frobohub.eng.uwaterloo.ca%2Fuwbot-{:02d}-foxglove%2F\"\u001b[0m\u001b[0;34m.\u001b[0m\u001b[0mformat\u001b[0m\u001b[0;34m(\u001b[0m\u001b[0mrobot_id\u001b[0m\u001b[0;34m)\u001b[0m\u001b[0;34m\u001b[0m\u001b[0;34m\u001b[0m\u001b[0m\n\u001b[0m\u001b[1;32m    223\u001b[0m \u001b[0;34m\u001b[0m\u001b[0m\n\u001b[1;32m    224\u001b[0m         \u001b[0;32mif\u001b[0m \u001b[0;32mnot\u001b[0m \u001b[0mmobile_layout\u001b[0m\u001b[0;34m:\u001b[0m\u001b[0;34m\u001b[0m\u001b[0;34m\u001b[0m\u001b[0m\n",
      "\u001b[0;31mValueError\u001b[0m: Unknown format code 'd' for object of type 'str'"
     ]
    }
   ],
   "source": [
    "print(\"You can additional move the robot with your phone:\")\n",
    "robot.open_visualization(open_url=False,mobile_layout=True,display_qrcode=True)"
   ]
  },
  {
   "attachments": {},
   "cell_type": "markdown",
   "metadata": {},
   "source": [
    "On the new webpage In the foxglove visualizer, you can drive the robot with panels in the bottom right hand corner. After you are done exploring, position the robot so that it is approximately 1-2m away from the dock and is pointing towards the dock."
   ]
  },
  {
   "cell_type": "code",
   "execution_count": null,
   "metadata": {},
   "outputs": [],
   "source": [
    "robot.dock()"
   ]
  },
  {
   "attachments": {},
   "cell_type": "markdown",
   "metadata": {},
   "source": [
    "# Example: Drive a square shape\n",
    "In this example the robot automatically drives a square shape. While this is interesting to watch, it shows also some challenges. Before you execute this, mark the start position on the floor using tape as shown below (TODO: picture. Place your start position such that the robot has at least 0.5m space to the front and 0.5m to the left. Then execute the next cell. The code will also start a background logging process so you can analyze the data later."
   ]
  },
  {
   "cell_type": "code",
   "execution_count": 8,
   "metadata": {},
   "outputs": [
    {
     "ename": "KeyboardInterrupt",
     "evalue": "",
     "output_type": "error",
     "traceback": [
      "\u001b[0;31m---------------------------------------------------------------------------\u001b[0m",
      "\u001b[0;31mKeyboardInterrupt\u001b[0m                         Traceback (most recent call last)",
      "\u001b[0;32m/tmp/ipykernel_484/1440450775.py\u001b[0m in \u001b[0;36m<module>\u001b[0;34m\u001b[0m\n\u001b[1;32m      6\u001b[0m     \u001b[0mrobot\u001b[0m\u001b[0;34m.\u001b[0m\u001b[0mset_cmd_vel\u001b[0m\u001b[0;34m(\u001b[0m\u001b[0;36m0.4\u001b[0m\u001b[0;34m,\u001b[0m \u001b[0;36m0.0\u001b[0m\u001b[0;34m,\u001b[0m \u001b[0;36m2.\u001b[0m\u001b[0;34m)\u001b[0m \u001b[0;31m# 0.1\u001b[0m\u001b[0;34m\u001b[0m\u001b[0;34m\u001b[0m\u001b[0m\n\u001b[1;32m      7\u001b[0m     \u001b[0mrobot\u001b[0m\u001b[0;34m.\u001b[0m\u001b[0mset_cmd_vel\u001b[0m\u001b[0;34m(\u001b[0m\u001b[0;36m0.0\u001b[0m\u001b[0;34m,\u001b[0m \u001b[0;36m0.5\u001b[0m\u001b[0;34m,\u001b[0m \u001b[0;36m3.14\u001b[0m\u001b[0;34m)\u001b[0m\u001b[0;34m\u001b[0m\u001b[0;34m\u001b[0m\u001b[0m\n\u001b[0;32m----> 8\u001b[0;31m     \u001b[0mrobot\u001b[0m\u001b[0;34m.\u001b[0m\u001b[0mset_cmd_vel\u001b[0m\u001b[0;34m(\u001b[0m\u001b[0;36m0.4\u001b[0m\u001b[0;34m,\u001b[0m \u001b[0;36m0.0\u001b[0m\u001b[0;34m,\u001b[0m \u001b[0;36m2.\u001b[0m\u001b[0;34m)\u001b[0m \u001b[0;31m# 0.1\u001b[0m\u001b[0;34m\u001b[0m\u001b[0;34m\u001b[0m\u001b[0m\n\u001b[0m\u001b[1;32m      9\u001b[0m     \u001b[0mrobot\u001b[0m\u001b[0;34m.\u001b[0m\u001b[0mset_cmd_vel\u001b[0m\u001b[0;34m(\u001b[0m\u001b[0;36m0.0\u001b[0m\u001b[0;34m,\u001b[0m \u001b[0;36m0.5\u001b[0m\u001b[0;34m,\u001b[0m \u001b[0;36m3.14\u001b[0m\u001b[0;34m)\u001b[0m\u001b[0;34m\u001b[0m\u001b[0;34m\u001b[0m\u001b[0m\n\u001b[1;32m     10\u001b[0m     \u001b[0mrobot\u001b[0m\u001b[0;34m.\u001b[0m\u001b[0mset_cmd_vel\u001b[0m\u001b[0;34m(\u001b[0m\u001b[0;36m0.4\u001b[0m\u001b[0;34m,\u001b[0m \u001b[0;36m0.0\u001b[0m\u001b[0;34m,\u001b[0m \u001b[0;36m2.\u001b[0m\u001b[0;34m)\u001b[0m \u001b[0;31m# 0.1\u001b[0m\u001b[0;34m\u001b[0m\u001b[0;34m\u001b[0m\u001b[0m\n",
      "\u001b[0;32m/opt/robohub/humble/lib/python3.10/site-packages/turtlebot4_wrapper/__init__.py\u001b[0m in \u001b[0;36mset_cmd_vel\u001b[0;34m(self, velocity_x, velocity_phi, duration, stop)\u001b[0m\n\u001b[1;32m    348\u001b[0m         \u001b[0mself\u001b[0m\u001b[0;34m.\u001b[0m\u001b[0mcmd_vel_terminate\u001b[0m \u001b[0;34m=\u001b[0m \u001b[0;32mFalse\u001b[0m\u001b[0;34m\u001b[0m\u001b[0;34m\u001b[0m\u001b[0m\n\u001b[1;32m    349\u001b[0m         \u001b[0mself\u001b[0m\u001b[0;34m.\u001b[0m\u001b[0mcmd_vel_timer\u001b[0m \u001b[0;34m=\u001b[0m \u001b[0mself\u001b[0m\u001b[0;34m.\u001b[0m\u001b[0mcreate_timer\u001b[0m\u001b[0;34m(\u001b[0m\u001b[0mtimer_period\u001b[0m\u001b[0;34m,\u001b[0m \u001b[0mself\u001b[0m\u001b[0;34m.\u001b[0m\u001b[0mcmd_vel_timer_callback\u001b[0m\u001b[0;34m)\u001b[0m\u001b[0;34m\u001b[0m\u001b[0;34m\u001b[0m\u001b[0m\n\u001b[0;32m--> 350\u001b[0;31m         \u001b[0mrclpy\u001b[0m\u001b[0;34m.\u001b[0m\u001b[0mspin_until_future_complete\u001b[0m\u001b[0;34m(\u001b[0m\u001b[0mself\u001b[0m\u001b[0;34m,\u001b[0m\u001b[0mself\u001b[0m\u001b[0;34m.\u001b[0m\u001b[0mcmd_vel_future\u001b[0m\u001b[0;34m)\u001b[0m\u001b[0;34m\u001b[0m\u001b[0;34m\u001b[0m\u001b[0m\n\u001b[0m\u001b[1;32m    351\u001b[0m \u001b[0;34m\u001b[0m\u001b[0m\n\u001b[1;32m    352\u001b[0m \u001b[0;34m\u001b[0m\u001b[0m\n",
      "\u001b[0;32m/opt/ros/humble/local/lib/python3.10/dist-packages/rclpy/__init__.py\u001b[0m in \u001b[0;36mspin_until_future_complete\u001b[0;34m(node, future, executor, timeout_sec)\u001b[0m\n\u001b[1;32m    246\u001b[0m     \u001b[0;32mtry\u001b[0m\u001b[0;34m:\u001b[0m\u001b[0;34m\u001b[0m\u001b[0;34m\u001b[0m\u001b[0m\n\u001b[1;32m    247\u001b[0m         \u001b[0mexecutor\u001b[0m\u001b[0;34m.\u001b[0m\u001b[0madd_node\u001b[0m\u001b[0;34m(\u001b[0m\u001b[0mnode\u001b[0m\u001b[0;34m)\u001b[0m\u001b[0;34m\u001b[0m\u001b[0;34m\u001b[0m\u001b[0m\n\u001b[0;32m--> 248\u001b[0;31m         \u001b[0mexecutor\u001b[0m\u001b[0;34m.\u001b[0m\u001b[0mspin_until_future_complete\u001b[0m\u001b[0;34m(\u001b[0m\u001b[0mfuture\u001b[0m\u001b[0;34m,\u001b[0m \u001b[0mtimeout_sec\u001b[0m\u001b[0;34m)\u001b[0m\u001b[0;34m\u001b[0m\u001b[0;34m\u001b[0m\u001b[0m\n\u001b[0m\u001b[1;32m    249\u001b[0m     \u001b[0;32mfinally\u001b[0m\u001b[0;34m:\u001b[0m\u001b[0;34m\u001b[0m\u001b[0;34m\u001b[0m\u001b[0m\n\u001b[1;32m    250\u001b[0m         \u001b[0mexecutor\u001b[0m\u001b[0;34m.\u001b[0m\u001b[0mremove_node\u001b[0m\u001b[0;34m(\u001b[0m\u001b[0mnode\u001b[0m\u001b[0;34m)\u001b[0m\u001b[0;34m\u001b[0m\u001b[0;34m\u001b[0m\u001b[0m\n",
      "\u001b[0;32m/opt/ros/humble/local/lib/python3.10/dist-packages/rclpy/executors.py\u001b[0m in \u001b[0;36mspin_until_future_complete\u001b[0;34m(self, future, timeout_sec)\u001b[0m\n\u001b[1;32m    286\u001b[0m         \u001b[0;32mif\u001b[0m \u001b[0mtimeout_sec\u001b[0m \u001b[0;32mis\u001b[0m \u001b[0;32mNone\u001b[0m \u001b[0;32mor\u001b[0m \u001b[0mtimeout_sec\u001b[0m \u001b[0;34m<\u001b[0m \u001b[0;36m0\u001b[0m\u001b[0;34m:\u001b[0m\u001b[0;34m\u001b[0m\u001b[0;34m\u001b[0m\u001b[0m\n\u001b[1;32m    287\u001b[0m             \u001b[0;32mwhile\u001b[0m \u001b[0mself\u001b[0m\u001b[0;34m.\u001b[0m\u001b[0m_context\u001b[0m\u001b[0;34m.\u001b[0m\u001b[0mok\u001b[0m\u001b[0;34m(\u001b[0m\u001b[0;34m)\u001b[0m \u001b[0;32mand\u001b[0m \u001b[0;32mnot\u001b[0m \u001b[0mfuture\u001b[0m\u001b[0;34m.\u001b[0m\u001b[0mdone\u001b[0m\u001b[0;34m(\u001b[0m\u001b[0;34m)\u001b[0m \u001b[0;32mand\u001b[0m \u001b[0;32mnot\u001b[0m \u001b[0mself\u001b[0m\u001b[0;34m.\u001b[0m\u001b[0m_is_shutdown\u001b[0m\u001b[0;34m:\u001b[0m\u001b[0;34m\u001b[0m\u001b[0;34m\u001b[0m\u001b[0m\n\u001b[0;32m--> 288\u001b[0;31m                 \u001b[0mself\u001b[0m\u001b[0;34m.\u001b[0m\u001b[0mspin_once_until_future_complete\u001b[0m\u001b[0;34m(\u001b[0m\u001b[0mfuture\u001b[0m\u001b[0;34m,\u001b[0m \u001b[0mtimeout_sec\u001b[0m\u001b[0;34m)\u001b[0m\u001b[0;34m\u001b[0m\u001b[0;34m\u001b[0m\u001b[0m\n\u001b[0m\u001b[1;32m    289\u001b[0m         \u001b[0;32melse\u001b[0m\u001b[0;34m:\u001b[0m\u001b[0;34m\u001b[0m\u001b[0;34m\u001b[0m\u001b[0m\n\u001b[1;32m    290\u001b[0m             \u001b[0mstart\u001b[0m \u001b[0;34m=\u001b[0m \u001b[0mtime\u001b[0m\u001b[0;34m.\u001b[0m\u001b[0mmonotonic\u001b[0m\u001b[0;34m(\u001b[0m\u001b[0;34m)\u001b[0m\u001b[0;34m\u001b[0m\u001b[0;34m\u001b[0m\u001b[0m\n",
      "\u001b[0;32m/opt/ros/humble/local/lib/python3.10/dist-packages/rclpy/executors.py\u001b[0m in \u001b[0;36mspin_once_until_future_complete\u001b[0;34m(self, future, timeout_sec)\u001b[0m\n\u001b[1;32m    714\u001b[0m \u001b[0;34m\u001b[0m\u001b[0m\n\u001b[1;32m    715\u001b[0m     \u001b[0;32mdef\u001b[0m \u001b[0mspin_once_until_future_complete\u001b[0m\u001b[0;34m(\u001b[0m\u001b[0mself\u001b[0m\u001b[0;34m,\u001b[0m \u001b[0mfuture\u001b[0m\u001b[0;34m:\u001b[0m \u001b[0mFuture\u001b[0m\u001b[0;34m,\u001b[0m \u001b[0mtimeout_sec\u001b[0m\u001b[0;34m:\u001b[0m \u001b[0mfloat\u001b[0m \u001b[0;34m=\u001b[0m \u001b[0;32mNone\u001b[0m\u001b[0;34m)\u001b[0m \u001b[0;34m->\u001b[0m \u001b[0;32mNone\u001b[0m\u001b[0;34m:\u001b[0m\u001b[0;34m\u001b[0m\u001b[0;34m\u001b[0m\u001b[0m\n\u001b[0;32m--> 716\u001b[0;31m         \u001b[0mself\u001b[0m\u001b[0;34m.\u001b[0m\u001b[0mspin_once\u001b[0m\u001b[0;34m(\u001b[0m\u001b[0mtimeout_sec\u001b[0m\u001b[0;34m)\u001b[0m\u001b[0;34m\u001b[0m\u001b[0;34m\u001b[0m\u001b[0m\n\u001b[0m\u001b[1;32m    717\u001b[0m \u001b[0;34m\u001b[0m\u001b[0m\n\u001b[1;32m    718\u001b[0m \u001b[0;34m\u001b[0m\u001b[0m\n",
      "\u001b[0;32m/opt/ros/humble/local/lib/python3.10/dist-packages/rclpy/executors.py\u001b[0m in \u001b[0;36mspin_once\u001b[0;34m(self, timeout_sec)\u001b[0m\n\u001b[1;32m    703\u001b[0m     \u001b[0;32mdef\u001b[0m \u001b[0mspin_once\u001b[0m\u001b[0;34m(\u001b[0m\u001b[0mself\u001b[0m\u001b[0;34m,\u001b[0m \u001b[0mtimeout_sec\u001b[0m\u001b[0;34m:\u001b[0m \u001b[0mfloat\u001b[0m \u001b[0;34m=\u001b[0m \u001b[0;32mNone\u001b[0m\u001b[0;34m)\u001b[0m \u001b[0;34m->\u001b[0m \u001b[0;32mNone\u001b[0m\u001b[0;34m:\u001b[0m\u001b[0;34m\u001b[0m\u001b[0;34m\u001b[0m\u001b[0m\n\u001b[1;32m    704\u001b[0m         \u001b[0;32mtry\u001b[0m\u001b[0;34m:\u001b[0m\u001b[0;34m\u001b[0m\u001b[0;34m\u001b[0m\u001b[0m\n\u001b[0;32m--> 705\u001b[0;31m             \u001b[0mhandler\u001b[0m\u001b[0;34m,\u001b[0m \u001b[0mentity\u001b[0m\u001b[0;34m,\u001b[0m \u001b[0mnode\u001b[0m \u001b[0;34m=\u001b[0m \u001b[0mself\u001b[0m\u001b[0;34m.\u001b[0m\u001b[0mwait_for_ready_callbacks\u001b[0m\u001b[0;34m(\u001b[0m\u001b[0mtimeout_sec\u001b[0m\u001b[0;34m=\u001b[0m\u001b[0mtimeout_sec\u001b[0m\u001b[0;34m)\u001b[0m\u001b[0;34m\u001b[0m\u001b[0;34m\u001b[0m\u001b[0m\n\u001b[0m\u001b[1;32m    706\u001b[0m         \u001b[0;32mexcept\u001b[0m \u001b[0mShutdownException\u001b[0m\u001b[0;34m:\u001b[0m\u001b[0;34m\u001b[0m\u001b[0;34m\u001b[0m\u001b[0m\n\u001b[1;32m    707\u001b[0m             \u001b[0;32mpass\u001b[0m\u001b[0;34m\u001b[0m\u001b[0;34m\u001b[0m\u001b[0m\n",
      "\u001b[0;32m/opt/ros/humble/local/lib/python3.10/dist-packages/rclpy/executors.py\u001b[0m in \u001b[0;36mwait_for_ready_callbacks\u001b[0;34m(self, *args, **kwargs)\u001b[0m\n\u001b[1;32m    689\u001b[0m \u001b[0;34m\u001b[0m\u001b[0m\n\u001b[1;32m    690\u001b[0m             \u001b[0;32mtry\u001b[0m\u001b[0;34m:\u001b[0m\u001b[0;34m\u001b[0m\u001b[0;34m\u001b[0m\u001b[0m\n\u001b[0;32m--> 691\u001b[0;31m                 \u001b[0;32mreturn\u001b[0m \u001b[0mnext\u001b[0m\u001b[0;34m(\u001b[0m\u001b[0mself\u001b[0m\u001b[0;34m.\u001b[0m\u001b[0m_cb_iter\u001b[0m\u001b[0;34m)\u001b[0m\u001b[0;34m\u001b[0m\u001b[0;34m\u001b[0m\u001b[0m\n\u001b[0m\u001b[1;32m    692\u001b[0m             \u001b[0;32mexcept\u001b[0m \u001b[0mStopIteration\u001b[0m\u001b[0;34m:\u001b[0m\u001b[0;34m\u001b[0m\u001b[0;34m\u001b[0m\u001b[0m\n\u001b[1;32m    693\u001b[0m                 \u001b[0;31m# Generator ran out of work\u001b[0m\u001b[0;34m\u001b[0m\u001b[0;34m\u001b[0m\u001b[0m\n",
      "\u001b[0;32m/opt/ros/humble/local/lib/python3.10/dist-packages/rclpy/executors.py\u001b[0m in \u001b[0;36m_wait_for_ready_callbacks\u001b[0;34m(self, timeout_sec, nodes, condition)\u001b[0m\n\u001b[1;32m    586\u001b[0m \u001b[0;34m\u001b[0m\u001b[0m\n\u001b[1;32m    587\u001b[0m                 \u001b[0;31m# Wait for something to become ready\u001b[0m\u001b[0;34m\u001b[0m\u001b[0;34m\u001b[0m\u001b[0m\n\u001b[0;32m--> 588\u001b[0;31m                 \u001b[0mwait_set\u001b[0m\u001b[0;34m.\u001b[0m\u001b[0mwait\u001b[0m\u001b[0;34m(\u001b[0m\u001b[0mtimeout_nsec\u001b[0m\u001b[0;34m)\u001b[0m\u001b[0;34m\u001b[0m\u001b[0;34m\u001b[0m\u001b[0m\n\u001b[0m\u001b[1;32m    589\u001b[0m                 \u001b[0;32mif\u001b[0m \u001b[0mself\u001b[0m\u001b[0;34m.\u001b[0m\u001b[0m_is_shutdown\u001b[0m\u001b[0;34m:\u001b[0m\u001b[0;34m\u001b[0m\u001b[0;34m\u001b[0m\u001b[0m\n\u001b[1;32m    590\u001b[0m                     \u001b[0;32mraise\u001b[0m \u001b[0mShutdownException\u001b[0m\u001b[0;34m(\u001b[0m\u001b[0;34m)\u001b[0m\u001b[0;34m\u001b[0m\u001b[0;34m\u001b[0m\u001b[0m\n",
      "\u001b[0;31mKeyboardInterrupt\u001b[0m: "
     ]
    }
   ],
   "source": [
    "# send_cmd_vel (forward_velocity, rotation_velocity, duration)\n",
    "robot.reset_odometry() # make the robot think it is at position (0,0,0) \n",
    "robot.configure_logging([\"/odom\",\"/tf\",\"/tf_static\",\"/scan\"]) # set topics which should be recorded\n",
    "robot.start_logging() # start the background logging process\n",
    "for iterations in range(2): # drive the square\n",
    "    robot.set_cmd_vel(0.4, 0.0, 2.) # 0.1\n",
    "    robot.set_cmd_vel(0.0, 0.5, 3.14)\n",
    "    robot.set_cmd_vel(0.4, 0.0, 2.) # 0.1\n",
    "    robot.set_cmd_vel(0.0, 0.5, 3.14)\n",
    "    robot.set_cmd_vel(0.4, 0.0, 2.) # 0.1\n",
    "    robot.set_cmd_vel(0.0, 0.5, 3.14)\n",
    "    robot.set_cmd_vel(0.4, 0.0, 2.) # 0.1\n",
    "    robot.set_cmd_vel(0.0, 0.5, 3.14)\n",
    "logging_dir = robot.stop_logging()\n",
    "log_data = robot.get_logging_data(logging_dir) # parse the logged data and import in python"
   ]
  },
  {
   "attachments": {},
   "cell_type": "markdown",
   "metadata": {},
   "source": [
    "Executing the next cell will open the log data in the visualizer."
   ]
  },
  {
   "cell_type": "code",
   "execution_count": 9,
   "metadata": {},
   "outputs": [
    {
     "ename": "NameError",
     "evalue": "name 'logging_dir' is not defined",
     "output_type": "error",
     "traceback": [
      "\u001b[0;31m---------------------------------------------------------------------------\u001b[0m",
      "\u001b[0;31mNameError\u001b[0m                                 Traceback (most recent call last)",
      "\u001b[0;32m/tmp/ipykernel_484/3185556619.py\u001b[0m in \u001b[0;36m<module>\u001b[0;34m\u001b[0m\n\u001b[0;32m----> 1\u001b[0;31m \u001b[0mrobot\u001b[0m\u001b[0;34m.\u001b[0m\u001b[0mopen_logging_data_in_visualizer\u001b[0m\u001b[0;34m(\u001b[0m\u001b[0mlogging_dir\u001b[0m\u001b[0;34m)\u001b[0m\u001b[0;34m\u001b[0m\u001b[0;34m\u001b[0m\u001b[0m\n\u001b[0m\u001b[1;32m      2\u001b[0m \u001b[0mrobot\u001b[0m\u001b[0;34m.\u001b[0m\u001b[0mdelete_logging_data\u001b[0m\u001b[0;34m(\u001b[0m\u001b[0mlogging_dir\u001b[0m\u001b[0;34m)\u001b[0m\u001b[0;34m\u001b[0m\u001b[0;34m\u001b[0m\u001b[0m\n",
      "\u001b[0;31mNameError\u001b[0m: name 'logging_dir' is not defined"
     ]
    }
   ],
   "source": [
    "robot.open_logging_data_in_visualizer(logging_dir)\n",
    "robot.delete_logging_data(logging_dir)"
   ]
  },
  {
   "cell_type": "code",
   "execution_count": 10,
   "metadata": {},
   "outputs": [
    {
     "ename": "NameError",
     "evalue": "name 'log_data' is not defined",
     "output_type": "error",
     "traceback": [
      "\u001b[0;31m---------------------------------------------------------------------------\u001b[0m",
      "\u001b[0;31mNameError\u001b[0m                                 Traceback (most recent call last)",
      "\u001b[0;32m/tmp/ipykernel_484/1135107921.py\u001b[0m in \u001b[0;36m<module>\u001b[0;34m\u001b[0m\n\u001b[1;32m      1\u001b[0m \u001b[0;31m# Plot data in the notebook\u001b[0m\u001b[0;34m\u001b[0m\u001b[0;34m\u001b[0m\u001b[0m\n\u001b[0;32m----> 2\u001b[0;31m \u001b[0mprint\u001b[0m\u001b[0;34m(\u001b[0m\u001b[0;34m\"Collected {} samples\"\u001b[0m\u001b[0;34m.\u001b[0m\u001b[0mformat\u001b[0m\u001b[0;34m(\u001b[0m\u001b[0mlen\u001b[0m\u001b[0;34m(\u001b[0m\u001b[0mlog_data\u001b[0m\u001b[0;34m[\u001b[0m\u001b[0;34m'/odom'\u001b[0m\u001b[0;34m]\u001b[0m\u001b[0;34m)\u001b[0m\u001b[0;34m)\u001b[0m\u001b[0;34m)\u001b[0m\u001b[0;34m\u001b[0m\u001b[0;34m\u001b[0m\u001b[0m\n\u001b[0m\u001b[1;32m      3\u001b[0m \u001b[0;32mimport\u001b[0m \u001b[0mmatplotlib\u001b[0m\u001b[0;34m.\u001b[0m\u001b[0mpyplot\u001b[0m \u001b[0;32mas\u001b[0m \u001b[0mplt\u001b[0m\u001b[0;34m\u001b[0m\u001b[0;34m\u001b[0m\u001b[0m\n\u001b[1;32m      4\u001b[0m \u001b[0;32mfrom\u001b[0m \u001b[0mmatplotlib\u001b[0m\u001b[0;34m.\u001b[0m\u001b[0mpatches\u001b[0m \u001b[0;32mimport\u001b[0m \u001b[0mCircle\u001b[0m\u001b[0;34m,\u001b[0m \u001b[0mWedge\u001b[0m\u001b[0;34m\u001b[0m\u001b[0;34m\u001b[0m\u001b[0m\n\u001b[1;32m      5\u001b[0m \u001b[0mfig\u001b[0m\u001b[0;34m,\u001b[0m\u001b[0max\u001b[0m \u001b[0;34m=\u001b[0m \u001b[0mplt\u001b[0m\u001b[0;34m.\u001b[0m\u001b[0msubplots\u001b[0m\u001b[0;34m(\u001b[0m\u001b[0;36m1\u001b[0m\u001b[0;34m)\u001b[0m\u001b[0;34m\u001b[0m\u001b[0;34m\u001b[0m\u001b[0m\n",
      "\u001b[0;31mNameError\u001b[0m: name 'log_data' is not defined"
     ]
    }
   ],
   "source": [
    "# Plot data in the notebook\n",
    "print(\"Collected {} samples\".format(len(log_data['/odom'])))\n",
    "import matplotlib.pyplot as plt\n",
    "from matplotlib.patches import Circle, Wedge\n",
    "fig,ax = plt.subplots(1)\n",
    "ax.set_aspect('equal')\n",
    "# TODO: decide if x forward is really the way to go\n",
    "plt.xlim([-1.5,0.2])\n",
    "plt.ylim([-0.2,1.5])\n",
    "for msg in log_data['/odom'][::20]:\n",
    "    T3D = robot.convert_odom_to_transform(msg[1].pose.pose)\n",
    "    T2D = robot.reduce_transform_to_2D(T3D)\n",
    "    circ = Circle((-T2D[1,2],T2D[0,2]),0.1) # TODO: correct radius\n",
    "    circ.set_fill(False)\n",
    "    ax.add_patch(circ)\n",
    "    angle = robot.rotation_from_transform(T2D)\n",
    "    import math\n",
    "    angle = angle/math.pi*180\n",
    "    wedge = Wedge((-T2D[1,2],T2D[0,2]),0.1, angle+180+45, angle+360-45)\n",
    "    ax.add_patch(wedge)"
   ]
  },
  {
   "attachments": {},
   "cell_type": "markdown",
   "metadata": {},
   "source": [
    "From the experiment, please try to explain two aspect:\n",
    "* Discrepancies between the commanded robot motion and the executed one\n",
    "* Discrepancies between the measured motion and the one you observed\n",
    "Try to come up with an answer and write it in the next field"
   ]
  },
  {
   "attachments": {},
   "cell_type": "markdown",
   "metadata": {},
   "source": [
    "# Use this field"
   ]
  },
  {
   "attachments": {},
   "cell_type": "markdown",
   "metadata": {},
   "source": [
    "Later, after you are done with this lab please save this notebook. Then commit the repository and push it. Detailled instructions will follow, but this is how you submit your work in this course."
   ]
  },
  {
   "attachments": {},
   "cell_type": "markdown",
   "metadata": {},
   "source": [
    "# Example: Drive robot and aquire odometry\n",
    "Tape measure, tape. Optional: Laser pointer.\n",
    "\n",
    "* Tape two parallel lines `0.2m` apart on the floor. These are start and finish lines `0.2m`.\n",
    "* Place the robot at the start line\n",
    "* Read data from the Odometry topic\n",
    "* Command the robot to drive `0.2m` straight\n",
    "* Read data from the Odometry topic.\n",
    "Did the robot travel `0.2m`? Where could the error come from?\n",
    "\n",
    "Modify the experiment to investigate the behavior for rotation. Instead of the start and finish line attach a laser pointer to the base and aim it at a reference point. Command the robot to turn one full revolution.\n",
    "\n",
    "Reading:\n",
    "- Odometry sensor: TODO: find link\n",
    "- Quaternions: https://en.wikipedia.org/wiki/Quaternion#Quaternions_and_the_space_geometry\n"
   ]
  },
  {
   "cell_type": "code",
   "execution_count": null,
   "metadata": {},
   "outputs": [],
   "source": [
    "# Use preprogrammed behavior: Drive off the dock in a controlled way\n",
    "robot.undock()"
   ]
  },
  {
   "cell_type": "code",
   "execution_count": 16,
   "metadata": {},
   "outputs": [
    {
     "name": "stdout",
     "output_type": "stream",
     "text": [
      "geometry_msgs.msg.Point(x=0.9875290393829346, y=1.8079200983047485, z=0.013794180937111378)\n",
      "geometry_msgs.msg.Quaternion(x=-0.002142574405297637, y=-0.004510119091719389, z=0.07286708801984787, w=0.9973291754722595)\n"
     ]
    }
   ],
   "source": [
    "# Display raw data: Odometry based position\n",
    "robot.odom_future = rclpy.Future()\n",
    "pose1 = robot.spin_until_future_completed(robot.odom_future).pose.pose\n",
    "print(pose1.position)\n",
    "print(pose1.orientation)"
   ]
  },
  {
   "cell_type": "code",
   "execution_count": 17,
   "metadata": {},
   "outputs": [],
   "source": [
    "# Drive with desired velocity command:\n",
    "velocity_x = 0.1 # in m/s\n",
    "velocity_phi = 0.0 # for rotation test use 0.5 rad/s\n",
    "duration = 2.0 # in s\n",
    "robot.set_cmd_vel(velocity_x, velocity_phi, duration)"
   ]
  },
  {
   "cell_type": "code",
   "execution_count": 18,
   "metadata": {},
   "outputs": [
    {
     "name": "stdout",
     "output_type": "stream",
     "text": [
      "geometry_msgs.msg.Point(x=1.1792253255844116, y=1.8356999158859253, z=0.015405031852424145)\n",
      "geometry_msgs.msg.Quaternion(x=-0.0024521423038095236, y=-0.0045376131311059, z=0.07214167714118958, w=0.9973810315132141)\n"
     ]
    }
   ],
   "source": [
    "# Display raw data: Odometry based position\n",
    "robot.odom_future = rclpy.Future()\n",
    "pose2 = robot.spin_until_future_completed(robot.odom_future).pose.pose\n",
    "print(pose2.position)\n",
    "print(pose2.orientation)"
   ]
  },
  {
   "cell_type": "code",
   "execution_count": 19,
   "metadata": {},
   "outputs": [
    {
     "name": "stdout",
     "output_type": "stream",
     "text": [
      "Desired distance: 0.2\n",
      "Measured distance: 0.1936986949059855\n",
      "Desired rotation: 0.0\n",
      "Measured rotation: 0.0015817689294697233\n"
     ]
    }
   ],
   "source": [
    "# translation\n",
    "print(\"Desired distance: {}\".format(velocity_x*duration))\n",
    "import numpy\n",
    "print(\"Measured distance: {}\".format(\n",
    "    numpy.sqrt( (pose1.position.x - pose2.position.x)**2 + (pose1.position.y - pose2.position.y)**2 ) ))\n",
    "\n",
    "# rotation\n",
    "import eigenpy # makes use of the Eigen C++ library ()\n",
    "def make_quaternion(q):\n",
    "    return eigenpy.Quaternion(q.w,q.x,q.y,q.z)\n",
    "print(\"Desired rotation: {}\".format(\n",
    "    velocity_phi * duration))\n",
    "print(\"Measured rotation: {}\".format(\n",
    "    make_quaternion(pose1.orientation).angularDistance(make_quaternion(pose2.orientation))))\n"
   ]
  },
  {
   "cell_type": "code",
   "execution_count": 20,
   "metadata": {},
   "outputs": [
    {
     "data": {
      "image/png": "[encoded data removed]",
      "text/plain": [
       "<Figure size 720x360 with 2 Axes>"
      ]
     },
     "metadata": {
      "needs_background": "light"
     },
     "output_type": "display_data"
    }
   ],
   "source": [
    "import numpy as np\n",
    "import eigenpy\n",
    "import matplotlib.pyplot as plt\n",
    "\n",
    "# Given data (replace these values with your actual data)\n",
    "velocity_x = 0.1\n",
    "velocity_phi = 0.0\n",
    "duration = 2.0\n",
    "\n",
    "# Calculate desired distance and rotation\n",
    "desired_distance = velocity_x * duration\n",
    "\n",
    "# Define a function to calculate the angular distance between two quaternions\n",
    "def angular_distance(q1, q2):\n",
    "    return eigenpy.Quaternion(q1).angularDistance(eigenpy.Quaternion(q2))\n",
    "\n",
    "# Calculate desired rotation\n",
    "desired_rotation = velocity_phi * duration\n",
    "\n",
    "# Sample data (replace these values with your actual data)\n",
    "pose1_position = np.array([1.1809054613113403, -1.800580620765686])  \n",
    "pose2_position = np.array([1.1232298612594604, -1.9839327335357666])  \n",
    "pose1_orientation = np.array([-0.001508902758359909, 2.1100277081131935e-05, -0.8044115900993347, 0.594070553779602])  # Replace with actual pose1 orientation (w, x, y, z)\n",
    "pose2_orientation = np.array([-0.0030553662218153477, -0.0009766248986124992, -0.8045011162757874, 0.5939425230026245])  # Replace with actual pose2 orientation (w, x, y, z)\n",
    "\n",
    "# Calculate measured distance and rotation\n",
    "measured_distance = np.sqrt((pose1_position[0] - pose2_position[0]) ** 2 + (pose1_position[1] - pose2_position[1]) ** 2)\n",
    "measured_rotation = angular_distance(pose1_orientation, pose2_orientation)\n",
    "\n",
    "# Calculate differences\n",
    "distance_difference = desired_distance - measured_distance\n",
    "rotation_difference = desired_rotation - measured_rotation\n",
    "\n",
    "# Plot the differences\n",
    "plt.figure(figsize=(10, 5))\n",
    "plt.subplot(1, 2, 1)\n",
    "plt.bar(['Desired', 'Measured'], [desired_distance, measured_distance])\n",
    "plt.ylabel('Distance')\n",
    "plt.title('Desired vs. Measured Distance')\n",
    "\n",
    "plt.subplot(1, 2, 2)\n",
    "plt.bar(['Desired', 'Measured'], [desired_rotation, measured_rotation])\n",
    "plt.ylabel('Rotation')\n",
    "plt.title('Desired vs. Measured Rotation')\n",
    "\n",
    "plt.tight_layout()\n",
    "plt.show()\n"
   ]
  }
 ],
 "metadata": {
  "kernelspec": {
   "display_name": "Python 3 (ipykernel)",
   "language": "python",
   "name": "python3"
  },
  "language_info": {
   "codemirror_mode": {
    "name": "ipython",
    "version": 3
   },
   "file_extension": ".py",
   "mimetype": "text/x-python",
   "name": "python",
   "nbconvert_exporter": "python",
   "pygments_lexer": "ipython3",
   "version": "3.10.6"
  }
 },
 "nbformat": 4,
 "nbformat_minor": 4
}
