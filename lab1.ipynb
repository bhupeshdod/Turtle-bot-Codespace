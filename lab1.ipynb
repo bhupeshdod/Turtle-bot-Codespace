{
 "cells": [
  {
   "attachments": {},
   "cell_type": "markdown",
   "metadata": {},
   "source": [
    "# Lab1\n",
    "Welcome to the Turtlebot4 Orientation Lab. Here you will learn to:\n",
    "* Read data from the robots services\n",
    "* Drive the robot around\n",
    "* Accuracy of the odometry\n",
    "\n",
    "Next, just execute the code cells below in sequence, read the comments, the output, and see what happens.\n",
    "\n",
    "Don't worry, you can modify this code as you like. First, let's confirm you know how to run the code."
   ]
  },
  {
   "cell_type": "code",
   "execution_count": 16,
   "metadata": {},
   "outputs": [
    {
     "name": "stdout",
     "output_type": "stream",
     "text": [
      "2\n"
     ]
    }
   ],
   "source": [
    "# This text box is called a cell.\n",
    "# In this environment, a Jupyter Python Notebook, it contains Python code.\n",
    "# Click on the triangle left of this box (cell) to execute it.\n",
    "# The output will appear below.\n",
    "print(1+1)"
   ]
  },
  {
   "attachments": {},
   "cell_type": "markdown",
   "metadata": {},
   "source": [
    "# Load Robot wrapper and initialize ROS\n",
    "While the Turtlebot4 works using ROS2, you are using a wrapper around\n",
    "ROS2 to make things more straight forward. \n",
    "\n",
    "You can inspect the wrapper by opening the file [/opt/robohub/humble/lib/python3.10/site-packages/turtlebot4_wrapper/\\_\\_init__.py](/opt/robohub/humble/lib/python3.10/site-packages/turtlebot4_wrapper/\\_\\_init__.py)"
   ]
  },
  {
   "cell_type": "code",
   "execution_count": 2,
   "metadata": {},
   "outputs": [
    {
     "name": "stdout",
     "output_type": "stream",
     "text": [
      "You are connected to uwbot-15\n",
      "Robot is reachable\n"
     ]
    },
    {
     "name": "stderr",
     "output_type": "stream",
     "text": [
      "Could not determine the type for the passed topic\n"
     ]
    },
    {
     "name": "stdout",
     "output_type": "stream",
     "text": [
      "ros2 topic echo --once /ip failed. Proceed with caution.\n",
      "ros2 topic subscription working. Everything is working as expected.\n"
     ]
    }
   ],
   "source": [
    "import turtlebot4_wrapper\n",
    "\n",
    "turtlebot4_wrapper.use_hardware()\n",
    "# turtlebot4_wrapper.use_simulation()\n",
    "\n",
    "# load ROS library\n",
    "import rclpy\n",
    "if not rclpy.ok():\n",
    "    rclpy.init()\n",
    "\n",
    "# Instantiate Wrapper. The subscribes and publishes the relevant topics and connects the actions.\n",
    "if not \"robot\" in globals():\n",
    "    robot = turtlebot4_wrapper.Robot()"
   ]
  },
  {
   "attachments": {},
   "cell_type": "markdown",
   "metadata": {},
   "source": [
    "# Example: Read data from topics: Battery charge state\n",
    "Check Battery State. Note: 10% get you 10 minutes of runtime.\n"
   ]
  },
  {
   "cell_type": "code",
   "execution_count": 3,
   "metadata": {},
   "outputs": [
    {
     "name": "stdout",
     "output_type": "stream",
     "text": [
      "Battery 1e+02%, charging with -0.6A\n"
     ]
    }
   ],
   "source": [
    "# Make sure we have fresh data by waiting for a new message\n",
    "robot.battery_state_future = rclpy.Future()\n",
    "robot.spin_until_future_completed(robot.battery_state_future)\n",
    "\n",
    "# Pretty print the contents of the message\n",
    "print(\"Battery {0:2.3}%, charging with {1:2.2}A\".format(\n",
    "    robot.last_battery_state_msg.percentage*100,\n",
    "    robot.last_battery_state_msg.current\n",
    "))"
   ]
  },
  {
   "attachments": {},
   "cell_type": "markdown",
   "metadata": {},
   "source": [
    "# Example: Drive the robot via teleoperation\n",
    "First, undock the robot using a preprogrammed behavior. Then open the visualization to drive the robot using buttons. After you are done, dock the robot again."
   ]
  },
  {
   "cell_type": "code",
   "execution_count": 4,
   "metadata": {},
   "outputs": [
    {
     "ename": "KeyboardInterrupt",
     "evalue": "",
     "output_type": "error",
     "traceback": [
      "\u001b[0;31m---------------------------------------------------------------------------\u001b[0m",
      "\u001b[0;31mKeyboardInterrupt\u001b[0m                         Traceback (most recent call last)",
      "\u001b[0;32m/tmp/ipykernel_526/346774492.py\u001b[0m in \u001b[0;36m<module>\u001b[0;34m\u001b[0m\n\u001b[0;32m----> 1\u001b[0;31m \u001b[0mrobot\u001b[0m\u001b[0;34m.\u001b[0m\u001b[0mundock\u001b[0m\u001b[0;34m(\u001b[0m\u001b[0;34m)\u001b[0m\u001b[0;34m\u001b[0m\u001b[0;34m\u001b[0m\u001b[0m\n\u001b[0m",
      "\u001b[0;32m/opt/robohub/humble/lib/python3.10/site-packages/turtlebot4_wrapper/__init__.py\u001b[0m in \u001b[0;36mundock\u001b[0;34m(self)\u001b[0m\n\u001b[1;32m    374\u001b[0m         \u001b[0mget_result_future\u001b[0m \u001b[0;34m=\u001b[0m \u001b[0mgoal_handle\u001b[0m\u001b[0;34m.\u001b[0m\u001b[0mget_result_async\u001b[0m\u001b[0;34m(\u001b[0m\u001b[0;34m)\u001b[0m\u001b[0;34m\u001b[0m\u001b[0;34m\u001b[0m\u001b[0m\n\u001b[1;32m    375\u001b[0m         \u001b[0mget_result_future\u001b[0m\u001b[0;34m.\u001b[0m\u001b[0madd_done_callback\u001b[0m\u001b[0;34m(\u001b[0m\u001b[0mresult_cb\u001b[0m\u001b[0;34m)\u001b[0m\u001b[0;34m\u001b[0m\u001b[0;34m\u001b[0m\u001b[0m\n\u001b[0;32m--> 376\u001b[0;31m         \u001b[0mrclpy\u001b[0m\u001b[0;34m.\u001b[0m\u001b[0mspin_until_future_complete\u001b[0m\u001b[0;34m(\u001b[0m\u001b[0mself\u001b[0m\u001b[0;34m,\u001b[0m\u001b[0maction_completed_future\u001b[0m\u001b[0;34m)\u001b[0m\u001b[0;34m\u001b[0m\u001b[0;34m\u001b[0m\u001b[0m\n\u001b[0m\u001b[1;32m    377\u001b[0m         \u001b[0;32mreturn\u001b[0m \u001b[0maction_completed_future\u001b[0m\u001b[0;34m.\u001b[0m\u001b[0mresult\u001b[0m\u001b[0;34m(\u001b[0m\u001b[0;34m)\u001b[0m\u001b[0;34m\u001b[0m\u001b[0;34m\u001b[0m\u001b[0m\n\u001b[1;32m    378\u001b[0m \u001b[0;34m\u001b[0m\u001b[0m\n",
      "\u001b[0;32m/opt/ros/humble/local/lib/python3.10/dist-packages/rclpy/__init__.py\u001b[0m in \u001b[0;36mspin_until_future_complete\u001b[0;34m(node, future, executor, timeout_sec)\u001b[0m\n\u001b[1;32m    246\u001b[0m     \u001b[0;32mtry\u001b[0m\u001b[0;34m:\u001b[0m\u001b[0;34m\u001b[0m\u001b[0;34m\u001b[0m\u001b[0m\n\u001b[1;32m    247\u001b[0m         \u001b[0mexecutor\u001b[0m\u001b[0;34m.\u001b[0m\u001b[0madd_node\u001b[0m\u001b[0;34m(\u001b[0m\u001b[0mnode\u001b[0m\u001b[0;34m)\u001b[0m\u001b[0;34m\u001b[0m\u001b[0;34m\u001b[0m\u001b[0m\n\u001b[0;32m--> 248\u001b[0;31m         \u001b[0mexecutor\u001b[0m\u001b[0;34m.\u001b[0m\u001b[0mspin_until_future_complete\u001b[0m\u001b[0;34m(\u001b[0m\u001b[0mfuture\u001b[0m\u001b[0;34m,\u001b[0m \u001b[0mtimeout_sec\u001b[0m\u001b[0;34m)\u001b[0m\u001b[0;34m\u001b[0m\u001b[0;34m\u001b[0m\u001b[0m\n\u001b[0m\u001b[1;32m    249\u001b[0m     \u001b[0;32mfinally\u001b[0m\u001b[0;34m:\u001b[0m\u001b[0;34m\u001b[0m\u001b[0;34m\u001b[0m\u001b[0m\n\u001b[1;32m    250\u001b[0m         \u001b[0mexecutor\u001b[0m\u001b[0;34m.\u001b[0m\u001b[0mremove_node\u001b[0m\u001b[0;34m(\u001b[0m\u001b[0mnode\u001b[0m\u001b[0;34m)\u001b[0m\u001b[0;34m\u001b[0m\u001b[0;34m\u001b[0m\u001b[0m\n",
      "\u001b[0;32m/opt/ros/humble/local/lib/python3.10/dist-packages/rclpy/executors.py\u001b[0m in \u001b[0;36mspin_until_future_complete\u001b[0;34m(self, future, timeout_sec)\u001b[0m\n\u001b[1;32m    286\u001b[0m         \u001b[0;32mif\u001b[0m \u001b[0mtimeout_sec\u001b[0m \u001b[0;32mis\u001b[0m \u001b[0;32mNone\u001b[0m \u001b[0;32mor\u001b[0m \u001b[0mtimeout_sec\u001b[0m \u001b[0;34m<\u001b[0m \u001b[0;36m0\u001b[0m\u001b[0;34m:\u001b[0m\u001b[0;34m\u001b[0m\u001b[0;34m\u001b[0m\u001b[0m\n\u001b[1;32m    287\u001b[0m             \u001b[0;32mwhile\u001b[0m \u001b[0mself\u001b[0m\u001b[0;34m.\u001b[0m\u001b[0m_context\u001b[0m\u001b[0;34m.\u001b[0m\u001b[0mok\u001b[0m\u001b[0;34m(\u001b[0m\u001b[0;34m)\u001b[0m \u001b[0;32mand\u001b[0m \u001b[0;32mnot\u001b[0m \u001b[0mfuture\u001b[0m\u001b[0;34m.\u001b[0m\u001b[0mdone\u001b[0m\u001b[0;34m(\u001b[0m\u001b[0;34m)\u001b[0m \u001b[0;32mand\u001b[0m \u001b[0;32mnot\u001b[0m \u001b[0mself\u001b[0m\u001b[0;34m.\u001b[0m\u001b[0m_is_shutdown\u001b[0m\u001b[0;34m:\u001b[0m\u001b[0;34m\u001b[0m\u001b[0;34m\u001b[0m\u001b[0m\n\u001b[0;32m--> 288\u001b[0;31m                 \u001b[0mself\u001b[0m\u001b[0;34m.\u001b[0m\u001b[0mspin_once_until_future_complete\u001b[0m\u001b[0;34m(\u001b[0m\u001b[0mfuture\u001b[0m\u001b[0;34m,\u001b[0m \u001b[0mtimeout_sec\u001b[0m\u001b[0;34m)\u001b[0m\u001b[0;34m\u001b[0m\u001b[0;34m\u001b[0m\u001b[0m\n\u001b[0m\u001b[1;32m    289\u001b[0m         \u001b[0;32melse\u001b[0m\u001b[0;34m:\u001b[0m\u001b[0;34m\u001b[0m\u001b[0;34m\u001b[0m\u001b[0m\n\u001b[1;32m    290\u001b[0m             \u001b[0mstart\u001b[0m \u001b[0;34m=\u001b[0m \u001b[0mtime\u001b[0m\u001b[0;34m.\u001b[0m\u001b[0mmonotonic\u001b[0m\u001b[0;34m(\u001b[0m\u001b[0;34m)\u001b[0m\u001b[0;34m\u001b[0m\u001b[0;34m\u001b[0m\u001b[0m\n",
      "\u001b[0;32m/opt/ros/humble/local/lib/python3.10/dist-packages/rclpy/executors.py\u001b[0m in \u001b[0;36mspin_once_until_future_complete\u001b[0;34m(self, future, timeout_sec)\u001b[0m\n\u001b[1;32m    714\u001b[0m \u001b[0;34m\u001b[0m\u001b[0m\n\u001b[1;32m    715\u001b[0m     \u001b[0;32mdef\u001b[0m \u001b[0mspin_once_until_future_complete\u001b[0m\u001b[0;34m(\u001b[0m\u001b[0mself\u001b[0m\u001b[0;34m,\u001b[0m \u001b[0mfuture\u001b[0m\u001b[0;34m:\u001b[0m \u001b[0mFuture\u001b[0m\u001b[0;34m,\u001b[0m \u001b[0mtimeout_sec\u001b[0m\u001b[0;34m:\u001b[0m \u001b[0mfloat\u001b[0m \u001b[0;34m=\u001b[0m \u001b[0;32mNone\u001b[0m\u001b[0;34m)\u001b[0m \u001b[0;34m->\u001b[0m \u001b[0;32mNone\u001b[0m\u001b[0;34m:\u001b[0m\u001b[0;34m\u001b[0m\u001b[0;34m\u001b[0m\u001b[0m\n\u001b[0;32m--> 716\u001b[0;31m         \u001b[0mself\u001b[0m\u001b[0;34m.\u001b[0m\u001b[0mspin_once\u001b[0m\u001b[0;34m(\u001b[0m\u001b[0mtimeout_sec\u001b[0m\u001b[0;34m)\u001b[0m\u001b[0;34m\u001b[0m\u001b[0;34m\u001b[0m\u001b[0m\n\u001b[0m\u001b[1;32m    717\u001b[0m \u001b[0;34m\u001b[0m\u001b[0m\n\u001b[1;32m    718\u001b[0m \u001b[0;34m\u001b[0m\u001b[0m\n",
      "\u001b[0;32m/opt/ros/humble/local/lib/python3.10/dist-packages/rclpy/executors.py\u001b[0m in \u001b[0;36mspin_once\u001b[0;34m(self, timeout_sec)\u001b[0m\n\u001b[1;32m    709\u001b[0m             \u001b[0;32mpass\u001b[0m\u001b[0;34m\u001b[0m\u001b[0;34m\u001b[0m\u001b[0m\n\u001b[1;32m    710\u001b[0m         \u001b[0;32melse\u001b[0m\u001b[0;34m:\u001b[0m\u001b[0;34m\u001b[0m\u001b[0;34m\u001b[0m\u001b[0m\n\u001b[0;32m--> 711\u001b[0;31m             \u001b[0mhandler\u001b[0m\u001b[0;34m(\u001b[0m\u001b[0;34m)\u001b[0m\u001b[0;34m\u001b[0m\u001b[0;34m\u001b[0m\u001b[0m\n\u001b[0m\u001b[1;32m    712\u001b[0m             \u001b[0;32mif\u001b[0m \u001b[0mhandler\u001b[0m\u001b[0;34m.\u001b[0m\u001b[0mexception\u001b[0m\u001b[0;34m(\u001b[0m\u001b[0;34m)\u001b[0m \u001b[0;32mis\u001b[0m \u001b[0;32mnot\u001b[0m \u001b[0;32mNone\u001b[0m\u001b[0;34m:\u001b[0m\u001b[0;34m\u001b[0m\u001b[0;34m\u001b[0m\u001b[0m\n\u001b[1;32m    713\u001b[0m                 \u001b[0;32mraise\u001b[0m \u001b[0mhandler\u001b[0m\u001b[0;34m.\u001b[0m\u001b[0mexception\u001b[0m\u001b[0;34m(\u001b[0m\u001b[0;34m)\u001b[0m\u001b[0;34m\u001b[0m\u001b[0;34m\u001b[0m\u001b[0m\n",
      "\u001b[0;32m/opt/ros/humble/local/lib/python3.10/dist-packages/rclpy/task.py\u001b[0m in \u001b[0;36m__call__\u001b[0;34m(self)\u001b[0m\n\u001b[1;32m    234\u001b[0m             \u001b[0mself\u001b[0m\u001b[0;34m.\u001b[0m\u001b[0m_executing\u001b[0m \u001b[0;34m=\u001b[0m \u001b[0;32mTrue\u001b[0m\u001b[0;34m\u001b[0m\u001b[0;34m\u001b[0m\u001b[0m\n\u001b[1;32m    235\u001b[0m \u001b[0;34m\u001b[0m\u001b[0m\n\u001b[0;32m--> 236\u001b[0;31m             \u001b[0;32mif\u001b[0m \u001b[0minspect\u001b[0m\u001b[0;34m.\u001b[0m\u001b[0miscoroutine\u001b[0m\u001b[0;34m(\u001b[0m\u001b[0mself\u001b[0m\u001b[0;34m.\u001b[0m\u001b[0m_handler\u001b[0m\u001b[0;34m)\u001b[0m\u001b[0;34m:\u001b[0m\u001b[0;34m\u001b[0m\u001b[0;34m\u001b[0m\u001b[0m\n\u001b[0m\u001b[1;32m    237\u001b[0m                 \u001b[0;31m# Execute a coroutine\u001b[0m\u001b[0;34m\u001b[0m\u001b[0;34m\u001b[0m\u001b[0m\n\u001b[1;32m    238\u001b[0m                 \u001b[0;32mtry\u001b[0m\u001b[0;34m:\u001b[0m\u001b[0;34m\u001b[0m\u001b[0;34m\u001b[0m\u001b[0m\n",
      "\u001b[0;32m/usr/lib/python3.10/inspect.py\u001b[0m in \u001b[0;36miscoroutine\u001b[0;34m(object)\u001b[0m\n\u001b[1;32m    344\u001b[0m \u001b[0;32mdef\u001b[0m \u001b[0miscoroutine\u001b[0m\u001b[0;34m(\u001b[0m\u001b[0mobject\u001b[0m\u001b[0;34m)\u001b[0m\u001b[0;34m:\u001b[0m\u001b[0;34m\u001b[0m\u001b[0;34m\u001b[0m\u001b[0m\n\u001b[1;32m    345\u001b[0m     \u001b[0;34m\"\"\"Return true if the object is a coroutine.\"\"\"\u001b[0m\u001b[0;34m\u001b[0m\u001b[0;34m\u001b[0m\u001b[0m\n\u001b[0;32m--> 346\u001b[0;31m     \u001b[0;32mreturn\u001b[0m \u001b[0misinstance\u001b[0m\u001b[0;34m(\u001b[0m\u001b[0mobject\u001b[0m\u001b[0;34m,\u001b[0m \u001b[0mtypes\u001b[0m\u001b[0;34m.\u001b[0m\u001b[0mCoroutineType\u001b[0m\u001b[0;34m)\u001b[0m\u001b[0;34m\u001b[0m\u001b[0;34m\u001b[0m\u001b[0m\n\u001b[0m\u001b[1;32m    347\u001b[0m \u001b[0;34m\u001b[0m\u001b[0m\n\u001b[1;32m    348\u001b[0m \u001b[0;32mdef\u001b[0m \u001b[0misawaitable\u001b[0m\u001b[0;34m(\u001b[0m\u001b[0mobject\u001b[0m\u001b[0;34m)\u001b[0m\u001b[0;34m:\u001b[0m\u001b[0;34m\u001b[0m\u001b[0;34m\u001b[0m\u001b[0m\n",
      "\u001b[0;31mKeyboardInterrupt\u001b[0m: "
     ]
    }
   ],
   "source": [
    "robot.undock()"
   ]
  },
  {
   "cell_type": "code",
   "execution_count": 5,
   "metadata": {},
   "outputs": [
    {
     "ename": "ValueError",
     "evalue": "Unknown format code 'd' for object of type 'str'",
     "output_type": "error",
     "traceback": [
      "\u001b[0;31m---------------------------------------------------------------------------\u001b[0m",
      "\u001b[0;31mValueError\u001b[0m                                Traceback (most recent call last)",
      "\u001b[0;32m/tmp/ipykernel_526/392928079.py\u001b[0m in \u001b[0;36m<module>\u001b[0;34m\u001b[0m\n\u001b[0;32m----> 1\u001b[0;31m \u001b[0mrobot\u001b[0m\u001b[0;34m.\u001b[0m\u001b[0mopen_visualization\u001b[0m\u001b[0;34m(\u001b[0m\u001b[0;34m)\u001b[0m\u001b[0;34m\u001b[0m\u001b[0;34m\u001b[0m\u001b[0m\n\u001b[0m",
      "\u001b[0;32m/opt/robohub/humble/lib/python3.10/site-packages/turtlebot4_wrapper/__init__.py\u001b[0m in \u001b[0;36mopen_visualization\u001b[0;34m(self, open_url, mobile_layout, display_qrcode)\u001b[0m\n\u001b[1;32m    220\u001b[0m                 \u001b[0moutput\u001b[0m \u001b[0;34m=\u001b[0m \u001b[0msubprocess\u001b[0m\u001b[0;34m.\u001b[0m\u001b[0mcheck_output\u001b[0m\u001b[0;34m(\u001b[0m\u001b[0;34m\"ip addr show\"\u001b[0m\u001b[0;34m,\u001b[0m\u001b[0mshell\u001b[0m\u001b[0;34m=\u001b[0m\u001b[0;32mTrue\u001b[0m\u001b[0;34m)\u001b[0m\u001b[0;34m\u001b[0m\u001b[0;34m\u001b[0m\u001b[0m\n\u001b[1;32m    221\u001b[0m                 \u001b[0mrobot_id\u001b[0m \u001b[0;34m=\u001b[0m \u001b[0mre\u001b[0m\u001b[0;34m.\u001b[0m\u001b[0msearch\u001b[0m\u001b[0;34m(\u001b[0m\u001b[0;34mr\"tap[0-9]\\.([0-9]+)@tap\"\u001b[0m\u001b[0;34m,\u001b[0m\u001b[0moutput\u001b[0m\u001b[0;34m.\u001b[0m\u001b[0mdecode\u001b[0m\u001b[0;34m(\u001b[0m\u001b[0;34m)\u001b[0m\u001b[0;34m)\u001b[0m\u001b[0;34m.\u001b[0m\u001b[0mgroups\u001b[0m\u001b[0;34m(\u001b[0m\u001b[0;34m)\u001b[0m\u001b[0;34m[\u001b[0m\u001b[0;36m0\u001b[0m\u001b[0;34m]\u001b[0m\u001b[0;34m\u001b[0m\u001b[0;34m\u001b[0m\u001b[0m\n\u001b[0;32m--> 222\u001b[0;31m                 \u001b[0mfoxglove_websocket_url\u001b[0m \u001b[0;34m=\u001b[0m \u001b[0;34m\"wss%3A%2F%2Frobohub.eng.uwaterloo.ca%2Fuwbot-{:02d}-foxglove%2F\"\u001b[0m\u001b[0;34m.\u001b[0m\u001b[0mformat\u001b[0m\u001b[0;34m(\u001b[0m\u001b[0mrobot_id\u001b[0m\u001b[0;34m)\u001b[0m\u001b[0;34m\u001b[0m\u001b[0;34m\u001b[0m\u001b[0m\n\u001b[0m\u001b[1;32m    223\u001b[0m \u001b[0;34m\u001b[0m\u001b[0m\n\u001b[1;32m    224\u001b[0m         \u001b[0;32mif\u001b[0m \u001b[0;32mnot\u001b[0m \u001b[0mmobile_layout\u001b[0m\u001b[0;34m:\u001b[0m\u001b[0;34m\u001b[0m\u001b[0;34m\u001b[0m\u001b[0m\n",
      "\u001b[0;31mValueError\u001b[0m: Unknown format code 'd' for object of type 'str'"
     ]
    }
   ],
   "source": [
    "robot.open_visualization()"
   ]
  },
  {
   "cell_type": "code",
   "execution_count": 20,
   "metadata": {},
   "outputs": [
    {
     "name": "stdout",
     "output_type": "stream",
     "text": [
      "You can additional move the robot with your phone:\n"
     ]
    },
    {
     "ename": "ValueError",
     "evalue": "Unknown format code 'd' for object of type 'str'",
     "output_type": "error",
     "traceback": [
      "\u001b[0;31m---------------------------------------------------------------------------\u001b[0m",
      "\u001b[0;31mValueError\u001b[0m                                Traceback (most recent call last)",
      "\u001b[0;32m/tmp/ipykernel_5940/2958001119.py\u001b[0m in \u001b[0;36m<module>\u001b[0;34m\u001b[0m\n\u001b[1;32m      1\u001b[0m \u001b[0mprint\u001b[0m\u001b[0;34m(\u001b[0m\u001b[0;34m\"You can additional move the robot with your phone:\"\u001b[0m\u001b[0;34m)\u001b[0m\u001b[0;34m\u001b[0m\u001b[0;34m\u001b[0m\u001b[0m\n\u001b[0;32m----> 2\u001b[0;31m \u001b[0mrobot\u001b[0m\u001b[0;34m.\u001b[0m\u001b[0mopen_visualization\u001b[0m\u001b[0;34m(\u001b[0m\u001b[0mopen_url\u001b[0m\u001b[0;34m=\u001b[0m\u001b[0;32mFalse\u001b[0m\u001b[0;34m,\u001b[0m\u001b[0mmobile_layout\u001b[0m\u001b[0;34m=\u001b[0m\u001b[0;32mTrue\u001b[0m\u001b[0;34m,\u001b[0m\u001b[0mdisplay_qrcode\u001b[0m\u001b[0;34m=\u001b[0m\u001b[0;32mTrue\u001b[0m\u001b[0;34m)\u001b[0m\u001b[0;34m\u001b[0m\u001b[0;34m\u001b[0m\u001b[0m\n\u001b[0m",
      "\u001b[0;32m/opt/robohub/humble/lib/python3.10/site-packages/turtlebot4_wrapper/__init__.py\u001b[0m in \u001b[0;36mopen_visualization\u001b[0;34m(self, open_url, mobile_layout, display_qrcode)\u001b[0m\n\u001b[1;32m    220\u001b[0m                 \u001b[0moutput\u001b[0m \u001b[0;34m=\u001b[0m \u001b[0msubprocess\u001b[0m\u001b[0;34m.\u001b[0m\u001b[0mcheck_output\u001b[0m\u001b[0;34m(\u001b[0m\u001b[0;34m\"ip addr show\"\u001b[0m\u001b[0;34m,\u001b[0m\u001b[0mshell\u001b[0m\u001b[0;34m=\u001b[0m\u001b[0;32mTrue\u001b[0m\u001b[0;34m)\u001b[0m\u001b[0;34m\u001b[0m\u001b[0;34m\u001b[0m\u001b[0m\n\u001b[1;32m    221\u001b[0m                 \u001b[0mrobot_id\u001b[0m \u001b[0;34m=\u001b[0m \u001b[0mre\u001b[0m\u001b[0;34m.\u001b[0m\u001b[0msearch\u001b[0m\u001b[0;34m(\u001b[0m\u001b[0;34mr\"tap[0-9]\\.([0-9]+)@tap\"\u001b[0m\u001b[0;34m,\u001b[0m\u001b[0moutput\u001b[0m\u001b[0;34m.\u001b[0m\u001b[0mdecode\u001b[0m\u001b[0;34m(\u001b[0m\u001b[0;34m)\u001b[0m\u001b[0;34m)\u001b[0m\u001b[0;34m.\u001b[0m\u001b[0mgroups\u001b[0m\u001b[0;34m(\u001b[0m\u001b[0;34m)\u001b[0m\u001b[0;34m[\u001b[0m\u001b[0;36m0\u001b[0m\u001b[0;34m]\u001b[0m\u001b[0;34m\u001b[0m\u001b[0;34m\u001b[0m\u001b[0m\n\u001b[0;32m--> 222\u001b[0;31m                 \u001b[0mfoxglove_websocket_url\u001b[0m \u001b[0;34m=\u001b[0m \u001b[0;34m\"wss%3A%2F%2Frobohub.eng.uwaterloo.ca%2Fuwbot-{:02d}-foxglove%2F\"\u001b[0m\u001b[0;34m.\u001b[0m\u001b[0mformat\u001b[0m\u001b[0;34m(\u001b[0m\u001b[0mrobot_id\u001b[0m\u001b[0;34m)\u001b[0m\u001b[0;34m\u001b[0m\u001b[0;34m\u001b[0m\u001b[0m\n\u001b[0m\u001b[1;32m    223\u001b[0m \u001b[0;34m\u001b[0m\u001b[0m\n\u001b[1;32m    224\u001b[0m         \u001b[0;32mif\u001b[0m \u001b[0;32mnot\u001b[0m \u001b[0mmobile_layout\u001b[0m\u001b[0;34m:\u001b[0m\u001b[0;34m\u001b[0m\u001b[0;34m\u001b[0m\u001b[0m\n",
      "\u001b[0;31mValueError\u001b[0m: Unknown format code 'd' for object of type 'str'"
     ]
    }
   ],
   "source": [
    "print(\"You can additional move the robot with your phone:\")\n",
    "robot.open_visualization(open_url=False,mobile_layout=True,display_qrcode=True)"
   ]
  },
  {
   "attachments": {},
   "cell_type": "markdown",
   "metadata": {},
   "source": [
    "On the new webpage In the foxglove visualizer, you can drive the robot with panels in the bottom right hand corner. After you are done exploring, position the robot so that it is approximately 1-2m away from the dock and is pointing towards the dock."
   ]
  },
  {
   "cell_type": "code",
   "execution_count": 4,
   "metadata": {},
   "outputs": [
    {
     "data": {
      "text/plain": [
       "irobot_create_msgs.action.Dock_Result(is_docked=True)"
      ]
     },
     "execution_count": 4,
     "metadata": {},
     "output_type": "execute_result"
    }
   ],
   "source": [
    "robot.dock()"
   ]
  },
  {
   "attachments": {},
   "cell_type": "markdown",
   "metadata": {},
   "source": [
    "# Example: Drive a square shape\n",
    "In this example the robot automatically drives a square shape. While this is interesting to watch, it shows also some challenges. Before you execute this, mark the start position on the floor using tape as shown below (TODO: picture. Place your start position such that the robot has at least 0.5m space to the front and 0.5m to the left. Then execute the next cell. The code will also start a background logging process so you can analyze the data later."
   ]
  },
  {
   "cell_type": "code",
   "execution_count": 7,
   "metadata": {},
   "outputs": [],
   "source": [
    "# send_cmd_vel (forward_velocity, rotation_velocity, duration)\n",
    "robot.reset_odometry() # make the robot think it is at position (0,0,0) \n",
    "robot.configure_logging([\"/odom\",\"/tf\",\"/tf_static\",\"/scan\"]) # set topics which should be recorded\n",
    "robot.start_logging() # start the background logging process\n",
    "for iterations in range(2): # drive the square\n",
    "    robot.set_cmd_vel(0.4, 0.0, 2.) # 0.1\n",
    "    robot.set_cmd_vel(0.0, 0.5, 3.14)\n",
    "    robot.set_cmd_vel(0.4, 0.0, 2.) # 0.1\n",
    "    robot.set_cmd_vel(0.0, 0.5, 3.14)\n",
    "    robot.set_cmd_vel(0.4, 0.0, 2.) # 0.1\n",
    "    robot.set_cmd_vel(0.0, 0.5, 3.14)\n",
    "    robot.set_cmd_vel(0.4, 0.0, 2.) # 0.1\n",
    "    robot.set_cmd_vel(0.0, 0.5, 3.14)\n",
    "logging_dir = robot.stop_logging()\n",
    "log_data = robot.get_logging_data(logging_dir) # parse the logged data and import in python"
   ]
  },
  {
   "attachments": {},
   "cell_type": "markdown",
   "metadata": {},
   "source": [
    "Executing the next cell will open the log data in the visualizer."
   ]
  },
  {
   "cell_type": "code",
   "execution_count": 21,
   "metadata": {},
   "outputs": [
    {
     "ename": "NameError",
     "evalue": "name 'logging_dir' is not defined",
     "output_type": "error",
     "traceback": [
      "\u001b[0;31m---------------------------------------------------------------------------\u001b[0m",
      "\u001b[0;31mNameError\u001b[0m                                 Traceback (most recent call last)",
      "\u001b[0;32m/tmp/ipykernel_5940/3185556619.py\u001b[0m in \u001b[0;36m<module>\u001b[0;34m\u001b[0m\n\u001b[0;32m----> 1\u001b[0;31m \u001b[0mrobot\u001b[0m\u001b[0;34m.\u001b[0m\u001b[0mopen_logging_data_in_visualizer\u001b[0m\u001b[0;34m(\u001b[0m\u001b[0mlogging_dir\u001b[0m\u001b[0;34m)\u001b[0m\u001b[0;34m\u001b[0m\u001b[0;34m\u001b[0m\u001b[0m\n\u001b[0m\u001b[1;32m      2\u001b[0m \u001b[0mrobot\u001b[0m\u001b[0;34m.\u001b[0m\u001b[0mdelete_logging_data\u001b[0m\u001b[0;34m(\u001b[0m\u001b[0mlogging_dir\u001b[0m\u001b[0;34m)\u001b[0m\u001b[0;34m\u001b[0m\u001b[0;34m\u001b[0m\u001b[0m\n",
      "\u001b[0;31mNameError\u001b[0m: name 'logging_dir' is not defined"
     ]
    }
   ],
   "source": [
    "robot.open_logging_data_in_visualizer(logging_dir)\n",
    "robot.delete_logging_data(logging_dir)"
   ]
  },
  {
   "cell_type": "code",
   "execution_count": 22,
   "metadata": {},
   "outputs": [
    {
     "ename": "NameError",
     "evalue": "name 'log_data' is not defined",
     "output_type": "error",
     "traceback": [
      "\u001b[0;31m---------------------------------------------------------------------------\u001b[0m",
      "\u001b[0;31mNameError\u001b[0m                                 Traceback (most recent call last)",
      "\u001b[0;32m/tmp/ipykernel_5940/1135107921.py\u001b[0m in \u001b[0;36m<module>\u001b[0;34m\u001b[0m\n\u001b[1;32m      1\u001b[0m \u001b[0;31m# Plot data in the notebook\u001b[0m\u001b[0;34m\u001b[0m\u001b[0;34m\u001b[0m\u001b[0m\n\u001b[0;32m----> 2\u001b[0;31m \u001b[0mprint\u001b[0m\u001b[0;34m(\u001b[0m\u001b[0;34m\"Collected {} samples\"\u001b[0m\u001b[0;34m.\u001b[0m\u001b[0mformat\u001b[0m\u001b[0;34m(\u001b[0m\u001b[0mlen\u001b[0m\u001b[0;34m(\u001b[0m\u001b[0mlog_data\u001b[0m\u001b[0;34m[\u001b[0m\u001b[0;34m'/odom'\u001b[0m\u001b[0;34m]\u001b[0m\u001b[0;34m)\u001b[0m\u001b[0;34m)\u001b[0m\u001b[0;34m)\u001b[0m\u001b[0;34m\u001b[0m\u001b[0;34m\u001b[0m\u001b[0m\n\u001b[0m\u001b[1;32m      3\u001b[0m \u001b[0;32mimport\u001b[0m \u001b[0mmatplotlib\u001b[0m\u001b[0;34m.\u001b[0m\u001b[0mpyplot\u001b[0m \u001b[0;32mas\u001b[0m \u001b[0mplt\u001b[0m\u001b[0;34m\u001b[0m\u001b[0;34m\u001b[0m\u001b[0m\n\u001b[1;32m      4\u001b[0m \u001b[0;32mfrom\u001b[0m \u001b[0mmatplotlib\u001b[0m\u001b[0;34m.\u001b[0m\u001b[0mpatches\u001b[0m \u001b[0;32mimport\u001b[0m \u001b[0mCircle\u001b[0m\u001b[0;34m,\u001b[0m \u001b[0mWedge\u001b[0m\u001b[0;34m\u001b[0m\u001b[0;34m\u001b[0m\u001b[0m\n\u001b[1;32m      5\u001b[0m \u001b[0mfig\u001b[0m\u001b[0;34m,\u001b[0m\u001b[0max\u001b[0m \u001b[0;34m=\u001b[0m \u001b[0mplt\u001b[0m\u001b[0;34m.\u001b[0m\u001b[0msubplots\u001b[0m\u001b[0;34m(\u001b[0m\u001b[0;36m1\u001b[0m\u001b[0;34m)\u001b[0m\u001b[0;34m\u001b[0m\u001b[0;34m\u001b[0m\u001b[0m\n",
      "\u001b[0;31mNameError\u001b[0m: name 'log_data' is not defined"
     ]
    }
   ],
   "source": [
    "# Plot data in the notebook\n",
    "print(\"Collected {} samples\".format(len(log_data['/odom'])))\n",
    "import matplotlib.pyplot as plt\n",
    "from matplotlib.patches import Circle, Wedge\n",
    "fig,ax = plt.subplots(1)\n",
    "ax.set_aspect('equal')\n",
    "# TODO: decide if x forward is really the way to go\n",
    "plt.xlim([-1.5,0.2])\n",
    "plt.ylim([-0.2,1.5])\n",
    "for msg in log_data['/odom'][::20]:\n",
    "    T3D = robot.convert_odom_to_transform(msg[1].pose.pose)\n",
    "    T2D = robot.reduce_transform_to_2D(T3D)\n",
    "    circ = Circle((-T2D[1,2],T2D[0,2]),0.1) # TODO: correct radius\n",
    "    circ.set_fill(False)\n",
    "    ax.add_patch(circ)\n",
    "    angle = robot.rotation_from_transform(T2D)\n",
    "    import math\n",
    "    angle = angle/math.pi*180\n",
    "    wedge = Wedge((-T2D[1,2],T2D[0,2]),0.1, angle+180+45, angle+360-45)\n",
    "    ax.add_patch(wedge)"
   ]
  },
  {
   "attachments": {},
   "cell_type": "markdown",
   "metadata": {},
   "source": [
    "From the experiment, please try to explain two aspect:\n",
    "* Discrepancies between the commanded robot motion and the executed one\n",
    "* Discrepancies between the measured motion and the one you observed\n",
    "Try to come up with an answer and write it in the next field"
   ]
  },
  {
   "attachments": {},
   "cell_type": "markdown",
   "metadata": {},
   "source": [
    "# Use this field"
   ]
  },
  {
   "attachments": {},
   "cell_type": "markdown",
   "metadata": {},
   "source": [
    "Later, after you are done with this lab please save this notebook. Then commit the repository and push it. Detailled instructions will follow, but this is how you submit your work in this course."
   ]
  },
  {
   "attachments": {},
   "cell_type": "markdown",
   "metadata": {},
   "source": [
    "# Example: Drive robot and aquire odometry\n",
    "Tape measure, tape. Optional: Laser pointer.\n",
    "\n",
    "* Tape two parallel lines `0.2m` apart on the floor. These are start and finish lines `0.2m`.\n",
    "* Place the robot at the start line\n",
    "* Read data from the Odometry topic\n",
    "* Command the robot to drive `0.2m` straight\n",
    "* Read data from the Odometry topic.\n",
    "Did the robot travel `0.2m`? Where could the error come from?\n",
    "\n",
    "Modify the experiment to investigate the behavior for rotation. Instead of the start and finish line attach a laser pointer to the base and aim it at a reference point. Command the robot to turn one full revolution.\n",
    "\n",
    "Reading:\n",
    "- Odometry sensor: TODO: find link\n",
    "- Quaternions: https://en.wikipedia.org/wiki/Quaternion#Quaternions_and_the_space_geometry\n"
   ]
  },
  {
   "cell_type": "code",
   "execution_count": null,
   "metadata": {},
   "outputs": [],
   "source": [
    "# Use preprogrammed behavior: Drive off the dock in a controlled way\n",
    "robot.undock()"
   ]
  },
  {
   "cell_type": "code",
   "execution_count": 6,
   "metadata": {},
   "outputs": [
    {
     "name": "stdout",
     "output_type": "stream",
     "text": [
      "geometry_msgs.msg.Point(x=0.4584760367870331, y=0.5498003363609314, z=0.001171798910945654)\n",
      "geometry_msgs.msg.Quaternion(x=0.008352190256118774, y=-0.004326898138970137, z=0.026873841881752014, w=0.999594509601593)\n"
     ]
    }
   ],
   "source": [
    "# Display raw data: Odometry based position\n",
    "robot.odom_future = rclpy.Future()\n",
    "pose1 = robot.spin_until_future_completed(robot.odom_future).pose.pose\n",
    "print(pose1.position)\n",
    "print(pose1.orientation)"
   ]
  },
  {
   "cell_type": "code",
   "execution_count": 12,
   "metadata": {},
   "outputs": [],
   "source": [
    "# Drive with desired velocity command:\n",
    "velocity_x = 0 # in m/s\n",
    "velocity_phi = 0.5 # for rotation test use 0.5 rad/s\n",
    "duration = 12.56 # in s\n",
    "robot.set_cmd_vel(velocity_x, velocity_phi, duration)"
   ]
  },
  {
   "cell_type": "code",
   "execution_count": 8,
   "metadata": {},
   "outputs": [
    {
     "name": "stdout",
     "output_type": "stream",
     "text": [
      "geometry_msgs.msg.Point(x=0.6716914176940918, y=0.5613653659820557, z=0.0012475784169510007)\n",
      "geometry_msgs.msg.Quaternion(x=0.0033513254020363092, y=0.0055266013368964195, z=0.026022017002105713, w=0.9996404647827148)\n"
     ]
    }
   ],
   "source": [
    "# Display raw data: Odometry based position\n",
    "robot.odom_future = rclpy.Future()\n",
    "pose2 = robot.spin_until_future_completed(robot.odom_future).pose.pose\n",
    "print(pose2.position)\n",
    "print(pose2.orientation)"
   ]
  },
  {
   "cell_type": "code",
   "execution_count": 13,
   "metadata": {},
   "outputs": [
    {
     "name": "stdout",
     "output_type": "stream",
     "text": [
      "Desired distance: 0.0\n",
      "Measured distance: 0.21352880031855098\n",
      "Desired rotation: 6.28\n",
      "Measured rotation: 0.02216565680041899\n"
     ]
    }
   ],
   "source": [
    "# translation\n",
    "print(\"Desired distance: {}\".format(velocity_x*duration))\n",
    "import numpy\n",
    "print(\"Measured distance: {}\".format(\n",
    "    numpy.sqrt( (pose1.position.x - pose2.position.x)**2 + (pose1.position.y - pose2.position.y)**2 ) ))\n",
    "\n",
    "# rotation\n",
    "import eigenpy # makes use of the Eigen C++ library ()\n",
    "def make_quaternion(q):\n",
    "    return eigenpy.Quaternion(q.w,q.x,q.y,q.z)\n",
    "print(\"Desired rotation: {}\".format(\n",
    "    velocity_phi * duration))\n",
    "print(\"Measured rotation: {}\".format(\n",
    "    make_quaternion(pose1.orientation).angularDistance(make_quaternion(pose2.orientation))))\n"
   ]
  },
  {
   "cell_type": "code",
   "execution_count": 11,
   "metadata": {},
   "outputs": [
    {
     "data": {
      "text/plain": [
       "'\\nTest 1:\\nDesired distance: 0.2\\nMeasured distance: 0.21352880031855098\\nDesired rotation: 0.0\\nMeasured rotation: 0.02216565680041899\\n\\n'"
      ]
     },
     "execution_count": 11,
     "metadata": {},
     "output_type": "execute_result"
    }
   ],
   "source": [
    "'''\n",
    "Test 1:\n",
    "Desired distance: 0.2\n",
    "Measured distance: 0.21352880031855098\n",
    "\n",
    "There was a slight recorded error of around +0.0135 m, though this is impercebtible to a human observer on this scale, despite being around 1cm.\n",
    "This is because the robot bases this movement without referencing its surroundings, and essentially has to make a guess on how many wheel rotations 0.2m is.\n",
    "Because of the smooth office floor and other random error, there will be a continuous drift between where the robot believes it is and where it actually is.\n",
    "\n",
    "\n",
    "Test 2: Why use 0.5 rad?\n",
    "Desired rotation: 6.28\n",
    "Measured rotation: 0.02216565680041899\n",
    "\n",
    "Assuming the measured rotation references how far it spun from the 0 point, the robot measured an error of an extra ~0.02 rad over a full turn.\n",
    "This is partially because of the truncation error introduced by working with radians, and how I defined the movement (probably should have used pi, instead of saying 12s.)\n",
    "But it is also as a result of the same factors discussed above, with an inherent error being present in how the odometry is measured.\n",
    "\n",
    "'''"
   ]
  },
  {
   "cell_type": "code",
   "execution_count": 10,
   "metadata": {},
   "outputs": [
    {
     "data": {
      "image/png": "[encoded data removed]",
      "text/plain": [
       "<Figure size 432x288 with 1 Axes>"
      ]
     },
     "metadata": {
      "needs_background": "light"
     },
     "output_type": "display_data"
    }
   ],
   "source": [
    "from matplotlib import pyplot as plt\n",
    "import numpy as np\n",
    "\n",
    "robot.reset_odometry() # make the robot think it is at position (0,0,0)\n",
    "\n",
    "# Plot robot position from odometry\n",
    "# Use blue cross marker to designate the robot position\n",
    "pose = robot.last_odom_msg.pose.pose\n",
    "plt.plot([pose.position.x],[pose.position.y],'bx') # TODO: show robot front\n",
    "\n",
    "# not sure why but this sometimes hangs here so I pulled out the static transform manually into T_base_lidar\n",
    "# T_base_lidar = robot.get_tf_transform(\"rplidar_link\",\"base\")\n",
    "# T_base_lidar = robot.reduce_transform_to_2D(T_base_lidar)\n",
    "\n",
    "T_base_lidar = np.array([[ 2.22044605e-16, -1.00000000e+00, -4.00000000e-02],\n",
    "       [ 1.00000000e+00,  2.22044605e-16,  0.00000000e+00],\n",
    "       [ 0.00000000e+00,  0.00000000e+00,  1.00000000e+00]])\n",
    "\n",
    "# Plot lidar points from last message\n",
    "def plot_lidar_scan_points(msg,pose):\n",
    "    # Convert received lidar points into cartesian coordinates considering the current position from odometry\n",
    "    import numpy\n",
    "    points = [(numpy.cos(angle)*radius,numpy.sin(angle)*radius) for angle, radius \\\n",
    "              in zip(numpy.linspace(msg.angle_min,msg.angle_max,len(msg.ranges)),msg.ranges)]\n",
    "\n",
    "    T = robot.reduce_transform_to_2D(robot.convert_odom_to_transform(pose))\n",
    "    \n",
    "    # remove points which cannot be measured\n",
    "    filtered_points = filter(lambda x: numpy.isfinite(x).all(),points)\n",
    "    \n",
    "    # display points in world frame\n",
    "    transformed_points = [numpy.matmul(np.dot(T,T_base_lidar),\n",
    "        numpy.vstack([ numpy.atleast_2d(x).T,numpy.ones((1,1)) ]) ) for x in \n",
    "                          filtered_points]\n",
    "    plt.plot(\n",
    "        [x[0] for x in transformed_points],\n",
    "        [x[1] for x in transformed_points],'r.')\n",
    "\n",
    "plot_lidar_scan_points(robot.last_scan_msg,pose)"
   ]
  },
  {
   "cell_type": "code",
   "execution_count": null,
   "metadata": {},
   "outputs": [],
   "source": []
  }
 ],
 "metadata": {
  "kernelspec": {
   "display_name": "Python 3 (ipykernel)",
   "language": "python",
   "name": "python3"
  },
  "language_info": {
   "codemirror_mode": {
    "name": "ipython",
    "version": 3
   },
   "file_extension": ".py",
   "mimetype": "text/x-python",
   "name": "python",
   "nbconvert_exporter": "python",
   "pygments_lexer": "ipython3",
   "version": "3.10.6"
  }
 },
 "nbformat": 4,
 "nbformat_minor": 4
}
