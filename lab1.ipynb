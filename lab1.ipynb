{
 "cells": [
  {
   "attachments": {},
   "cell_type": "markdown",
   "metadata": {},
   "source": [
    "# Lab1\n",
    "Welcome to the Turtlebot4 Orientation Lab. Here you will learn to:\n",
    "* Read data from the robots services\n",
    "* Drive the robot around\n",
    "* Accuracy of the odometry\n",
    "\n",
    "Next, just execute the code cells below in sequence, read the comments, the output, and see what happens.\n",
    "\n",
    "Don't worry, you can modify this code as you like. First, let's confirm you know how to run the code."
   ]
  },
  {
   "attachments": {},
   "cell_type": "markdown",
   "metadata": {},
   "source": [
    "# Load Robot wrapper and initialize ROS\n",
    "While the Turtlebot4 works using ROS2, you are using a wrapper around\n",
    "ROS2 to make things more straight forward. \n",
    "\n",
    "You can inspect the wrapper by opening the file [/opt/robohub/humble/lib/python3.10/site-packages/turtlebot4_wrapper/\\_\\_init__.py](/opt/robohub/humble/lib/python3.10/site-packages/turtlebot4_wrapper/\\_\\_init__.py)"
   ]
  },
  {
   "cell_type": "code",
   "execution_count": 1,
   "metadata": {},
   "outputs": [
    {
     "name": "stdout",
     "output_type": "stream",
     "text": [
      "You are connected to uwbot-02\n",
      "Robot is reachable\n"
     ]
    },
    {
     "name": "stderr",
     "output_type": "stream",
     "text": [
      "Could not determine the type for the passed topic\n"
     ]
    },
    {
     "name": "stdout",
     "output_type": "stream",
     "text": [
      "ros2 topic echo --once /ip failed. Proceed with caution.\n",
      "ros2 topic subscription working. Everything is working as expected.\n"
     ]
    }
   ],
   "source": [
    "import turtlebot4_wrapper\n",
    "\n",
    "turtlebot4_wrapper.use_hardware()\n",
    "# turtlebot4_wrapper.use_simulation()\n",
    "\n",
    "# load ROS library\n",
    "import rclpy\n",
    "if not rclpy.ok():\n",
    "    rclpy.init()\n",
    "\n",
    "# Instantiate Wrapper. The subscribes and publishes the relevant topics and connects the actions.\n",
    "if not \"robot\" in globals():\n",
    "    robot = turtlebot4_wrapper.Robot()"
   ]
  },
  {
   "attachments": {},
   "cell_type": "markdown",
   "metadata": {},
   "source": [
    "# Example: Read data from topics: Battery charge state\n",
    "Check Battery State. Note: 10% get you 10 minutes of runtime.\n"
   ]
  },
  {
   "cell_type": "code",
   "execution_count": 2,
   "metadata": {},
   "outputs": [
    {
     "name": "stdout",
     "output_type": "stream",
     "text": [
      "Battery 99.0%, charging with 0.56A\n"
     ]
    }
   ],
   "source": [
    "# Make sure we have fresh data by waiting for a new message\n",
    "robot.battery_state_future = rclpy.Future()\n",
    "robot.spin_until_future_completed(robot.battery_state_future)\n",
    "\n",
    "# Pretty print the contents of the message\n",
    "print(\"Battery {0:2.3}%, charging with {1:2.2}A\".format(\n",
    "    robot.last_battery_state_msg.percentage*100,\n",
    "    robot.last_battery_state_msg.current\n",
    "))"
   ]
  },
  {
   "attachments": {},
   "cell_type": "markdown",
   "metadata": {},
   "source": [
    "# Example: Drive the robot via teleoperation\n",
    "First, undock the robot using a preprogrammed behavior. Then open the visualization to drive the robot using buttons. After you are done, dock the robot again."
   ]
  },
  {
   "cell_type": "code",
   "execution_count": 1,
   "metadata": {},
   "outputs": [
    {
     "ename": "NameError",
     "evalue": "name 'robot' is not defined",
     "output_type": "error",
     "traceback": [
      "\u001b[0;31m---------------------------------------------------------------------------\u001b[0m",
      "\u001b[0;31mNameError\u001b[0m                                 Traceback (most recent call last)",
      "\u001b[0;32m/tmp/ipykernel_563/346774492.py\u001b[0m in \u001b[0;36m<module>\u001b[0;34m\u001b[0m\n\u001b[0;32m----> 1\u001b[0;31m \u001b[0mrobot\u001b[0m\u001b[0;34m.\u001b[0m\u001b[0mundock\u001b[0m\u001b[0;34m(\u001b[0m\u001b[0;34m)\u001b[0m\u001b[0;34m\u001b[0m\u001b[0;34m\u001b[0m\u001b[0m\n\u001b[0m",
      "\u001b[0;31mNameError\u001b[0m: name 'robot' is not defined"
     ]
    }
   ],
   "source": [
    "robot.undock()"
   ]
  },
  {
   "cell_type": "code",
   "execution_count": null,
   "metadata": {},
   "outputs": [],
   "source": []
  },
  {
   "cell_type": "code",
   "execution_count": 5,
   "metadata": {},
   "outputs": [],
   "source": [
    "robot.open_visualization()"
   ]
  },
  {
   "cell_type": "code",
   "execution_count": null,
   "metadata": {},
   "outputs": [],
   "source": [
    "print(\"You can additional move the robot with your phone:\")\n",
    "robot.open_visualization(open_url=False,mobile_layout=True,display_qrcode=True)"
   ]
  },
  {
   "attachments": {},
   "cell_type": "markdown",
   "metadata": {},
   "source": [
    "On the new webpage In the foxglove visualizer, you can drive the robot with panels in the bottom right hand corner. After you are done exploring, position the robot so that it is approximately 1-2m away from the dock and is pointing towards the dock."
   ]
  },
  {
   "cell_type": "code",
   "execution_count": 2,
   "metadata": {},
   "outputs": [
    {
     "data": {
      "text/plain": [
       "irobot_create_msgs.action.Dock_Result(is_docked=True)"
      ]
     },
     "execution_count": 2,
     "metadata": {},
     "output_type": "execute_result"
    }
   ],
   "source": [
    "robot.dock()"
   ]
  },
  {
   "attachments": {},
   "cell_type": "markdown",
   "metadata": {},
   "source": [
    "# Example: Drive a square shape\n",
    "In this example the robot automatically drives a square shape. While this is interesting to watch, it shows also some challenges. Before you execute this, mark the start position on the floor using tape as shown below (TODO: picture. Place your start position such that the robot has at least 0.5m space to the front and 0.5m to the left. Then execute the next cell. The code will also start a background logging process so you can analyze the data later."
   ]
  },
  {
   "cell_type": "code",
   "execution_count": 14,
   "metadata": {},
   "outputs": [],
   "source": [
    "# send_cmd_vel (forward_velocity, rotation_velocity, duration)\n",
    "robot.reset_odometry() # make the robot think it is at position (0,0,0) \n",
    "robot.configure_logging([\"/odom\",\"/tf\",\"/tf_static\",\"/scan\"]) # set topics which should be recorded\n",
    "robot.start_logging() # start the background logging process\n",
    "for iterations in range(10): # drive the square\n",
    "    robot.set_cmd_vel(0.4, 0.0, 2.) # 0.1\n",
    "    robot.set_cmd_vel(0.0, 0.5, 3.14)\n",
    "    robot.set_cmd_vel(0.4, 0.0, 2.) # 0.1\n",
    "    robot.set_cmd_vel(0.0, 0.5, 3.14)\n",
    "    robot.set_cmd_vel(0.4, 0.0, 2.) # 0.1\n",
    "    robot.set_cmd_vel(0.0, 0.5, 3.14)\n",
    "    robot.set_cmd_vel(0.4, 0.0, 2.) # 0.1\n",
    "    robot.set_cmd_vel(0.0, 0.5, 3.14)\n",
    "logging_dir = robot.stop_logging()\n",
    "log_data = robot.get_logging_data(logging_dir) # parse the logged data and import in python"
   ]
  },
  {
   "attachments": {},
   "cell_type": "markdown",
   "metadata": {},
   "source": [
    "Executing the next cell will open the log data in the visualizer."
   ]
  },
  {
   "cell_type": "code",
   "execution_count": 15,
   "metadata": {},
   "outputs": [],
   "source": [
    "robot.open_logging_data_in_visualizer(logging_dir)\n",
    "robot.delete_logging_data(logging_dir)"
   ]
  },
  {
   "cell_type": "code",
   "execution_count": 3,
   "metadata": {},
   "outputs": [
    {
     "ename": "NameError",
     "evalue": "name 'log_data' is not defined",
     "output_type": "error",
     "traceback": [
      "\u001b[0;31m---------------------------------------------------------------------------\u001b[0m",
      "\u001b[0;31mNameError\u001b[0m                                 Traceback (most recent call last)",
      "\u001b[0;32m/tmp/ipykernel_577/1135107921.py\u001b[0m in \u001b[0;36m<module>\u001b[0;34m\u001b[0m\n\u001b[1;32m      1\u001b[0m \u001b[0;31m# Plot data in the notebook\u001b[0m\u001b[0;34m\u001b[0m\u001b[0;34m\u001b[0m\u001b[0m\n\u001b[0;32m----> 2\u001b[0;31m \u001b[0mprint\u001b[0m\u001b[0;34m(\u001b[0m\u001b[0;34m\"Collected {} samples\"\u001b[0m\u001b[0;34m.\u001b[0m\u001b[0mformat\u001b[0m\u001b[0;34m(\u001b[0m\u001b[0mlen\u001b[0m\u001b[0;34m(\u001b[0m\u001b[0mlog_data\u001b[0m\u001b[0;34m[\u001b[0m\u001b[0;34m'/odom'\u001b[0m\u001b[0;34m]\u001b[0m\u001b[0;34m)\u001b[0m\u001b[0;34m)\u001b[0m\u001b[0;34m)\u001b[0m\u001b[0;34m\u001b[0m\u001b[0;34m\u001b[0m\u001b[0m\n\u001b[0m\u001b[1;32m      3\u001b[0m \u001b[0;32mimport\u001b[0m \u001b[0mmatplotlib\u001b[0m\u001b[0;34m.\u001b[0m\u001b[0mpyplot\u001b[0m \u001b[0;32mas\u001b[0m \u001b[0mplt\u001b[0m\u001b[0;34m\u001b[0m\u001b[0;34m\u001b[0m\u001b[0m\n\u001b[1;32m      4\u001b[0m \u001b[0;32mfrom\u001b[0m \u001b[0mmatplotlib\u001b[0m\u001b[0;34m.\u001b[0m\u001b[0mpatches\u001b[0m \u001b[0;32mimport\u001b[0m \u001b[0mCircle\u001b[0m\u001b[0;34m,\u001b[0m \u001b[0mWedge\u001b[0m\u001b[0;34m\u001b[0m\u001b[0;34m\u001b[0m\u001b[0m\n\u001b[1;32m      5\u001b[0m \u001b[0mfig\u001b[0m\u001b[0;34m,\u001b[0m\u001b[0max\u001b[0m \u001b[0;34m=\u001b[0m \u001b[0mplt\u001b[0m\u001b[0;34m.\u001b[0m\u001b[0msubplots\u001b[0m\u001b[0;34m(\u001b[0m\u001b[0;36m1\u001b[0m\u001b[0;34m)\u001b[0m\u001b[0;34m\u001b[0m\u001b[0;34m\u001b[0m\u001b[0m\n",
      "\u001b[0;31mNameError\u001b[0m: name 'log_data' is not defined"
     ]
    }
   ],
   "source": [
    "# Plot data in the notebook\n",
    "print(\"Collected {} samples\".format(len(log_data['/odom'])))\n",
    "import matplotlib.pyplot as plt\n",
    "from matplotlib.patches import Circle, Wedge\n",
    "fig,ax = plt.subplots(1)\n",
    "ax.set_aspect('equal')\n",
    "# TODO: decide if x forward is really the way to go\n",
    "plt.xlim([-1.5,0.2])\n",
    "plt.ylim([-0.2,1.5])\n",
    "for msg in log_data['/odom'][::20]:\n",
    "    T3D = robot.convert_odom_to_transform(msg[1].pose.pose)\n",
    "    T2D = robot.reduce_transform_to_2D(T3D)\n",
    "    circ = Circle((-T2D[1,2],T2D[0,2]),0.1) # TODO: correct radius\n",
    "    circ.set_fill(False)\n",
    "    ax.add_patch(circ)\n",
    "    angle = robot.rotation_from_transform(T2D)\n",
    "    import math\n",
    "    angle = angle/math.pi*180\n",
    "    wedge = Wedge((-T2D[1,2],T2D[0,2]),0.1, angle+180+45, angle+360-45)\n",
    "    ax.add_patch(wedge)"
   ]
  },
  {
   "attachments": {},
   "cell_type": "markdown",
   "metadata": {},
   "source": [
    "From the experiment, please try to explain two aspect:\n",
    "* Discrepancies between the commanded robot motion and the executed one\n",
    "* Discrepancies between the measured motion and the one you observed\n",
    "Try to come up with an answer and write it in the next field"
   ]
  },
  {
   "attachments": {},
   "cell_type": "markdown",
   "metadata": {},
   "source": [
    "# Use this field"
   ]
  },
  {
   "attachments": {},
   "cell_type": "markdown",
   "metadata": {},
   "source": [
    "Later, after you are done with this lab please save this notebook. Then commit the repository and push it. Detailled instructions will follow, but this is how you submit your work in this course."
   ]
  },
  {
   "attachments": {},
   "cell_type": "markdown",
   "metadata": {},
   "source": [
    "# Example: Drive robot and aquire odometry\n",
    "Tape measure, tape. Optional: Laser pointer.\n",
    "\n",
    "* Tape two parallel lines `0.2m` apart on the floor. These are start and finish lines `0.2m`.\n",
    "* Place the robot at the start line\n",
    "* Read data from the Odometry topic\n",
    "* Command the robot to drive `0.2m` straight\n",
    "* Read data from the Odometry topic.\n",
    "Did the robot travel `0.2m`? Where could the error come from?\n",
    "\n",
    "Modify the experiment to investigate the behavior for rotation. Instead of the start and finish line attach a laser pointer to the base and aim it at a reference point. Command the robot to turn one full revolution.\n",
    "\n",
    "Reading:\n",
    "- Odometry sensor: TODO: find link\n",
    "- Quaternions: https://en.wikipedia.org/wiki/Quaternion#Quaternions_and_the_space_geometry\n"
   ]
  },
  {
   "cell_type": "code",
   "execution_count": 5,
   "metadata": {},
   "outputs": [
    {
     "data": {
      "text/plain": [
       "irobot_create_msgs.action.Undock_Result(is_docked=False)"
      ]
     },
     "execution_count": 5,
     "metadata": {},
     "output_type": "execute_result"
    }
   ],
   "source": [
    "# Use preprogrammed behavior: Drive off the dock in a controlled way\n",
    "robot.undock()"
   ]
  },
  {
   "cell_type": "code",
   "execution_count": 5,
   "metadata": {},
   "outputs": [
    {
     "name": "stdout",
     "output_type": "stream",
     "text": [
      "geometry_msgs.msg.Point(x=-1.6481990883221442e-07, y=1.92818305322362e-07, z=-7.262618284542555e-10)\n",
      "geometry_msgs.msg.Quaternion(x=0.0033984000328928232, y=-0.005702431313693523, z=1.8426591850584373e-05, w=0.9999779462814331)\n"
     ]
    }
   ],
   "source": [
    "# Display raw data: Odometry based position\n",
    "robot.odom_future = rclpy.Future()\n",
    "pose1 = robot.spin_until_future_completed(robot.odom_future).pose.pose\n",
    "print(pose1.position)\n",
    "print(pose1.orientation)"
   ]
  },
  {
   "cell_type": "code",
   "execution_count": 6,
   "metadata": {},
   "outputs": [],
   "source": [
    "# Drive with desired velocity command:\n",
    "velocity_x = -0.3 # in m/s\n",
    "velocity_phi = 0. # for rotation test use 0.5 rad/s\n",
    "duration = 2. # in s\n",
    "robot.set_cmd_vel(velocity_x, velocity_phi, duration)"
   ]
  },
  {
   "cell_type": "code",
   "execution_count": 7,
   "metadata": {},
   "outputs": [
    {
     "name": "stdout",
     "output_type": "stream",
     "text": [
      "geometry_msgs.msg.Point(x=0.1877152919769287, y=-0.0005329698324203491, z=0.002335155615583062)\n",
      "geometry_msgs.msg.Quaternion(x=0.003241100814193487, y=-0.006417444907128811, z=-4.1445640817983076e-05, w=0.9999741911888123)\n"
     ]
    }
   ],
   "source": [
    "# Display raw data: Odometry based position\n",
    "robot.odom_future = rclpy.Future()\n",
    "pose2 = robot.spin_until_future_completed(robot.odom_future).pose.pose\n",
    "print(pose2.position)\n",
    "print(pose2.orientation)"
   ]
  },
  {
   "cell_type": "code",
   "execution_count": 8,
   "metadata": {},
   "outputs": [
    {
     "name": "stdout",
     "output_type": "stream",
     "text": [
      "Desired distance: 0.2\n",
      "Measured distance: 0.18771621395835128\n",
      "Desired rotation: 0.0\n",
      "Measured rotation: 0.0014691307362550087\n"
     ]
    }
   ],
   "source": [
    "# translation\n",
    "print(\"Desired distance: {}\".format(velocity_x*duration))\n",
    "import numpy\n",
    "print(\"Measured distance: {}\".format(\n",
    "    numpy.sqrt( (pose1.position.x - pose2.position.x)**2 + (pose1.position.y - pose2.position.y)**2 ) ))\n",
    "\n",
    "# rotation\n",
    "import eigenpy # makes use of the Eigen C++ library ()\n",
    "def make_quaternion(q):\n",
    "    return eigenpy.Quaternion(q.w,q.x,q.y,q.z)\n",
    "print(\"Desired rotation: {}\".format(\n",
    "    velocity_phi * duration))\n",
    "print(\"Measured rotation: {}\".format(\n",
    "    make_quaternion(pose1.orientation).angularDistance(make_quaternion(pose2.orientation))))\n"
   ]
  },
  {
   "attachments": {},
   "cell_type": "markdown",
   "metadata": {},
   "source": [
    "# WALL FOLLOWING"
   ]
  },
  {
   "attachments": {},
   "cell_type": "markdown",
   "metadata": {},
   "source": [
    "## Required Functions for the state machine"
   ]
  },
  {
   "cell_type": "code",
   "execution_count": 3,
   "metadata": {},
   "outputs": [],
   "source": [
    "from matplotlib import pyplot as plt\n",
    "import numpy as np\n",
    "import eigenpy # makes use of the Eigen C++ library ()\n",
    "from geometry_msgs.msg import Twist\n",
    "\n",
    "\n",
    "#reset the robot's positon to 0,0 on the map\n",
    "robot.reset_odometry() # make the robot think it is at position (0,0,0) \n",
    "#Do required scans \n",
    "robot.odom_future = rclpy.Future()\n",
    "robot.spin_until_future_completed(robot.odom_future)\n",
    "pose = robot.last_odom_msg.pose.pose\n",
    "\n",
    "\n",
    "def make_quaternion(q):\n",
    "    return eigenpy.Quaternion(q.w,q.x,q.y,q.z)\n",
    "\n",
    "# Plot lidar points from last message\n",
    "def find_wall(msg = robot.last_scan_msg, pose = pose, threshold = 0.6):\n",
    "    global closest_wall_angle\n",
    "    global closest_wall_y_coord\n",
    "    global closest_wall_x_coord\n",
    "    global shortest_distance\n",
    "    # Convert received lidar points into Cartesian coordinates considering the current position from odometry\n",
    "    points = [(np.cos(angle) * radius, np.sin(angle) * radius) for angle, radius \\\n",
    "              in zip(np.linspace(msg.angle_min, msg.angle_max, len(msg.ranges)), msg.ranges)]\n",
    "\n",
    "    T = robot.reduce_transform_to_2D(robot.convert_odom_to_transform(pose))\n",
    "\n",
    "    # Remove points which cannot be measured\n",
    "    filtered_points = filter(lambda x: np.isfinite(x).all(), points)\n",
    "\n",
    "    #filter out points outside 3x3 and the 2 rods on the robot\n",
    "    filtered_points = [pnt for pnt in filtered_points if abs(pnt[0]) <= 3 and abs(pnt[1]) <= 3]           \n",
    "    filtered_points = [pnt for pnt in filtered_points if abs(pnt[0]) >= 0.2 and abs(pnt[1]) >= 0.2]     \n",
    "\n",
    "    # Perform distance-based clustering for making all the line segments from points scanned\n",
    "    #if points are close to each other then add them to a same cluster to build line segments\n",
    "    clusters = []\n",
    "    for point in filtered_points:\n",
    "        assigned = False\n",
    "        for cluster in clusters:\n",
    "            point_array = np.array(point)  # Convert tuple to array\n",
    "            cluster_arr = np.array(cluster[0])  # Convert tuple to array\n",
    "            if np.linalg.norm(point_array[:2] - cluster_arr[:2]) <= threshold:  # Perform subtraction with arrays\n",
    "                cluster.append(point)           #add point to cluster\n",
    "                assigned = True\n",
    "                break\n",
    "        if not assigned:\n",
    "            clusters.append([point])            #add point to new cluster\n",
    "\n",
    "    #arbitary large value\n",
    "    shortest_distance = 10000\n",
    "    closest_line = []\n",
    "\n",
    "    # Perofmring operations on each line segment\n",
    "    for cluster in clusters:\n",
    "        x_values = [point[0] for point in cluster]\n",
    "        y_values = [point[1] for point in cluster]\n",
    "\n",
    "       # performs squares regression, fitting a linear model to the data points represented by X and y_values.\n",
    "        X = np.vstack([x_values, np.ones(len(x_values))]).T \n",
    "        m, b = np.linalg.lstsq(X, y_values, rcond=None)[0]              #slope and y-intercept\n",
    "\n",
    "        # Generate lines using y = m*x + b\n",
    "        line_x = np.array([min(x_values), max(x_values)])\n",
    "        line_y = m * line_x + b                         \n",
    "        \n",
    "\n",
    "        #end points of line segment               e.g.  x1 ________ x2\n",
    "        x1 = line_x[0]\n",
    "        x2 = line_x[1]\n",
    "        y1 = line_y[0]\n",
    "        y2 = line_y[1]\n",
    "        \n",
    "        angle =  np.arctan(m)\n",
    "        #find closest line\n",
    "        distance = abs((x1*y2 -x2*y1)/(np.sqrt((x2-x1)**2+(y2-y1)**2))) \n",
    "        if ((distance < shortest_distance)):\n",
    "            shortest_distance = distance\n",
    "            closest_wall_y_coord = y1\n",
    "            closest_wall_x_coord = (x1+x2)/2\n",
    "            closest_wall_angle = angle\n",
    "\n",
    "        # uncomment if you want to see the plot\n",
    "        # plt.plot(line_x, line_y , color = 'blue')                             #plot each line segment\n",
    "        \n",
    "\n",
    "    # uncomment if you want to see the plot\n",
    "    # plt.plot([pose.position.x], [pose.position.y], 'bx' , color =  'red')     #display the robot as a red cross\n",
    "    # plt.gca().invert_yaxis()\n",
    "    # plt.gca().invert_xaxis()\n",
    "    # plt.show()\n",
    "\n",
    "def scan():\n",
    "    robot.odom_future = rclpy.Future()\n",
    "    # robot.spin_until_future_completed(robot.scan_future);\n",
    "    robot.spin_until_future_completed(robot.odom_future)\n",
    "    # scan = robot.last_scan_msg\n",
    "    pose = robot.last_odom_msg.pose.pose\n",
    "    find_wall(robot.last_scan_msg, pose, threshold)\n",
    "    \n",
    "# Example usage\n",
    "threshold = 0.6  # Maximum distance between points to be considered in the same cluster(line segment)\n",
    "find_wall(robot.last_scan_msg, pose, threshold)\n",
    "\n"
   ]
  },
  {
   "attachments": {},
   "cell_type": "markdown",
   "metadata": {},
   "source": [
    "## SM TO FOLLOW WALL"
   ]
  },
  {
   "cell_type": "code",
   "execution_count": 6,
   "metadata": {},
   "outputs": [
    {
     "ename": "KeyboardInterrupt",
     "evalue": "",
     "output_type": "error",
     "traceback": [
      "\u001b[0;31m---------------------------------------------------------------------------\u001b[0m",
      "\u001b[0;31mKeyboardInterrupt\u001b[0m                         Traceback (most recent call last)",
      "\u001b[0;32m/tmp/ipykernel_4620/4177626947.py\u001b[0m in \u001b[0;36m<module>\u001b[0;34m\u001b[0m\n\u001b[1;32m      9\u001b[0m \u001b[0mcommand_success\u001b[0m \u001b[0;34m=\u001b[0m \u001b[0;32mNone\u001b[0m\u001b[0;34m\u001b[0m\u001b[0;34m\u001b[0m\u001b[0m\n\u001b[1;32m     10\u001b[0m \u001b[0mvelocity\u001b[0m \u001b[0;34m=\u001b[0m \u001b[0mTwist\u001b[0m\u001b[0;34m(\u001b[0m\u001b[0;34m)\u001b[0m\u001b[0;34m\u001b[0m\u001b[0;34m\u001b[0m\u001b[0m\n\u001b[0;32m---> 11\u001b[0;31m \u001b[0mrobot\u001b[0m\u001b[0;34m.\u001b[0m\u001b[0mreset_odometry\u001b[0m\u001b[0;34m(\u001b[0m\u001b[0;34m)\u001b[0m \u001b[0;31m# make the robot think it is at position (0,0,0)\u001b[0m\u001b[0;34m\u001b[0m\u001b[0;34m\u001b[0m\u001b[0m\n\u001b[0m\u001b[1;32m     12\u001b[0m \u001b[0mshortest_distance\u001b[0m \u001b[0;34m=\u001b[0m \u001b[0;36m0\u001b[0m\u001b[0;34m\u001b[0m\u001b[0;34m\u001b[0m\u001b[0m\n\u001b[1;32m     13\u001b[0m \u001b[0;34m\u001b[0m\u001b[0m\n",
      "\u001b[0;32m/opt/robohub/humble/lib/python3.10/site-packages/turtlebot4_wrapper/__init__.py\u001b[0m in \u001b[0;36mreset_odometry\u001b[0;34m(self)\u001b[0m\n\u001b[1;32m    201\u001b[0m         \u001b[0mreq\u001b[0m \u001b[0;34m=\u001b[0m \u001b[0mResetPose\u001b[0m\u001b[0;34m.\u001b[0m\u001b[0mRequest\u001b[0m\u001b[0;34m(\u001b[0m\u001b[0;34m)\u001b[0m\u001b[0;34m\u001b[0m\u001b[0;34m\u001b[0m\u001b[0m\n\u001b[1;32m    202\u001b[0m         \u001b[0mmyfuture\u001b[0m \u001b[0;34m=\u001b[0m \u001b[0mself\u001b[0m\u001b[0;34m.\u001b[0m\u001b[0m_reset_pose_client\u001b[0m\u001b[0;34m.\u001b[0m\u001b[0mcall_async\u001b[0m\u001b[0;34m(\u001b[0m\u001b[0mreq\u001b[0m\u001b[0;34m)\u001b[0m\u001b[0;34m\u001b[0m\u001b[0;34m\u001b[0m\u001b[0m\n\u001b[0;32m--> 203\u001b[0;31m         \u001b[0mrclpy\u001b[0m\u001b[0;34m.\u001b[0m\u001b[0mspin_until_future_complete\u001b[0m\u001b[0;34m(\u001b[0m\u001b[0mself\u001b[0m\u001b[0;34m,\u001b[0m \u001b[0mmyfuture\u001b[0m\u001b[0;34m)\u001b[0m\u001b[0;34m\u001b[0m\u001b[0;34m\u001b[0m\u001b[0m\n\u001b[0m\u001b[1;32m    204\u001b[0m         \u001b[0;31m# TODO: check result\u001b[0m\u001b[0;34m\u001b[0m\u001b[0;34m\u001b[0m\u001b[0m\n\u001b[1;32m    205\u001b[0m \u001b[0;34m\u001b[0m\u001b[0m\n",
      "\u001b[0;32m/opt/ros/humble/local/lib/python3.10/dist-packages/rclpy/__init__.py\u001b[0m in \u001b[0;36mspin_until_future_complete\u001b[0;34m(node, future, executor, timeout_sec)\u001b[0m\n\u001b[1;32m    246\u001b[0m     \u001b[0;32mtry\u001b[0m\u001b[0;34m:\u001b[0m\u001b[0;34m\u001b[0m\u001b[0;34m\u001b[0m\u001b[0m\n\u001b[1;32m    247\u001b[0m         \u001b[0mexecutor\u001b[0m\u001b[0;34m.\u001b[0m\u001b[0madd_node\u001b[0m\u001b[0;34m(\u001b[0m\u001b[0mnode\u001b[0m\u001b[0;34m)\u001b[0m\u001b[0;34m\u001b[0m\u001b[0;34m\u001b[0m\u001b[0m\n\u001b[0;32m--> 248\u001b[0;31m         \u001b[0mexecutor\u001b[0m\u001b[0;34m.\u001b[0m\u001b[0mspin_until_future_complete\u001b[0m\u001b[0;34m(\u001b[0m\u001b[0mfuture\u001b[0m\u001b[0;34m,\u001b[0m \u001b[0mtimeout_sec\u001b[0m\u001b[0;34m)\u001b[0m\u001b[0;34m\u001b[0m\u001b[0;34m\u001b[0m\u001b[0m\n\u001b[0m\u001b[1;32m    249\u001b[0m     \u001b[0;32mfinally\u001b[0m\u001b[0;34m:\u001b[0m\u001b[0;34m\u001b[0m\u001b[0;34m\u001b[0m\u001b[0m\n\u001b[1;32m    250\u001b[0m         \u001b[0mexecutor\u001b[0m\u001b[0;34m.\u001b[0m\u001b[0mremove_node\u001b[0m\u001b[0;34m(\u001b[0m\u001b[0mnode\u001b[0m\u001b[0;34m)\u001b[0m\u001b[0;34m\u001b[0m\u001b[0;34m\u001b[0m\u001b[0m\n",
      "\u001b[0;32m/opt/ros/humble/local/lib/python3.10/dist-packages/rclpy/executors.py\u001b[0m in \u001b[0;36mspin_until_future_complete\u001b[0;34m(self, future, timeout_sec)\u001b[0m\n\u001b[1;32m    286\u001b[0m         \u001b[0;32mif\u001b[0m \u001b[0mtimeout_sec\u001b[0m \u001b[0;32mis\u001b[0m \u001b[0;32mNone\u001b[0m \u001b[0;32mor\u001b[0m \u001b[0mtimeout_sec\u001b[0m \u001b[0;34m<\u001b[0m \u001b[0;36m0\u001b[0m\u001b[0;34m:\u001b[0m\u001b[0;34m\u001b[0m\u001b[0;34m\u001b[0m\u001b[0m\n\u001b[1;32m    287\u001b[0m             \u001b[0;32mwhile\u001b[0m \u001b[0mself\u001b[0m\u001b[0;34m.\u001b[0m\u001b[0m_context\u001b[0m\u001b[0;34m.\u001b[0m\u001b[0mok\u001b[0m\u001b[0;34m(\u001b[0m\u001b[0;34m)\u001b[0m \u001b[0;32mand\u001b[0m \u001b[0;32mnot\u001b[0m \u001b[0mfuture\u001b[0m\u001b[0;34m.\u001b[0m\u001b[0mdone\u001b[0m\u001b[0;34m(\u001b[0m\u001b[0;34m)\u001b[0m \u001b[0;32mand\u001b[0m \u001b[0;32mnot\u001b[0m \u001b[0mself\u001b[0m\u001b[0;34m.\u001b[0m\u001b[0m_is_shutdown\u001b[0m\u001b[0;34m:\u001b[0m\u001b[0;34m\u001b[0m\u001b[0;34m\u001b[0m\u001b[0m\n\u001b[0;32m--> 288\u001b[0;31m                 \u001b[0mself\u001b[0m\u001b[0;34m.\u001b[0m\u001b[0mspin_once_until_future_complete\u001b[0m\u001b[0;34m(\u001b[0m\u001b[0mfuture\u001b[0m\u001b[0;34m,\u001b[0m \u001b[0mtimeout_sec\u001b[0m\u001b[0;34m)\u001b[0m\u001b[0;34m\u001b[0m\u001b[0;34m\u001b[0m\u001b[0m\n\u001b[0m\u001b[1;32m    289\u001b[0m         \u001b[0;32melse\u001b[0m\u001b[0;34m:\u001b[0m\u001b[0;34m\u001b[0m\u001b[0;34m\u001b[0m\u001b[0m\n\u001b[1;32m    290\u001b[0m             \u001b[0mstart\u001b[0m \u001b[0;34m=\u001b[0m \u001b[0mtime\u001b[0m\u001b[0;34m.\u001b[0m\u001b[0mmonotonic\u001b[0m\u001b[0;34m(\u001b[0m\u001b[0;34m)\u001b[0m\u001b[0;34m\u001b[0m\u001b[0;34m\u001b[0m\u001b[0m\n",
      "\u001b[0;32m/opt/ros/humble/local/lib/python3.10/dist-packages/rclpy/executors.py\u001b[0m in \u001b[0;36mspin_once_until_future_complete\u001b[0;34m(self, future, timeout_sec)\u001b[0m\n\u001b[1;32m    714\u001b[0m \u001b[0;34m\u001b[0m\u001b[0m\n\u001b[1;32m    715\u001b[0m     \u001b[0;32mdef\u001b[0m \u001b[0mspin_once_until_future_complete\u001b[0m\u001b[0;34m(\u001b[0m\u001b[0mself\u001b[0m\u001b[0;34m,\u001b[0m \u001b[0mfuture\u001b[0m\u001b[0;34m:\u001b[0m \u001b[0mFuture\u001b[0m\u001b[0;34m,\u001b[0m \u001b[0mtimeout_sec\u001b[0m\u001b[0;34m:\u001b[0m \u001b[0mfloat\u001b[0m \u001b[0;34m=\u001b[0m \u001b[0;32mNone\u001b[0m\u001b[0;34m)\u001b[0m \u001b[0;34m->\u001b[0m \u001b[0;32mNone\u001b[0m\u001b[0;34m:\u001b[0m\u001b[0;34m\u001b[0m\u001b[0;34m\u001b[0m\u001b[0m\n\u001b[0;32m--> 716\u001b[0;31m         \u001b[0mself\u001b[0m\u001b[0;34m.\u001b[0m\u001b[0mspin_once\u001b[0m\u001b[0;34m(\u001b[0m\u001b[0mtimeout_sec\u001b[0m\u001b[0;34m)\u001b[0m\u001b[0;34m\u001b[0m\u001b[0;34m\u001b[0m\u001b[0m\n\u001b[0m\u001b[1;32m    717\u001b[0m \u001b[0;34m\u001b[0m\u001b[0m\n\u001b[1;32m    718\u001b[0m \u001b[0;34m\u001b[0m\u001b[0m\n",
      "\u001b[0;32m/opt/ros/humble/local/lib/python3.10/dist-packages/rclpy/executors.py\u001b[0m in \u001b[0;36mspin_once\u001b[0;34m(self, timeout_sec)\u001b[0m\n\u001b[1;32m    703\u001b[0m     \u001b[0;32mdef\u001b[0m \u001b[0mspin_once\u001b[0m\u001b[0;34m(\u001b[0m\u001b[0mself\u001b[0m\u001b[0;34m,\u001b[0m \u001b[0mtimeout_sec\u001b[0m\u001b[0;34m:\u001b[0m \u001b[0mfloat\u001b[0m \u001b[0;34m=\u001b[0m \u001b[0;32mNone\u001b[0m\u001b[0;34m)\u001b[0m \u001b[0;34m->\u001b[0m \u001b[0;32mNone\u001b[0m\u001b[0;34m:\u001b[0m\u001b[0;34m\u001b[0m\u001b[0;34m\u001b[0m\u001b[0m\n\u001b[1;32m    704\u001b[0m         \u001b[0;32mtry\u001b[0m\u001b[0;34m:\u001b[0m\u001b[0;34m\u001b[0m\u001b[0;34m\u001b[0m\u001b[0m\n\u001b[0;32m--> 705\u001b[0;31m             \u001b[0mhandler\u001b[0m\u001b[0;34m,\u001b[0m \u001b[0mentity\u001b[0m\u001b[0;34m,\u001b[0m \u001b[0mnode\u001b[0m \u001b[0;34m=\u001b[0m \u001b[0mself\u001b[0m\u001b[0;34m.\u001b[0m\u001b[0mwait_for_ready_callbacks\u001b[0m\u001b[0;34m(\u001b[0m\u001b[0mtimeout_sec\u001b[0m\u001b[0;34m=\u001b[0m\u001b[0mtimeout_sec\u001b[0m\u001b[0;34m)\u001b[0m\u001b[0;34m\u001b[0m\u001b[0;34m\u001b[0m\u001b[0m\n\u001b[0m\u001b[1;32m    706\u001b[0m         \u001b[0;32mexcept\u001b[0m \u001b[0mShutdownException\u001b[0m\u001b[0;34m:\u001b[0m\u001b[0;34m\u001b[0m\u001b[0;34m\u001b[0m\u001b[0m\n\u001b[1;32m    707\u001b[0m             \u001b[0;32mpass\u001b[0m\u001b[0;34m\u001b[0m\u001b[0;34m\u001b[0m\u001b[0m\n",
      "\u001b[0;32m/opt/ros/humble/local/lib/python3.10/dist-packages/rclpy/executors.py\u001b[0m in \u001b[0;36mwait_for_ready_callbacks\u001b[0;34m(self, *args, **kwargs)\u001b[0m\n\u001b[1;32m    689\u001b[0m \u001b[0;34m\u001b[0m\u001b[0m\n\u001b[1;32m    690\u001b[0m             \u001b[0;32mtry\u001b[0m\u001b[0;34m:\u001b[0m\u001b[0;34m\u001b[0m\u001b[0;34m\u001b[0m\u001b[0m\n\u001b[0;32m--> 691\u001b[0;31m                 \u001b[0;32mreturn\u001b[0m \u001b[0mnext\u001b[0m\u001b[0;34m(\u001b[0m\u001b[0mself\u001b[0m\u001b[0;34m.\u001b[0m\u001b[0m_cb_iter\u001b[0m\u001b[0;34m)\u001b[0m\u001b[0;34m\u001b[0m\u001b[0;34m\u001b[0m\u001b[0m\n\u001b[0m\u001b[1;32m    692\u001b[0m             \u001b[0;32mexcept\u001b[0m \u001b[0mStopIteration\u001b[0m\u001b[0;34m:\u001b[0m\u001b[0;34m\u001b[0m\u001b[0;34m\u001b[0m\u001b[0m\n\u001b[1;32m    693\u001b[0m                 \u001b[0;31m# Generator ran out of work\u001b[0m\u001b[0;34m\u001b[0m\u001b[0;34m\u001b[0m\u001b[0m\n",
      "\u001b[0;32m/opt/ros/humble/local/lib/python3.10/dist-packages/rclpy/executors.py\u001b[0m in \u001b[0;36m_wait_for_ready_callbacks\u001b[0;34m(self, timeout_sec, nodes, condition)\u001b[0m\n\u001b[1;32m    586\u001b[0m \u001b[0;34m\u001b[0m\u001b[0m\n\u001b[1;32m    587\u001b[0m                 \u001b[0;31m# Wait for something to become ready\u001b[0m\u001b[0;34m\u001b[0m\u001b[0;34m\u001b[0m\u001b[0m\n\u001b[0;32m--> 588\u001b[0;31m                 \u001b[0mwait_set\u001b[0m\u001b[0;34m.\u001b[0m\u001b[0mwait\u001b[0m\u001b[0;34m(\u001b[0m\u001b[0mtimeout_nsec\u001b[0m\u001b[0;34m)\u001b[0m\u001b[0;34m\u001b[0m\u001b[0;34m\u001b[0m\u001b[0m\n\u001b[0m\u001b[1;32m    589\u001b[0m                 \u001b[0;32mif\u001b[0m \u001b[0mself\u001b[0m\u001b[0;34m.\u001b[0m\u001b[0m_is_shutdown\u001b[0m\u001b[0;34m:\u001b[0m\u001b[0;34m\u001b[0m\u001b[0;34m\u001b[0m\u001b[0m\n\u001b[1;32m    590\u001b[0m                     \u001b[0;32mraise\u001b[0m \u001b[0mShutdownException\u001b[0m\u001b[0;34m(\u001b[0m\u001b[0;34m)\u001b[0m\u001b[0;34m\u001b[0m\u001b[0;34m\u001b[0m\u001b[0m\n",
      "\u001b[0;31mKeyboardInterrupt\u001b[0m: "
     ]
    }
   ],
   "source": [
    "# STATE MACHINE LIKE IMPLEMTATION:\n",
    "\n",
    "# set default variables\n",
    "duration = 3 # in s\n",
    "velocity_x = 0 # in m/s\n",
    "closest_wall_angle = 0\n",
    "threshold = 0.6\n",
    "closest_wall_y_coord = 0\n",
    "command_success = None\n",
    "velocity = Twist()\n",
    "robot.reset_odometry() # make the robot think it is at position (0,0,0)\n",
    "shortest_distance = 0\n",
    "\n",
    "# States: Facing wall , parallel to wall , facing inward with the wall to the left or right , facing outward with the wall to the left or right\n",
    "while(True):\n",
    "    #Do required scans \n",
    "    scan()\n",
    "    print(closest_wall_angle)\n",
    "    print(closest_wall_y_coord)\n",
    "\n",
    "    #if facing wall then turn around 90 degrees\n",
    "    if (abs(closest_wall_angle) < 0.1):\n",
    "        velocity_phi = np.pi/4\n",
    "        velocity_x = 0.\n",
    "        print(\"Rotate 90\")\n",
    "    \n",
    "    #if parallel to wall move straight\n",
    "    elif(closest_wall_angle < 1.35 and closest_wall_angle > 1.60):\n",
    "        velocity_x = 0.1\n",
    "        print(\"dis\",shortest_distance)\n",
    "        velocity_phi = 0.05 * (3.14/2 - closest_wall_angle)\n",
    "        print(\"move straight\")\n",
    "    else:\n",
    "        velocity_x = 0.1                                   # to induce an arc\n",
    "        if (closest_wall_y_coord < 0):                      # facing towards the wall but at an angle\n",
    "            if(closest_wall_angle > 0 ):                    # wall towards left of robot\n",
    "                print(\"wall is left -> turning outward\")\n",
    "                velocity_phi = -0.04*3                          #NEGATIVE*POS\n",
    "                \n",
    "            else:                                           # wall towards right of robot\n",
    "                print(\"wall is right -> turning outward\")\n",
    "                velocity_phi = 0.04*3                           #NEG*NEG\n",
    "\n",
    "        else:                                               # facing away from the wall but at an angle\n",
    "            if(closest_wall_angle < 0 ):                    # wall towards left of robot\n",
    "                print(\"wall is left -> turning inward\")\n",
    "                velocity_phi = 0.04*3                           #POS*NEG\n",
    "            else:                                           # wall towards right of robot\n",
    "                print(\"wall is right -> turning inward\")\n",
    "                velocity_phi = -0.04*3                          #POS*POS\n",
    "    \n",
    "    #if closest wall angle is pos vel_phi is neg\n",
    "    \n",
    "    # robot.set_cmd_vel(velocity_x, velocity_phi, 3.5)\n",
    "    #command_success = robot.set_cmd_vel(velocity_x, velocity_phi, 3)   # set command velocity\n",
    "    #print(command_success)\n",
    "    msg = Twist()\n",
    "    msg.linear.x = velocity_x\n",
    "    msg.angular.z = velocity_phi\n",
    "    print(\"vel\",velocity_phi)\n",
    "    robot.cmd_vel_publisher.publish(msg)\n"
   ]
  },
  {
   "attachments": {},
   "cell_type": "markdown",
   "metadata": {},
   "source": [
    "## CONTROLLER METHOD (Better)"
   ]
  },
  {
   "cell_type": "code",
   "execution_count": 17,
   "metadata": {},
   "outputs": [
    {
     "name": "stderr",
     "output_type": "stream",
     "text": [
      "/tmp/ipykernel_4706/3166876119.py:78: RuntimeWarning: invalid value encountered in double_scalars\n",
      "  distance = abs((x1*y2 -x2*y1)/(np.sqrt((x2-x1)**2+(y2-y1)**2)))\n"
     ]
    },
    {
     "name": "stdout",
     "output_type": "stream",
     "text": [
      "SWITCHING TO DISTANCE CORRECTION\n"
     ]
    },
    {
     "ename": "KeyboardInterrupt",
     "evalue": "",
     "output_type": "error",
     "traceback": [
      "\u001b[0;31m---------------------------------------------------------------------------\u001b[0m",
      "\u001b[0;31mKeyboardInterrupt\u001b[0m                         Traceback (most recent call last)",
      "\u001b[0;32m/tmp/ipykernel_4706/2439221929.py\u001b[0m in \u001b[0;36m<module>\u001b[0;34m\u001b[0m\n\u001b[1;32m     26\u001b[0m \u001b[0;34m\u001b[0m\u001b[0m\n\u001b[1;32m     27\u001b[0m \u001b[0;32mwhile\u001b[0m\u001b[0;34m(\u001b[0m\u001b[0;32mTrue\u001b[0m\u001b[0;34m)\u001b[0m\u001b[0;34m:\u001b[0m\u001b[0;34m\u001b[0m\u001b[0;34m\u001b[0m\u001b[0m\n\u001b[0;32m---> 28\u001b[0;31m     \u001b[0mscan\u001b[0m\u001b[0;34m(\u001b[0m\u001b[0;34m)\u001b[0m\u001b[0;34m\u001b[0m\u001b[0;34m\u001b[0m\u001b[0m\n\u001b[0m\u001b[1;32m     29\u001b[0m     \u001b[0mvelocity_x\u001b[0m \u001b[0;34m=\u001b[0m  \u001b[0;36m0.1\u001b[0m\u001b[0;34m\u001b[0m\u001b[0;34m\u001b[0m\u001b[0m\n\u001b[1;32m     30\u001b[0m \u001b[0;34m\u001b[0m\u001b[0m\n",
      "\u001b[0;32m/tmp/ipykernel_4706/3166876119.py\u001b[0m in \u001b[0;36mscan\u001b[0;34m()\u001b[0m\n\u001b[1;32m     96\u001b[0m     \u001b[0mrobot\u001b[0m\u001b[0;34m.\u001b[0m\u001b[0modom_future\u001b[0m \u001b[0;34m=\u001b[0m \u001b[0mrclpy\u001b[0m\u001b[0;34m.\u001b[0m\u001b[0mFuture\u001b[0m\u001b[0;34m(\u001b[0m\u001b[0;34m)\u001b[0m\u001b[0;34m\u001b[0m\u001b[0;34m\u001b[0m\u001b[0m\n\u001b[1;32m     97\u001b[0m     \u001b[0;31m# robot.spin_until_future_completed(robot.scan_future);\u001b[0m\u001b[0;34m\u001b[0m\u001b[0;34m\u001b[0m\u001b[0m\n\u001b[0;32m---> 98\u001b[0;31m     \u001b[0mrobot\u001b[0m\u001b[0;34m.\u001b[0m\u001b[0mspin_until_future_completed\u001b[0m\u001b[0;34m(\u001b[0m\u001b[0mrobot\u001b[0m\u001b[0;34m.\u001b[0m\u001b[0modom_future\u001b[0m\u001b[0;34m)\u001b[0m\u001b[0;34m\u001b[0m\u001b[0;34m\u001b[0m\u001b[0m\n\u001b[0m\u001b[1;32m     99\u001b[0m     \u001b[0;31m# scan = robot.last_scan_msg\u001b[0m\u001b[0;34m\u001b[0m\u001b[0;34m\u001b[0m\u001b[0m\n\u001b[1;32m    100\u001b[0m     \u001b[0mpose\u001b[0m \u001b[0;34m=\u001b[0m \u001b[0mrobot\u001b[0m\u001b[0;34m.\u001b[0m\u001b[0mlast_odom_msg\u001b[0m\u001b[0;34m.\u001b[0m\u001b[0mpose\u001b[0m\u001b[0;34m.\u001b[0m\u001b[0mpose\u001b[0m\u001b[0;34m\u001b[0m\u001b[0;34m\u001b[0m\u001b[0m\n",
      "\u001b[0;32m/opt/robohub/humble/lib/python3.10/site-packages/turtlebot4_wrapper/__init__.py\u001b[0m in \u001b[0;36mspin_until_future_completed\u001b[0;34m(self, future)\u001b[0m\n\u001b[1;32m    354\u001b[0m         \u001b[0;31m# Use while loop to be responsive to kernel interrupt\u001b[0m\u001b[0;34m\u001b[0m\u001b[0;34m\u001b[0m\u001b[0m\n\u001b[1;32m    355\u001b[0m         \u001b[0;31m# instead of\u001b[0m\u001b[0;34m\u001b[0m\u001b[0;34m\u001b[0m\u001b[0m\n\u001b[0;32m--> 356\u001b[0;31m         \u001b[0mrclpy\u001b[0m\u001b[0;34m.\u001b[0m\u001b[0mspin_until_future_complete\u001b[0m\u001b[0;34m(\u001b[0m\u001b[0mself\u001b[0m\u001b[0;34m,\u001b[0m\u001b[0mfuture\u001b[0m\u001b[0;34m)\u001b[0m\u001b[0;34m\u001b[0m\u001b[0;34m\u001b[0m\u001b[0m\n\u001b[0m\u001b[1;32m    357\u001b[0m         \u001b[0;31m#while not future.done():\u001b[0m\u001b[0;34m\u001b[0m\u001b[0;34m\u001b[0m\u001b[0m\n\u001b[1;32m    358\u001b[0m         \u001b[0;31m#    rclpy.spin_once(self)\u001b[0m\u001b[0;34m\u001b[0m\u001b[0;34m\u001b[0m\u001b[0m\n",
      "\u001b[0;32m/opt/ros/humble/local/lib/python3.10/dist-packages/rclpy/__init__.py\u001b[0m in \u001b[0;36mspin_until_future_complete\u001b[0;34m(node, future, executor, timeout_sec)\u001b[0m\n\u001b[1;32m    246\u001b[0m     \u001b[0;32mtry\u001b[0m\u001b[0;34m:\u001b[0m\u001b[0;34m\u001b[0m\u001b[0;34m\u001b[0m\u001b[0m\n\u001b[1;32m    247\u001b[0m         \u001b[0mexecutor\u001b[0m\u001b[0;34m.\u001b[0m\u001b[0madd_node\u001b[0m\u001b[0;34m(\u001b[0m\u001b[0mnode\u001b[0m\u001b[0;34m)\u001b[0m\u001b[0;34m\u001b[0m\u001b[0;34m\u001b[0m\u001b[0m\n\u001b[0;32m--> 248\u001b[0;31m         \u001b[0mexecutor\u001b[0m\u001b[0;34m.\u001b[0m\u001b[0mspin_until_future_complete\u001b[0m\u001b[0;34m(\u001b[0m\u001b[0mfuture\u001b[0m\u001b[0;34m,\u001b[0m \u001b[0mtimeout_sec\u001b[0m\u001b[0;34m)\u001b[0m\u001b[0;34m\u001b[0m\u001b[0;34m\u001b[0m\u001b[0m\n\u001b[0m\u001b[1;32m    249\u001b[0m     \u001b[0;32mfinally\u001b[0m\u001b[0;34m:\u001b[0m\u001b[0;34m\u001b[0m\u001b[0;34m\u001b[0m\u001b[0m\n\u001b[1;32m    250\u001b[0m         \u001b[0mexecutor\u001b[0m\u001b[0;34m.\u001b[0m\u001b[0mremove_node\u001b[0m\u001b[0;34m(\u001b[0m\u001b[0mnode\u001b[0m\u001b[0;34m)\u001b[0m\u001b[0;34m\u001b[0m\u001b[0;34m\u001b[0m\u001b[0m\n",
      "\u001b[0;32m/opt/ros/humble/local/lib/python3.10/dist-packages/rclpy/executors.py\u001b[0m in \u001b[0;36mspin_until_future_complete\u001b[0;34m(self, future, timeout_sec)\u001b[0m\n\u001b[1;32m    286\u001b[0m         \u001b[0;32mif\u001b[0m \u001b[0mtimeout_sec\u001b[0m \u001b[0;32mis\u001b[0m \u001b[0;32mNone\u001b[0m \u001b[0;32mor\u001b[0m \u001b[0mtimeout_sec\u001b[0m \u001b[0;34m<\u001b[0m \u001b[0;36m0\u001b[0m\u001b[0;34m:\u001b[0m\u001b[0;34m\u001b[0m\u001b[0;34m\u001b[0m\u001b[0m\n\u001b[1;32m    287\u001b[0m             \u001b[0;32mwhile\u001b[0m \u001b[0mself\u001b[0m\u001b[0;34m.\u001b[0m\u001b[0m_context\u001b[0m\u001b[0;34m.\u001b[0m\u001b[0mok\u001b[0m\u001b[0;34m(\u001b[0m\u001b[0;34m)\u001b[0m \u001b[0;32mand\u001b[0m \u001b[0;32mnot\u001b[0m \u001b[0mfuture\u001b[0m\u001b[0;34m.\u001b[0m\u001b[0mdone\u001b[0m\u001b[0;34m(\u001b[0m\u001b[0;34m)\u001b[0m \u001b[0;32mand\u001b[0m \u001b[0;32mnot\u001b[0m \u001b[0mself\u001b[0m\u001b[0;34m.\u001b[0m\u001b[0m_is_shutdown\u001b[0m\u001b[0;34m:\u001b[0m\u001b[0;34m\u001b[0m\u001b[0;34m\u001b[0m\u001b[0m\n\u001b[0;32m--> 288\u001b[0;31m                 \u001b[0mself\u001b[0m\u001b[0;34m.\u001b[0m\u001b[0mspin_once_until_future_complete\u001b[0m\u001b[0;34m(\u001b[0m\u001b[0mfuture\u001b[0m\u001b[0;34m,\u001b[0m \u001b[0mtimeout_sec\u001b[0m\u001b[0;34m)\u001b[0m\u001b[0;34m\u001b[0m\u001b[0;34m\u001b[0m\u001b[0m\n\u001b[0m\u001b[1;32m    289\u001b[0m         \u001b[0;32melse\u001b[0m\u001b[0;34m:\u001b[0m\u001b[0;34m\u001b[0m\u001b[0;34m\u001b[0m\u001b[0m\n\u001b[1;32m    290\u001b[0m             \u001b[0mstart\u001b[0m \u001b[0;34m=\u001b[0m \u001b[0mtime\u001b[0m\u001b[0;34m.\u001b[0m\u001b[0mmonotonic\u001b[0m\u001b[0;34m(\u001b[0m\u001b[0;34m)\u001b[0m\u001b[0;34m\u001b[0m\u001b[0;34m\u001b[0m\u001b[0m\n",
      "\u001b[0;32m/opt/ros/humble/local/lib/python3.10/dist-packages/rclpy/executors.py\u001b[0m in \u001b[0;36mspin_once_until_future_complete\u001b[0;34m(self, future, timeout_sec)\u001b[0m\n\u001b[1;32m    714\u001b[0m \u001b[0;34m\u001b[0m\u001b[0m\n\u001b[1;32m    715\u001b[0m     \u001b[0;32mdef\u001b[0m \u001b[0mspin_once_until_future_complete\u001b[0m\u001b[0;34m(\u001b[0m\u001b[0mself\u001b[0m\u001b[0;34m,\u001b[0m \u001b[0mfuture\u001b[0m\u001b[0;34m:\u001b[0m \u001b[0mFuture\u001b[0m\u001b[0;34m,\u001b[0m \u001b[0mtimeout_sec\u001b[0m\u001b[0;34m:\u001b[0m \u001b[0mfloat\u001b[0m \u001b[0;34m=\u001b[0m \u001b[0;32mNone\u001b[0m\u001b[0;34m)\u001b[0m \u001b[0;34m->\u001b[0m \u001b[0;32mNone\u001b[0m\u001b[0;34m:\u001b[0m\u001b[0;34m\u001b[0m\u001b[0;34m\u001b[0m\u001b[0m\n\u001b[0;32m--> 716\u001b[0;31m         \u001b[0mself\u001b[0m\u001b[0;34m.\u001b[0m\u001b[0mspin_once\u001b[0m\u001b[0;34m(\u001b[0m\u001b[0mtimeout_sec\u001b[0m\u001b[0;34m)\u001b[0m\u001b[0;34m\u001b[0m\u001b[0;34m\u001b[0m\u001b[0m\n\u001b[0m\u001b[1;32m    717\u001b[0m \u001b[0;34m\u001b[0m\u001b[0m\n\u001b[1;32m    718\u001b[0m \u001b[0;34m\u001b[0m\u001b[0m\n",
      "\u001b[0;32m/opt/ros/humble/local/lib/python3.10/dist-packages/rclpy/executors.py\u001b[0m in \u001b[0;36mspin_once\u001b[0;34m(self, timeout_sec)\u001b[0m\n\u001b[1;32m    703\u001b[0m     \u001b[0;32mdef\u001b[0m \u001b[0mspin_once\u001b[0m\u001b[0;34m(\u001b[0m\u001b[0mself\u001b[0m\u001b[0;34m,\u001b[0m \u001b[0mtimeout_sec\u001b[0m\u001b[0;34m:\u001b[0m \u001b[0mfloat\u001b[0m \u001b[0;34m=\u001b[0m \u001b[0;32mNone\u001b[0m\u001b[0;34m)\u001b[0m \u001b[0;34m->\u001b[0m \u001b[0;32mNone\u001b[0m\u001b[0;34m:\u001b[0m\u001b[0;34m\u001b[0m\u001b[0;34m\u001b[0m\u001b[0m\n\u001b[1;32m    704\u001b[0m         \u001b[0;32mtry\u001b[0m\u001b[0;34m:\u001b[0m\u001b[0;34m\u001b[0m\u001b[0;34m\u001b[0m\u001b[0m\n\u001b[0;32m--> 705\u001b[0;31m             \u001b[0mhandler\u001b[0m\u001b[0;34m,\u001b[0m \u001b[0mentity\u001b[0m\u001b[0;34m,\u001b[0m \u001b[0mnode\u001b[0m \u001b[0;34m=\u001b[0m \u001b[0mself\u001b[0m\u001b[0;34m.\u001b[0m\u001b[0mwait_for_ready_callbacks\u001b[0m\u001b[0;34m(\u001b[0m\u001b[0mtimeout_sec\u001b[0m\u001b[0;34m=\u001b[0m\u001b[0mtimeout_sec\u001b[0m\u001b[0;34m)\u001b[0m\u001b[0;34m\u001b[0m\u001b[0;34m\u001b[0m\u001b[0m\n\u001b[0m\u001b[1;32m    706\u001b[0m         \u001b[0;32mexcept\u001b[0m \u001b[0mShutdownException\u001b[0m\u001b[0;34m:\u001b[0m\u001b[0;34m\u001b[0m\u001b[0;34m\u001b[0m\u001b[0m\n\u001b[1;32m    707\u001b[0m             \u001b[0;32mpass\u001b[0m\u001b[0;34m\u001b[0m\u001b[0;34m\u001b[0m\u001b[0m\n",
      "\u001b[0;32m/opt/ros/humble/local/lib/python3.10/dist-packages/rclpy/executors.py\u001b[0m in \u001b[0;36mwait_for_ready_callbacks\u001b[0;34m(self, *args, **kwargs)\u001b[0m\n\u001b[1;32m    689\u001b[0m \u001b[0;34m\u001b[0m\u001b[0m\n\u001b[1;32m    690\u001b[0m             \u001b[0;32mtry\u001b[0m\u001b[0;34m:\u001b[0m\u001b[0;34m\u001b[0m\u001b[0;34m\u001b[0m\u001b[0m\n\u001b[0;32m--> 691\u001b[0;31m                 \u001b[0;32mreturn\u001b[0m \u001b[0mnext\u001b[0m\u001b[0;34m(\u001b[0m\u001b[0mself\u001b[0m\u001b[0;34m.\u001b[0m\u001b[0m_cb_iter\u001b[0m\u001b[0;34m)\u001b[0m\u001b[0;34m\u001b[0m\u001b[0;34m\u001b[0m\u001b[0m\n\u001b[0m\u001b[1;32m    692\u001b[0m             \u001b[0;32mexcept\u001b[0m \u001b[0mStopIteration\u001b[0m\u001b[0;34m:\u001b[0m\u001b[0;34m\u001b[0m\u001b[0;34m\u001b[0m\u001b[0m\n\u001b[1;32m    693\u001b[0m                 \u001b[0;31m# Generator ran out of work\u001b[0m\u001b[0;34m\u001b[0m\u001b[0;34m\u001b[0m\u001b[0m\n",
      "\u001b[0;32m/opt/ros/humble/local/lib/python3.10/dist-packages/rclpy/executors.py\u001b[0m in \u001b[0;36m_wait_for_ready_callbacks\u001b[0;34m(self, timeout_sec, nodes, condition)\u001b[0m\n\u001b[1;32m    586\u001b[0m \u001b[0;34m\u001b[0m\u001b[0m\n\u001b[1;32m    587\u001b[0m                 \u001b[0;31m# Wait for something to become ready\u001b[0m\u001b[0;34m\u001b[0m\u001b[0;34m\u001b[0m\u001b[0m\n\u001b[0;32m--> 588\u001b[0;31m                 \u001b[0mwait_set\u001b[0m\u001b[0;34m.\u001b[0m\u001b[0mwait\u001b[0m\u001b[0;34m(\u001b[0m\u001b[0mtimeout_nsec\u001b[0m\u001b[0;34m)\u001b[0m\u001b[0;34m\u001b[0m\u001b[0;34m\u001b[0m\u001b[0m\n\u001b[0m\u001b[1;32m    589\u001b[0m                 \u001b[0;32mif\u001b[0m \u001b[0mself\u001b[0m\u001b[0;34m.\u001b[0m\u001b[0m_is_shutdown\u001b[0m\u001b[0;34m:\u001b[0m\u001b[0;34m\u001b[0m\u001b[0;34m\u001b[0m\u001b[0m\n\u001b[1;32m    590\u001b[0m                     \u001b[0;32mraise\u001b[0m \u001b[0mShutdownException\u001b[0m\u001b[0;34m(\u001b[0m\u001b[0;34m)\u001b[0m\u001b[0;34m\u001b[0m\u001b[0;34m\u001b[0m\u001b[0m\n",
      "\u001b[0;31mKeyboardInterrupt\u001b[0m: "
     ]
    }
   ],
   "source": [
    "msg = Twist()\n",
    "shortest_distance = 10000\n",
    "flag = 0\n",
    "count = 0\n",
    "avg_distance_from_wall = 0\n",
    "\n",
    "\n",
    "'''\n",
    "LOGIC:\n",
    "2 types of movement => distance setting and straightening\n",
    "flag  == 1 takes care of distance and flag == 0 of straightening\n",
    "IDEALLY WOULD COMBINE BOTH INTO ONE LINEAR EQ (couldn't find a sutitable equation to do so)\n",
    "\n",
    "Implementation:\n",
    "WHile straightening if average distance over last 100 cycles is not within desired then switch to straightening and run x times and then switch back\n",
    "repeat\n",
    "\n",
    "We use average distance because sometimes the lidar returns faulty values for distance sensing\n",
    "'''\n",
    "scan()\n",
    "if (abs(closest_wall_angle) < 0.3):\n",
    "    msg.linear.x = 0.0\n",
    "    msg.angular.z = -1\n",
    "    robot.cmd_vel_publisher.publish(msg)\n",
    "\n",
    "\n",
    "while(True):\n",
    "    scan()\n",
    "    velocity_x =  0.1\n",
    "\n",
    "    if (flag == 1):\n",
    "        count += 1\n",
    "        velocity_phi = (shortest_distance-0.5)*closest_wall_x_coord*0.7   #DISTANCE SETTING VEL_PHI\n",
    "\n",
    "        if (count == 50):\n",
    "            count = 0\n",
    "            flag = 0\n",
    "            print(\"SWITCHING TO WALL FOLLOWING\")\n",
    "    \n",
    "    else:\n",
    "        count += 1\n",
    "        velocity_phi = -closest_wall_angle*0.2                             #WALL FOLLOWING  VEL_PHI\n",
    "        avg_distance_from_wall += shortest_distance\n",
    "        if (count  == 100):\n",
    "            count = 0\n",
    "            distance_check = avg_distance_from_wall/100 \n",
    "            if (abs(avg_distance_from_wall - 0.5) > 0.07):\n",
    "                print(\"SWITCHING TO DISTANCE CORRECTION\")\n",
    "                flag = 1\n",
    "            avg_distance_from_wall = 0\n",
    "        \n",
    "        \n",
    "    \n",
    "\n",
    "\n",
    "\n",
    "    msg.linear.x = velocity_x\n",
    "    msg.angular.z = velocity_phi\n",
    "    robot.cmd_vel_publisher.publish(msg)\n"
   ]
  },
  {
   "attachments": {},
   "cell_type": "markdown",
   "metadata": {},
   "source": [
    "# COLLISSION AVOIDANCE"
   ]
  },
  {
   "attachments": {},
   "cell_type": "markdown",
   "metadata": {},
   "source": [
    "## STATIC PATH CREATING AVOIDANCE"
   ]
  },
  {
   "cell_type": "markdown",
   "metadata": {},
   "source": [
    "### CLASS FOR ARTIFICIAL POTENTIAL FIELD"
   ]
  },
  {
   "cell_type": "code",
   "execution_count": 3,
   "metadata": {},
   "outputs": [
    {
     "name": "stdout",
     "output_type": "stream",
     "text": [
      "obstacles: [(-1.4741369499014476, -0.39445699739007517), (-1.4706435197199117, -0.407288236707821), (-1.4285838484640663, -0.4090770282160527), (-1.3386614392990848, -0.3959818533099788), (-1.3045544199245678, -0.3982884180991932), (-1.2647882349101442, -0.3982294000637457), (-1.194687067465994, -0.38763244992804785), (-1.1628098838747232, -0.3885216270741884), (-1.1064230033254547, -0.38043138315651237), (-1.078553277898152, -0.3813908086563408), (-1.0281961528817163, -0.3736959078623824), (-1.004290185566311, -0.374947036828086), (-0.9486943791963881, -0.36364136284068654), (-0.868022685281762, -0.3501893747648233), (-0.8649380356399833, -0.3577403735464946), (-0.8433734509565559, -0.3574594213974671), (-0.8255499102078592, -0.35842335699623723), (-0.7968094951078833, -0.3542295751562032), (-0.7791292037488593, -0.35453306542289714), (-0.7596921019979582, -0.3537116189252833), (-0.7511638406593818, -0.35773860995187584), (-0.7372291007244174, -0.35901704878023927), (-0.5749545482938866, -0.31167811410808755), (-0.5722166292539743, -0.31667666258033733), (-0.5676938849922142, -0.3206675318771072), (-0.5648779042761259, -0.3256024666956943), (-0.5585710490796735, -0.32848498535238535), (-0.552257114960034, -0.331282464057273), (-0.5374068444513721, -0.328776333589677), (-0.527733763924637, -0.32921277058124165), (-0.5130316069555514, -0.3262859888064636), (-0.5051341950561303, -0.3274804462690063), (-0.4844193613251037, -0.3261807357100574), (-0.4700142888092663, -0.3224694716732178), (-0.46226857799467774, -0.32311572792417514), (-0.45128925840459233, -0.3213316471166939), (-0.4436147800396148, -0.3217295492959615), (-0.4327505724475932, -0.3196418757082435), (-0.42515370124509433, -0.3197942086694179), (-0.41441182732335136, -0.3174064473303571), (-0.4084758254559568, -0.3185459259418034), (-0.39785264174665, -0.31587543735953066), (-0.38964076500452444, -0.31493024838261674), (-0.3431502428407444, -0.3138039422382665), (-0.34040260034982556, -0.3167823748269719), (-0.32891610177771075, -0.3114854831282343), (-0.32258888491835586, -0.3108704291457595), (-0.3162976184564887, -0.3101689968880307), (-0.31145909345730055, -0.3107945157248967), (-0.30452879547036743, -0.3092219269482363), (-0.29973622406780964, -0.3097082353589718), (-0.2928910021574088, -0.3079608270348982), (-0.2888305554550936, -0.3090403159648787), (-0.2820679477917479, -0.3071264710984908), (-0.27804085613334656, -0.3080880968076761), (-0.2713646089610559, -0.30601022304727465), (-0.26737373135099746, -0.3068554905049681), (-0.2614378069222772, -0.30537563943868995), (-0.2568356063905464, -0.3053464631171143), (-0.2528909498337732, -0.30603133700495777), (-0.24769341057756822, -0.3051179765329607), (-0.24190772118014248, -0.3033556713068767), (-0.2380216978567445, -0.30387773372727744), (-0.23292553239357675, -0.30277003783847806), (-0.2290725814747947, -0.30319259356473593), (-0.2240383505421762, -0.3019649115454302), (-0.22022076494799459, -0.3022893056592038), (-0.21641461161154596, -0.30257019424294), (-0.21204571574940978, -0.30198941282555286), (-0.20827103062398958, -0.30217906575038894), (-0.20338861211836418, -0.3006693806187771), (0.20311802746229507, -0.26639833428672577), (0.20604503756741108, -0.2654080621415178), (0.2089701855579671, -0.26438696999656264), (0.21314692685614828, -0.26489316715168265), (0.21671455726689542, -0.2645728744356069), (0.21965229939769587, -0.26344233481179863), (0.22388085841162508, -0.26380551833257837), (0.22747861495425006, -0.2633580694967296), (0.23108547572090313, -0.26286783511589773), (0.2353677227653497, -0.26307988262920384), (0.23899783807417607, -0.26249766813896924), (0.24195593542865793, -0.2611385259291472), (0.24696649092998849, -0.2619304538563829), (0.2506243267830252, -0.26121148240273256), (0.25428830267049674, -0.2604485625691327), (0.25866272360286513, -0.2603509273909054), (0.2623436019901737, -0.2594934016911085), (0.2667461632366446, -0.2592884319859181), (0.27188798720224383, -0.2597169858392227), (0.2755991402083122, -0.25870660456856265), (0.2793132205135877, -0.25765116188825066), (0.28525246367255197, -0.2585653198428731), (0.2889883565665311, -0.257399933031553), (0.2927254874476086, -0.2561889690943426), (0.2987379929126785, -0.25688831562720915), (0.30249302237773146, -0.2555659791782498), (0.3070170322658865, -0.2548362869506196), (0.31310115306598, -0.2553109463275017), (0.31765558038869174, -0.2544482983191739), (0.32221857256693387, -0.2535255185585448), (0.33153698212254024, -0.25621129812185034), (0.3409261307613731, -0.2587535043573344), (0.3495824120968423, -0.26055350315225007), (0.3663894482318809, -0.24901357853762005), (0.3685455396560321, -0.24581125944801166), (0.37820426167925425, -0.24751874542173), (0.3862372051659907, -0.24799559162676119), (0.39261442680164194, -0.24728505712452906), (0.39900830043580954, -0.24648202194383598), (0.40456231964024963, -0.2450679906769826), (0.41442072751396253, -0.24612893810237713), (0.43080723379500424, -0.24580707733609863), (0.437297175695597, -0.24448347025576564), (0.4437964337305028, -0.2430652331235325), (0.4503038498699362, -0.2415521059480094), (0.46213013997343294, -0.2427339060792564), (0.46778518126149093, -0.24052660615932642), (0.4752231070053859, -0.2391380441273401), (0.4880549457037286, -0.24028816479314732), (0.4955362142172607, -0.23862915478257696), (0.5030252216108817, -0.23685780557205274), (0.5087038004949391, -0.23413766470239938), (0.5125488472840493, -0.2305160577606462), (0.6418420692070682, -0.2364207670024202), (0.6438779626119451, -0.2308185220832902), (0.6534188934968, -0.22783263744425047), (0.6648503568576302, -0.22533981845722095), (0.67628721958952, -0.22266480250433734), (0.6991576214449424, -0.2234606459206573), (0.7125401369124542, -0.22091297199187607), (0.7278458909877802, -0.21872435730013007), (0.7412462913693798, -0.21572658240113682), (0.77004981321657, -0.21684857444450076), (0.7854187068344941, -0.21380709069820564), (0.8027262998325044, -0.2110224155225638), (0.8355529659727983, -0.21188492472199558), (0.8548533317593465, -0.20886783569427508), (0.8741632391346178, -0.20553013105447832), (0.8934785630890663, -0.2018714269639953), (0.934295657286938, -0.20255263081131603), (1.9856096693062106, 1.7999318317581612), (1.969848949722181, 1.817166880915737), (1.4121660452172893, 1.920740315827527), (1.3953743266053589, 1.9329735613195822), (1.352336839809178, 1.9438645056243444), (1.335345879565602, 1.9555754975092166), (1.3071196231047477, 1.9505236537335668), (1.2966654790442877, 1.9718666639271412), (1.2875954031049812, 2.8463089310110505), (1.2627426405381879, 2.857421473394674), (1.2362090250466147, 2.8646442243814474), (1.2111984326181011, 2.875308269162133), (-0.37381552435290827, 2.467848903566189), (-0.39530714971617054, 2.4644976190825094), (-0.39138861487682847, 2.311093123621867), (-0.4115135405884567, 2.307594652407531), (-0.2273835484148754, 1.0598833441950897), (-0.2366111605658105, 1.0578615883411246), (-0.24309954841539314, 1.0440721559409623), (-0.2521887788125099, 1.0419140449634183), (-0.9404755043799843, 2.0550196550289086), (-0.9583480543317, 2.0467459450680647), (-0.9744201522050995, 2.0347092068174377), (-0.9921144198956761, 2.0261404608679334), (-1.0061526690050955, 2.0102637604198605), (-1.025454200104679, 2.0049808239561533), (-0.8953841345304486, 1.143062253479212), (-0.9053112361562552, 1.1352161157185219), (-0.9101273196485911, 1.121072824822072), (-0.9173141747856118, 1.1100157068854104), (-0.9269524629174921, 1.1019797168215577), (-1.3645624942953545, 1.4347018068900057), (-1.3770132440825658, 1.4227559879164855), (-1.3795356262665017, 1.4007274189212362), (-1.3789479175761783, 1.3759383933401947), (-1.3566137023780305, 1.3302628206189606), (-1.3537530168708056, 1.3045124573510654), (-1.3476431987030681, 1.2761636300832186), (-1.3484641575100915, 1.2548340304666943), (-1.350492417297508, 1.2349374024184772), (-1.340375729460024, 1.2044073517097684), (-1.343324297958119, 1.1860624050856334), (-1.3369910865998358, 1.1598942912319419), (-1.3363935296037017, 1.1391174133524369), (-1.330936066602732, 1.1145873607014665), (-1.3313317053850708, 1.095322697344496), (-1.3314933621858696, 1.0761363616684085), (-1.3267232664810138, 1.0533002390411956), (-1.3279659914907012, 1.0355493116388619), (-1.3194737391410616, 1.0105606637784181), (-1.3218367421572508, 0.9942151538785863), (-1.3240154559457207, 0.9779054982268104), (-1.3179154877614647, 0.9557629598556641), (-1.3180481956335235, 0.9384418217141096), (-1.3114225947526288, 0.9166083428958239), (-1.314412852891444, 0.90175096029215), (-1.307290175755063, 0.8802092468378068), (-1.3115737362020088, 0.8665785702744799), (-1.3207538372281171, 0.8562040086622879), (-1.331540206953814, 0.8468084303702942), (-1.342262968806595, 0.8372897807116515), (-1.9749839937550215, 1.048396154781525), (-1.9840451436550552, 1.0311455478680078), (-2.003651130169744, 1.0192574396946947), (-2.0160383174604055, 1.0035406934826503), (-2.0318994921070597, 0.9894364107253151), (-2.0548903375440224, 0.978571308007355), (-2.0633399717511307, 0.9606270166724724), (-2.067992127188953, 0.9409531868787148), (-2.0578378161048176, 0.9147720719136422), (-2.0583929427867007, 0.8936186573488343), (-2.0513705365797446, 0.8694035830302645), (-2.0477800548442535, 0.8469080245360634), (-2.043953909151444, 0.824541327314371), (-2.0473392928739003, 0.8052341458625256), (-2.050543680657338, 0.7859306898984018), (-2.042325160359108, 0.7624357221599403), (-2.0413727840232654, 0.7418765789336522), (-2.0364468318387385, 0.720058797517637), (-2.0350789079137406, 0.699683946596374), (-2.0373051432137745, 0.6806553912433753), (-2.062183098368349, 0.669047677203608), (-2.102273562747175, 0.6618624105953701), (-2.1385671433812194, 0.6528605105223573), (-2.2132184596643363, 0.6546208481249357), (-2.249602680076654, 0.6441175204140323), (-2.332228989975915, 0.6458392273458026), (-2.3725452670673586, 0.6347955545326536), (-2.420589325890129, 0.6250978446505546), (-2.5152195401474753, 0.6262065988243055), (-2.5711483053087267, 0.6163867897008616), (-2.6699684117408666, 0.615523137312731), (-2.7260017949720443, 0.6034720562524872), (-2.7820240499450084, 0.5904902713208164), (-2.9125014513817846, 0.5917082086002474), (-2.988228092274986, 0.5800244156735939)]\n"
     ]
    },
    {
     "data": {
      "image/png": "[encoded data removed]",
      "text/plain": [
       "<Figure size 504x504 with 1 Axes>"
      ]
     },
     "metadata": {
      "needs_background": "light"
     },
     "output_type": "display_data"
    },
    {
     "name": "stdout",
     "output_type": "stream",
     "text": [
      "path plan failed\n"
     ]
    },
    {
     "ename": "NameError",
     "evalue": "name 'x_co' is not defined",
     "output_type": "error",
     "traceback": [
      "\u001b[0;31m---------------------------------------------------------------------------\u001b[0m",
      "\u001b[0;31mNameError\u001b[0m                                 Traceback (most recent call last)",
      "\u001b[0;32m/tmp/ipykernel_505/3273592961.py\u001b[0m in \u001b[0;36m<module>\u001b[0;34m\u001b[0m\n\u001b[1;32m    250\u001b[0m     \u001b[0msubplot\u001b[0m\u001b[0;34m.\u001b[0m\u001b[0mplot\u001b[0m\u001b[0;34m(\u001b[0m\u001b[0mstart\u001b[0m\u001b[0;34m[\u001b[0m\u001b[0;36m0\u001b[0m\u001b[0;34m]\u001b[0m\u001b[0;34m,\u001b[0m \u001b[0mstart\u001b[0m\u001b[0;34m[\u001b[0m\u001b[0;36m1\u001b[0m\u001b[0;34m]\u001b[0m\u001b[0;34m,\u001b[0m \u001b[0;34m'*r'\u001b[0m\u001b[0;34m)\u001b[0m\u001b[0;34m\u001b[0m\u001b[0;34m\u001b[0m\u001b[0m\n\u001b[1;32m    251\u001b[0m     \u001b[0msubplot\u001b[0m\u001b[0;34m.\u001b[0m\u001b[0mplot\u001b[0m\u001b[0;34m(\u001b[0m\u001b[0mgoal\u001b[0m\u001b[0;34m[\u001b[0m\u001b[0;36m0\u001b[0m\u001b[0;34m]\u001b[0m\u001b[0;34m,\u001b[0m \u001b[0mgoal\u001b[0m\u001b[0;34m[\u001b[0m\u001b[0;36m1\u001b[0m\u001b[0;34m]\u001b[0m\u001b[0;34m,\u001b[0m \u001b[0;34m'*r'\u001b[0m\u001b[0;34m)\u001b[0m\u001b[0;34m\u001b[0m\u001b[0;34m\u001b[0m\u001b[0m\n\u001b[0;32m--> 252\u001b[0;31m     \u001b[0msubplot\u001b[0m\u001b[0;34m.\u001b[0m\u001b[0mplot\u001b[0m\u001b[0;34m(\u001b[0m\u001b[0mx_co\u001b[0m \u001b[0;34m,\u001b[0m\u001b[0my_co\u001b[0m \u001b[0;34m,\u001b[0m \u001b[0;34m'.'\u001b[0m\u001b[0;34m)\u001b[0m\u001b[0;34m\u001b[0m\u001b[0;34m\u001b[0m\u001b[0m\n\u001b[0m\u001b[1;32m    253\u001b[0m     \u001b[0;32mfor\u001b[0m \u001b[0mOB\u001b[0m \u001b[0;32min\u001b[0m \u001b[0mobs\u001b[0m\u001b[0;34m:\u001b[0m\u001b[0;34m\u001b[0m\u001b[0;34m\u001b[0m\u001b[0m\n\u001b[1;32m    254\u001b[0m         \u001b[0mcircle\u001b[0m \u001b[0;34m=\u001b[0m \u001b[0mCircle\u001b[0m\u001b[0;34m(\u001b[0m\u001b[0mxy\u001b[0m\u001b[0;34m=\u001b[0m\u001b[0;34m(\u001b[0m\u001b[0mOB\u001b[0m\u001b[0;34m[\u001b[0m\u001b[0;36m0\u001b[0m\u001b[0;34m]\u001b[0m\u001b[0;34m,\u001b[0m \u001b[0mOB\u001b[0m\u001b[0;34m[\u001b[0m\u001b[0;36m1\u001b[0m\u001b[0;34m]\u001b[0m\u001b[0;34m)\u001b[0m\u001b[0;34m,\u001b[0m \u001b[0mradius\u001b[0m\u001b[0;34m=\u001b[0m\u001b[0mrr\u001b[0m\u001b[0;34m,\u001b[0m \u001b[0malpha\u001b[0m\u001b[0;34m=\u001b[0m\u001b[0;36m0.06\u001b[0m\u001b[0;34m)\u001b[0m\u001b[0;34m\u001b[0m\u001b[0;34m\u001b[0m\u001b[0m\n",
      "\u001b[0;31mNameError\u001b[0m: name 'x_co' is not defined"
     ]
    },
    {
     "data": {
      "image/png": "[encoded data removed]",
      "text/plain": [
       "<Figure size 504x504 with 1 Axes>"
      ]
     },
     "metadata": {
      "needs_background": "light"
     },
     "output_type": "display_data"
    }
   ],
   "source": [
    "import math\n",
    "import random\n",
    "from matplotlib import pyplot as plt\n",
    "from matplotlib.patches import Circle\n",
    "import time\n",
    "import numpy as np\n",
    "\n",
    "\n",
    "class Vector2d():\n",
    "\n",
    "    def __init__(self, x, y):\n",
    "        self.deltaX = x\n",
    "        self.deltaY = y\n",
    "        self.length = -1\n",
    "        self.direction = [0, 0]\n",
    "        self.vector2d_share()\n",
    "\n",
    "    def vector2d_share(self):\n",
    "        if type(self.deltaX) == type(list()) and type(self.deltaY) == type(list()):\n",
    "            deltaX, deltaY = self.deltaX, self.deltaY\n",
    "            self.deltaX = deltaY[0] - deltaX[0]\n",
    "            self.deltaY = deltaY[1] - deltaX[1]\n",
    "            self.length = math.sqrt(self.deltaX ** 2 + self.deltaY ** 2) * 1.0\n",
    "            if self.length > 0:\n",
    "                self.direction = [self.deltaX / self.length, self.deltaY / self.length]\n",
    "            else:\n",
    "                self.direction = None\n",
    "        else:\n",
    "            self.length = math.sqrt(self.deltaX ** 2 + self.deltaY ** 2) * 1.0\n",
    "            if self.length > 0:\n",
    "                self.direction = [self.deltaX / self.length, self.deltaY / self.length]\n",
    "            else:\n",
    "                self.direction = None\n",
    "\n",
    "    def __add__(self, other):\n",
    "        \"\"\"\n",
    "        :param other:\n",
    "        :return:\n",
    "        \"\"\"\n",
    "        vec = Vector2d(self.deltaX, self.deltaY)\n",
    "        vec.deltaX += other.deltaX\n",
    "        vec.deltaY += other.deltaY\n",
    "        vec.vector2d_share()\n",
    "        return vec\n",
    "\n",
    "    def __sub__(self, other):\n",
    "        vec = Vector2d(self.deltaX, self.deltaY)\n",
    "        vec.deltaX -= other.deltaX\n",
    "        vec.deltaY -= other.deltaY\n",
    "        vec.vector2d_share()\n",
    "        return vec\n",
    "\n",
    "    def __mul__(self, other):\n",
    "        vec = Vector2d(self.deltaX, self.deltaY)\n",
    "        vec.deltaX *= other\n",
    "        vec.deltaY *= other\n",
    "        vec.vector2d_share()\n",
    "        return vec\n",
    "\n",
    "    def __truediv__(self, other):\n",
    "        return self.__mul__(1.0 / other)\n",
    "\n",
    "    def __repr__(self):\n",
    "        return 'Vector deltaX:{}, deltaY:{}, length:{}, direction:{}'.format(self.deltaX, self.deltaY, self.length,\n",
    "                                                                             self.direction)\n",
    "\n",
    "\n",
    "class APF():\n",
    "\n",
    "\n",
    "    def __init__(self, start: (), goal: (), obstacles: [], k_att: float, k_rep: float, rr: float,\n",
    "                 step_size: float, max_iters: int, goal_threshold: float, is_plot=False):\n",
    "        \"\"\"\n",
    "        :param start:\n",
    "        :param goal: \n",
    "        :param obstacles: \n",
    "        :param k_att: \n",
    "        :param k_rep: \n",
    "        :param rr: \n",
    "        :param step_size: \n",
    "        :param max_iters:\n",
    "        :param goal_threshold: \n",
    "        :param is_plot: \n",
    "        \"\"\"\n",
    "        self.start = Vector2d(start[0], start[1])\n",
    "        self.current_pos = Vector2d(start[0], start[1])\n",
    "        self.goal = Vector2d(goal[0], goal[1])\n",
    "        self.obstacles = [Vector2d(OB[0], OB[1]) for OB in obstacles]\n",
    "        self.k_att = k_att\n",
    "        self.k_rep = k_rep\n",
    "        self.rr = rr  \n",
    "        self.step_size = step_size\n",
    "        self.max_iters = max_iters\n",
    "        self.iters = 0\n",
    "        self.goal_threashold = goal_threshold\n",
    "        self.path = list()\n",
    "        self.is_path_plan_success = False\n",
    "        self.is_plot = is_plot\n",
    "        self.delta_t = 0.01\n",
    "\n",
    "    def attractive(self):\n",
    "\n",
    "        att = (self.goal - self.current_pos) * self.k_att \n",
    "        return att\n",
    "\n",
    " \n",
    "\n",
    "class APF_Improved(APF):\n",
    "    def __init__(self, start: (), goal: (), obstacles: [], k_att: float, k_rep: float, rr: float,\n",
    "                 step_size: float, max_iters: int, goal_threshold: float, is_plot=False):\n",
    "        self.start = Vector2d(start[0], start[1])\n",
    "        self.current_pos = Vector2d(start[0], start[1])\n",
    "        self.goal = Vector2d(goal[0], goal[1])\n",
    "        self.obstacles = [Vector2d(OB[0], OB[1]) for OB in obstacles]\n",
    "        self.k_att = k_att\n",
    "        self.k_rep = k_rep\n",
    "        self.rr = rr \n",
    "        self.step_size = step_size\n",
    "        self.max_iters = max_iters\n",
    "        self.iters = 0\n",
    "        self.goal_threashold = goal_threshold\n",
    "        self.path = list()\n",
    "        self.is_path_plan_success = False\n",
    "        self.is_plot = is_plot\n",
    "        self.delta_t = 0.01\n",
    "\n",
    "    def repulsion(self):\n",
    "  \n",
    "        rep = Vector2d(0, 0)  \n",
    "        for obstacle in self.obstacles:\n",
    "            # obstacle = Vector2d(0, 0)\n",
    "            obs_to_rob = self.current_pos - obstacle\n",
    "            rob_to_goal = self.goal - self.current_pos\n",
    "            if (obs_to_rob.length > self.rr): \n",
    "                pass\n",
    "            else:\n",
    "                rep_1 = Vector2d(obs_to_rob.direction[0], obs_to_rob.direction[1]) * self.k_rep * (\n",
    "                        1.0 / obs_to_rob.length - 1.0 / self.rr) / (obs_to_rob.length ** 2) * (rob_to_goal.length ** 2)\n",
    "                rep_2 = Vector2d(rob_to_goal.direction[0], rob_to_goal.direction[1]) * self.k_rep * ((1.0 / obs_to_rob.length - 1.0 / self.rr) ** 2) * rob_to_goal.length\n",
    "                rep +=(rep_1+rep_2)\n",
    "        return rep\n",
    "\n",
    "    def path_plan(self):\n",
    "        \"\"\"\n",
    "        path plan\n",
    "        :return:\n",
    "        \"\"\"\n",
    "        while (self.iters < self.max_iters and (self.current_pos - self.goal).length > self.goal_threashold):\n",
    "            f_vec = self.attractive() + self.repulsion()\n",
    "            self.current_pos += Vector2d(f_vec.direction[0], f_vec.direction[1]) * self.step_size\n",
    "            self.iters += 1\n",
    "            self.path.append([self.current_pos.deltaX, self.current_pos.deltaY])\n",
    "            if self.is_plot:\n",
    "                # plt.plot(self.current_pos.deltaX, self.current_pos.deltaY, '.b')\n",
    "                plt.pause(self.delta_t)\n",
    "        if (self.current_pos - self.goal).length <= self.goal_threashold:\n",
    "            self.is_path_plan_success = True\n",
    "\n",
    "\n",
    "if __name__ == '__main__':\n",
    "    # robot.reset_odometry()\n",
    "\n",
    "    k_att, k_rep = 1.0, 1.0\n",
    "    rr =  0.25 #3\n",
    "    step_size, max_iters, goal_threashold = .2, 500 , .2 \n",
    "    step_size_ = .2\n",
    "\n",
    "    start, goal = (0, 0), (-1, -2)\n",
    "    is_plot = True\n",
    "    if is_plot:\n",
    "        fig = plt.figure(figsize=(7, 7))\n",
    "        subplot = fig.add_subplot(111)\n",
    "        subplot.set_xlabel('X-distance: m')\n",
    "        subplot.set_ylabel('Y-distance: m')\n",
    "        subplot.plot(start[0], start[1], '*r')\n",
    "        subplot.plot(goal[0], goal[1], '*r')\n",
    "\n",
    "    ################\n",
    "    robot.odom_future = rclpy.Future()\n",
    "    robot.spin_until_future_completed(robot.odom_future)\n",
    "    pose = robot.last_odom_msg.pose.pose\n",
    "    msg = robot.last_scan_msg\n",
    "\n",
    "\n",
    "\n",
    "    points = [(np.cos(angle) * radius, np.sin(angle) * radius) for angle, radius \\\n",
    "                in zip(np.linspace(msg.angle_min, msg.angle_max, len(msg.ranges)), msg.ranges)]\n",
    "\n",
    "    T = robot.reduce_transform_to_2D(robot.convert_odom_to_transform(pose))\n",
    "\n",
    "    # Remove points which cannot be measured\n",
    "    objects = filter(lambda x: np.isfinite(x).all(), points)\n",
    "\n",
    "    #filter out points outside 3x3 and the 2 rods on the robot\n",
    "    objects = [pnt for pnt in objects if abs(pnt[0]) <= 3 and abs(pnt[1]) <= 3]           \n",
    "    obs = [pnt for pnt in objects if abs(pnt[0]) >= 0.2 and abs(pnt[1]) >= 0.2] \n",
    "\n",
    "\n",
    "    ########################\n",
    "    print('obstacles: {0}'.format(obs))\n",
    "    for i in range(0):\n",
    "        obs.append([random.uniform(2, goal[1] - 1), random.uniform(2, goal[1] - 1)])\n",
    "\n",
    "    if is_plot:\n",
    "        for OB in obs:\n",
    "            circle = Circle(xy=(OB[0], OB[1]), radius=rr, alpha=0.3)\n",
    "            subplot.add_patch(circle)\n",
    "            subplot.plot(OB[0], OB[1], 'xk')\n",
    "    # t1 = time.time()\n",
    "    # for i in range(1000):\n",
    "\n",
    "    # path plan\n",
    "    if is_plot:\n",
    "        apf = APF_Improved(start, goal, obs, k_att, k_rep, rr, step_size, max_iters, goal_threashold, is_plot)\n",
    "    else:\n",
    "        apf = APF_Improved(start, goal, obs, k_att, k_rep, rr, step_size, max_iters, goal_threashold, is_plot)\n",
    "    apf.path_plan()\n",
    "    if apf.is_path_plan_success:\n",
    "        path = apf.path\n",
    "        path_ = []\n",
    "        i = int(step_size_ / step_size)\n",
    "        while (i < len(path)):\n",
    "            path_.append(path[i])\n",
    "            i += int(step_size_ / step_size)\n",
    "        # print(\"path len = \" , len(path))\n",
    "        if path_[-1] != path[-1]:  \n",
    "            path_.append(path[-1])\n",
    "        x_co = []\n",
    "        y_co = []\n",
    "        for point in path_:\n",
    "            print(point)\n",
    "            x_co.append(point[0])\n",
    "            y_co.append(point[1])\n",
    "            \n",
    "        print('planed path points:{}'.format(path_))\n",
    "        print('path plan success')\n",
    "        if is_plot:\n",
    "            px, py = [K[0] for K in path_], [K[1] for K in path_]  \n",
    "            \n",
    "            subplot.plot(px, py, '^k')\n",
    "            plt.show()\n",
    "    else:\n",
    "        print('path plan failed')\n",
    "\n",
    "    \n",
    "    fig = plt.figure(figsize=(7, 7))\n",
    "    subplot = fig.add_subplot(111)\n",
    "    subplot.set_xlabel('X-distance: m')\n",
    "    subplot.set_ylabel('Y-distance: m')\n",
    "    subplot.plot(start[0], start[1], '*r')\n",
    "    subplot.plot(goal[0], goal[1], '*r')\n",
    "    subplot.plot(x_co ,y_co , '.')\n",
    "    for OB in obs:\n",
    "        circle = Circle(xy=(OB[0], OB[1]), radius=rr, alpha=0.06)\n",
    "        subplot.add_patch(circle)\n",
    "        subplot.plot(OB[0], OB[1], 'xk')\n",
    "    plt.show()\n"
   ]
  },
  {
   "attachments": {},
   "cell_type": "markdown",
   "metadata": {},
   "source": [
    "## POINT TO POINT"
   ]
  },
  {
   "cell_type": "code",
   "execution_count": 40,
   "metadata": {},
   "outputs": [
    {
     "ename": "KeyboardInterrupt",
     "evalue": "",
     "output_type": "error",
     "traceback": [
      "\u001b[0;31m---------------------------------------------------------------------------\u001b[0m",
      "\u001b[0;31mKeyboardInterrupt\u001b[0m                         Traceback (most recent call last)",
      "\u001b[0;32m/tmp/ipykernel_842/3128133248.py\u001b[0m in \u001b[0;36m<module>\u001b[0;34m\u001b[0m\n\u001b[1;32m      7\u001b[0m \u001b[0;34m\u001b[0m\u001b[0m\n\u001b[1;32m      8\u001b[0m \u001b[0;31m#This is just testing quaternions\u001b[0m\u001b[0;34m\u001b[0m\u001b[0;34m\u001b[0m\u001b[0m\n\u001b[0;32m----> 9\u001b[0;31m \u001b[0mrobot\u001b[0m\u001b[0;34m.\u001b[0m\u001b[0mreset_odometry\u001b[0m\u001b[0;34m(\u001b[0m\u001b[0;34m)\u001b[0m \u001b[0;31m# make the robot think it is at position (0,0,0)\u001b[0m\u001b[0;34m\u001b[0m\u001b[0;34m\u001b[0m\u001b[0m\n\u001b[0m\u001b[1;32m     10\u001b[0m \u001b[0;31m# aa = eigenpy.AngleAxis(numpy.pi,numpy.matrix([[0.,0.,1.]]).T)\u001b[0m\u001b[0;34m\u001b[0m\u001b[0;34m\u001b[0m\u001b[0m\n\u001b[1;32m     11\u001b[0m \u001b[0;31m# q_ref = eigenpy.Quaternion(aa)\u001b[0m\u001b[0;34m\u001b[0m\u001b[0;34m\u001b[0m\u001b[0m\n",
      "\u001b[0;32m/opt/robohub/humble/lib/python3.10/site-packages/turtlebot4_wrapper/__init__.py\u001b[0m in \u001b[0;36mreset_odometry\u001b[0;34m(self)\u001b[0m\n\u001b[1;32m    201\u001b[0m         \u001b[0mreq\u001b[0m \u001b[0;34m=\u001b[0m \u001b[0mResetPose\u001b[0m\u001b[0;34m.\u001b[0m\u001b[0mRequest\u001b[0m\u001b[0;34m(\u001b[0m\u001b[0;34m)\u001b[0m\u001b[0;34m\u001b[0m\u001b[0;34m\u001b[0m\u001b[0m\n\u001b[1;32m    202\u001b[0m         \u001b[0mmyfuture\u001b[0m \u001b[0;34m=\u001b[0m \u001b[0mself\u001b[0m\u001b[0;34m.\u001b[0m\u001b[0m_reset_pose_client\u001b[0m\u001b[0;34m.\u001b[0m\u001b[0mcall_async\u001b[0m\u001b[0;34m(\u001b[0m\u001b[0mreq\u001b[0m\u001b[0;34m)\u001b[0m\u001b[0;34m\u001b[0m\u001b[0;34m\u001b[0m\u001b[0m\n\u001b[0;32m--> 203\u001b[0;31m         \u001b[0mrclpy\u001b[0m\u001b[0;34m.\u001b[0m\u001b[0mspin_until_future_complete\u001b[0m\u001b[0;34m(\u001b[0m\u001b[0mself\u001b[0m\u001b[0;34m,\u001b[0m \u001b[0mmyfuture\u001b[0m\u001b[0;34m)\u001b[0m\u001b[0;34m\u001b[0m\u001b[0;34m\u001b[0m\u001b[0m\n\u001b[0m\u001b[1;32m    204\u001b[0m         \u001b[0;31m# TODO: check result\u001b[0m\u001b[0;34m\u001b[0m\u001b[0;34m\u001b[0m\u001b[0m\n\u001b[1;32m    205\u001b[0m \u001b[0;34m\u001b[0m\u001b[0m\n",
      "\u001b[0;32m/opt/ros/humble/local/lib/python3.10/dist-packages/rclpy/__init__.py\u001b[0m in \u001b[0;36mspin_until_future_complete\u001b[0;34m(node, future, executor, timeout_sec)\u001b[0m\n\u001b[1;32m    246\u001b[0m     \u001b[0;32mtry\u001b[0m\u001b[0;34m:\u001b[0m\u001b[0;34m\u001b[0m\u001b[0;34m\u001b[0m\u001b[0m\n\u001b[1;32m    247\u001b[0m         \u001b[0mexecutor\u001b[0m\u001b[0;34m.\u001b[0m\u001b[0madd_node\u001b[0m\u001b[0;34m(\u001b[0m\u001b[0mnode\u001b[0m\u001b[0;34m)\u001b[0m\u001b[0;34m\u001b[0m\u001b[0;34m\u001b[0m\u001b[0m\n\u001b[0;32m--> 248\u001b[0;31m         \u001b[0mexecutor\u001b[0m\u001b[0;34m.\u001b[0m\u001b[0mspin_until_future_complete\u001b[0m\u001b[0;34m(\u001b[0m\u001b[0mfuture\u001b[0m\u001b[0;34m,\u001b[0m \u001b[0mtimeout_sec\u001b[0m\u001b[0;34m)\u001b[0m\u001b[0;34m\u001b[0m\u001b[0;34m\u001b[0m\u001b[0m\n\u001b[0m\u001b[1;32m    249\u001b[0m     \u001b[0;32mfinally\u001b[0m\u001b[0;34m:\u001b[0m\u001b[0;34m\u001b[0m\u001b[0;34m\u001b[0m\u001b[0m\n\u001b[1;32m    250\u001b[0m         \u001b[0mexecutor\u001b[0m\u001b[0;34m.\u001b[0m\u001b[0mremove_node\u001b[0m\u001b[0;34m(\u001b[0m\u001b[0mnode\u001b[0m\u001b[0;34m)\u001b[0m\u001b[0;34m\u001b[0m\u001b[0;34m\u001b[0m\u001b[0m\n",
      "\u001b[0;32m/opt/ros/humble/local/lib/python3.10/dist-packages/rclpy/executors.py\u001b[0m in \u001b[0;36mspin_until_future_complete\u001b[0;34m(self, future, timeout_sec)\u001b[0m\n\u001b[1;32m    286\u001b[0m         \u001b[0;32mif\u001b[0m \u001b[0mtimeout_sec\u001b[0m \u001b[0;32mis\u001b[0m \u001b[0;32mNone\u001b[0m \u001b[0;32mor\u001b[0m \u001b[0mtimeout_sec\u001b[0m \u001b[0;34m<\u001b[0m \u001b[0;36m0\u001b[0m\u001b[0;34m:\u001b[0m\u001b[0;34m\u001b[0m\u001b[0;34m\u001b[0m\u001b[0m\n\u001b[1;32m    287\u001b[0m             \u001b[0;32mwhile\u001b[0m \u001b[0mself\u001b[0m\u001b[0;34m.\u001b[0m\u001b[0m_context\u001b[0m\u001b[0;34m.\u001b[0m\u001b[0mok\u001b[0m\u001b[0;34m(\u001b[0m\u001b[0;34m)\u001b[0m \u001b[0;32mand\u001b[0m \u001b[0;32mnot\u001b[0m \u001b[0mfuture\u001b[0m\u001b[0;34m.\u001b[0m\u001b[0mdone\u001b[0m\u001b[0;34m(\u001b[0m\u001b[0;34m)\u001b[0m \u001b[0;32mand\u001b[0m \u001b[0;32mnot\u001b[0m \u001b[0mself\u001b[0m\u001b[0;34m.\u001b[0m\u001b[0m_is_shutdown\u001b[0m\u001b[0;34m:\u001b[0m\u001b[0;34m\u001b[0m\u001b[0;34m\u001b[0m\u001b[0m\n\u001b[0;32m--> 288\u001b[0;31m                 \u001b[0mself\u001b[0m\u001b[0;34m.\u001b[0m\u001b[0mspin_once_until_future_complete\u001b[0m\u001b[0;34m(\u001b[0m\u001b[0mfuture\u001b[0m\u001b[0;34m,\u001b[0m \u001b[0mtimeout_sec\u001b[0m\u001b[0;34m)\u001b[0m\u001b[0;34m\u001b[0m\u001b[0;34m\u001b[0m\u001b[0m\n\u001b[0m\u001b[1;32m    289\u001b[0m         \u001b[0;32melse\u001b[0m\u001b[0;34m:\u001b[0m\u001b[0;34m\u001b[0m\u001b[0;34m\u001b[0m\u001b[0m\n\u001b[1;32m    290\u001b[0m             \u001b[0mstart\u001b[0m \u001b[0;34m=\u001b[0m \u001b[0mtime\u001b[0m\u001b[0;34m.\u001b[0m\u001b[0mmonotonic\u001b[0m\u001b[0;34m(\u001b[0m\u001b[0;34m)\u001b[0m\u001b[0;34m\u001b[0m\u001b[0;34m\u001b[0m\u001b[0m\n",
      "\u001b[0;32m/opt/ros/humble/local/lib/python3.10/dist-packages/rclpy/executors.py\u001b[0m in \u001b[0;36mspin_once_until_future_complete\u001b[0;34m(self, future, timeout_sec)\u001b[0m\n\u001b[1;32m    714\u001b[0m \u001b[0;34m\u001b[0m\u001b[0m\n\u001b[1;32m    715\u001b[0m     \u001b[0;32mdef\u001b[0m \u001b[0mspin_once_until_future_complete\u001b[0m\u001b[0;34m(\u001b[0m\u001b[0mself\u001b[0m\u001b[0;34m,\u001b[0m \u001b[0mfuture\u001b[0m\u001b[0;34m:\u001b[0m \u001b[0mFuture\u001b[0m\u001b[0;34m,\u001b[0m \u001b[0mtimeout_sec\u001b[0m\u001b[0;34m:\u001b[0m \u001b[0mfloat\u001b[0m \u001b[0;34m=\u001b[0m \u001b[0;32mNone\u001b[0m\u001b[0;34m)\u001b[0m \u001b[0;34m->\u001b[0m \u001b[0;32mNone\u001b[0m\u001b[0;34m:\u001b[0m\u001b[0;34m\u001b[0m\u001b[0;34m\u001b[0m\u001b[0m\n\u001b[0;32m--> 716\u001b[0;31m         \u001b[0mself\u001b[0m\u001b[0;34m.\u001b[0m\u001b[0mspin_once\u001b[0m\u001b[0;34m(\u001b[0m\u001b[0mtimeout_sec\u001b[0m\u001b[0;34m)\u001b[0m\u001b[0;34m\u001b[0m\u001b[0;34m\u001b[0m\u001b[0m\n\u001b[0m\u001b[1;32m    717\u001b[0m \u001b[0;34m\u001b[0m\u001b[0m\n\u001b[1;32m    718\u001b[0m \u001b[0;34m\u001b[0m\u001b[0m\n",
      "\u001b[0;32m/opt/ros/humble/local/lib/python3.10/dist-packages/rclpy/executors.py\u001b[0m in \u001b[0;36mspin_once\u001b[0;34m(self, timeout_sec)\u001b[0m\n\u001b[1;32m    703\u001b[0m     \u001b[0;32mdef\u001b[0m \u001b[0mspin_once\u001b[0m\u001b[0;34m(\u001b[0m\u001b[0mself\u001b[0m\u001b[0;34m,\u001b[0m \u001b[0mtimeout_sec\u001b[0m\u001b[0;34m:\u001b[0m \u001b[0mfloat\u001b[0m \u001b[0;34m=\u001b[0m \u001b[0;32mNone\u001b[0m\u001b[0;34m)\u001b[0m \u001b[0;34m->\u001b[0m \u001b[0;32mNone\u001b[0m\u001b[0;34m:\u001b[0m\u001b[0;34m\u001b[0m\u001b[0;34m\u001b[0m\u001b[0m\n\u001b[1;32m    704\u001b[0m         \u001b[0;32mtry\u001b[0m\u001b[0;34m:\u001b[0m\u001b[0;34m\u001b[0m\u001b[0;34m\u001b[0m\u001b[0m\n\u001b[0;32m--> 705\u001b[0;31m             \u001b[0mhandler\u001b[0m\u001b[0;34m,\u001b[0m \u001b[0mentity\u001b[0m\u001b[0;34m,\u001b[0m \u001b[0mnode\u001b[0m \u001b[0;34m=\u001b[0m \u001b[0mself\u001b[0m\u001b[0;34m.\u001b[0m\u001b[0mwait_for_ready_callbacks\u001b[0m\u001b[0;34m(\u001b[0m\u001b[0mtimeout_sec\u001b[0m\u001b[0;34m=\u001b[0m\u001b[0mtimeout_sec\u001b[0m\u001b[0;34m)\u001b[0m\u001b[0;34m\u001b[0m\u001b[0;34m\u001b[0m\u001b[0m\n\u001b[0m\u001b[1;32m    706\u001b[0m         \u001b[0;32mexcept\u001b[0m \u001b[0mShutdownException\u001b[0m\u001b[0;34m:\u001b[0m\u001b[0;34m\u001b[0m\u001b[0;34m\u001b[0m\u001b[0m\n\u001b[1;32m    707\u001b[0m             \u001b[0;32mpass\u001b[0m\u001b[0;34m\u001b[0m\u001b[0;34m\u001b[0m\u001b[0m\n",
      "\u001b[0;32m/opt/ros/humble/local/lib/python3.10/dist-packages/rclpy/executors.py\u001b[0m in \u001b[0;36mwait_for_ready_callbacks\u001b[0;34m(self, *args, **kwargs)\u001b[0m\n\u001b[1;32m    689\u001b[0m \u001b[0;34m\u001b[0m\u001b[0m\n\u001b[1;32m    690\u001b[0m             \u001b[0;32mtry\u001b[0m\u001b[0;34m:\u001b[0m\u001b[0;34m\u001b[0m\u001b[0;34m\u001b[0m\u001b[0m\n\u001b[0;32m--> 691\u001b[0;31m                 \u001b[0;32mreturn\u001b[0m \u001b[0mnext\u001b[0m\u001b[0;34m(\u001b[0m\u001b[0mself\u001b[0m\u001b[0;34m.\u001b[0m\u001b[0m_cb_iter\u001b[0m\u001b[0;34m)\u001b[0m\u001b[0;34m\u001b[0m\u001b[0;34m\u001b[0m\u001b[0m\n\u001b[0m\u001b[1;32m    692\u001b[0m             \u001b[0;32mexcept\u001b[0m \u001b[0mStopIteration\u001b[0m\u001b[0;34m:\u001b[0m\u001b[0;34m\u001b[0m\u001b[0;34m\u001b[0m\u001b[0m\n\u001b[1;32m    693\u001b[0m                 \u001b[0;31m# Generator ran out of work\u001b[0m\u001b[0;34m\u001b[0m\u001b[0;34m\u001b[0m\u001b[0m\n",
      "\u001b[0;32m/opt/ros/humble/local/lib/python3.10/dist-packages/rclpy/executors.py\u001b[0m in \u001b[0;36m_wait_for_ready_callbacks\u001b[0;34m(self, timeout_sec, nodes, condition)\u001b[0m\n\u001b[1;32m    586\u001b[0m \u001b[0;34m\u001b[0m\u001b[0m\n\u001b[1;32m    587\u001b[0m                 \u001b[0;31m# Wait for something to become ready\u001b[0m\u001b[0;34m\u001b[0m\u001b[0;34m\u001b[0m\u001b[0m\n\u001b[0;32m--> 588\u001b[0;31m                 \u001b[0mwait_set\u001b[0m\u001b[0;34m.\u001b[0m\u001b[0mwait\u001b[0m\u001b[0;34m(\u001b[0m\u001b[0mtimeout_nsec\u001b[0m\u001b[0;34m)\u001b[0m\u001b[0;34m\u001b[0m\u001b[0;34m\u001b[0m\u001b[0m\n\u001b[0m\u001b[1;32m    589\u001b[0m                 \u001b[0;32mif\u001b[0m \u001b[0mself\u001b[0m\u001b[0;34m.\u001b[0m\u001b[0m_is_shutdown\u001b[0m\u001b[0;34m:\u001b[0m\u001b[0;34m\u001b[0m\u001b[0;34m\u001b[0m\u001b[0m\n\u001b[1;32m    590\u001b[0m                     \u001b[0;32mraise\u001b[0m \u001b[0mShutdownException\u001b[0m\u001b[0;34m(\u001b[0m\u001b[0;34m)\u001b[0m\u001b[0;34m\u001b[0m\u001b[0;34m\u001b[0m\u001b[0m\n",
      "\u001b[0;31mKeyboardInterrupt\u001b[0m: "
     ]
    }
   ],
   "source": [
    "import numpy as np\n",
    "from tf_transformations import euler_from_quaternion\n",
    "from geometry_msgs.msg import Twist\n",
    "import time\n",
    "import eigenpy\n",
    "import numpy\n",
    "\n",
    "#This is just testing quaternions\n",
    "robot.reset_odometry() # make the robot think it is at position (0,0,0) \n",
    "\n",
    "(desiredx,desiredy) = (-1,0)\n",
    "desired_yaw = 0.\n",
    "pause_flag = 0\n",
    "start_time = time.time()\n",
    "msg = Twist()\n",
    "\n",
    "if (desiredx < 0):\n",
    "    robot.set_cmd_vel(0 , 2.7 , 1.5)\n",
    "\n",
    "\n",
    "while True:\n",
    "\n",
    "    # Localization\n",
    "\n",
    "    robot.odom_future = rclpy.Future()\n",
    "    pose = robot.spin_until_future_completed(robot.odom_future).pose.pose\n",
    "    (currentx, currenty) = (pose.position.x, pose.position.y)\n",
    "    # orientation_list = [pose.orientation.x,pose.orientation.y,pose.orientation.z,pose.orientation.w] # covert to euler and get and set yaw\n",
    "    (roll,pitch,yaw) = euler_from_quaternion([pose.orientation.x,pose.orientation.y,pose.orientation.z,pose.orientation.w])\n",
    "\n",
    "    # Navigation\n",
    "    distance = np.sqrt((np.square(desiredx-currentx))+(np.square(desiredy-currenty)))\n",
    "    angle_goal = np.arctan2((desiredy-currenty),(desiredx-currentx))\n",
    "\n",
    "    \n",
    "    print(\"\\rdistance\",distance,\"angle\",yaw,\"angle_goal\",angle_goal,end=\"\")\n",
    "\n",
    "    if distance>0.01:\n",
    "        msg.linear.x = min(0.1, 1. * distance)\n",
    "        msg.angular.z = 0.25 * ( angle_goal-yaw)\n",
    "        # msg.angular.z = max(-0.4,min(0.4, 0.25 * ( angle_goal-yaw)))\n",
    "    else:\n",
    "    #velocity_x = 0.01*(time.time() - start_time)\n",
    "        msg.angular.z = 0.25 * (desired_yaw-yaw)\n",
    "    robot.cmd_vel_publisher.publish(msg)\n",
    "    \n",
    "    if(distance<0.03 and abs(desired_yaw-yaw)<0.05):\n",
    "        break"
   ]
  },
  {
   "cell_type": "code",
   "execution_count": 22,
   "metadata": {},
   "outputs": [
    {
     "name": "stdout",
     "output_type": "stream",
     "text": [
      "distance 0.04954794792876761 angle -0.011772276104439995 angle_goal -0.06722462603852661Reached point0866862329444angle_goal -0.0013955415194909654\n",
      "distance 0.11102064461899593 angle 1.196488199146662 angle_goal -0.5219739651110786774 angle 2.7551036024721705 angle_goal 0.4330644959941812angle_goal -0.7206360740957343"
     ]
    },
    {
     "ename": "KeyboardInterrupt",
     "evalue": "",
     "output_type": "error",
     "traceback": [
      "\u001b[0;31m---------------------------------------------------------------------------\u001b[0m",
      "\u001b[0;31mKeyboardInterrupt\u001b[0m                         Traceback (most recent call last)",
      "\u001b[0;32m/tmp/ipykernel_2990/1762254708.py\u001b[0m in \u001b[0;36m<module>\u001b[0;34m\u001b[0m\n\u001b[1;32m     77\u001b[0m \u001b[0;32mfor\u001b[0m \u001b[0mp\u001b[0m \u001b[0;32min\u001b[0m \u001b[0mpoints\u001b[0m\u001b[0;34m:\u001b[0m\u001b[0;34m\u001b[0m\u001b[0;34m\u001b[0m\u001b[0m\n\u001b[1;32m     78\u001b[0m \u001b[0;34m\u001b[0m\u001b[0m\n\u001b[0;32m---> 79\u001b[0;31m     \u001b[0mgoTo\u001b[0m\u001b[0;34m(\u001b[0m\u001b[0mp\u001b[0m\u001b[0;34m[\u001b[0m\u001b[0;36m0\u001b[0m\u001b[0;34m]\u001b[0m\u001b[0;34m,\u001b[0m\u001b[0mp\u001b[0m\u001b[0;34m[\u001b[0m\u001b[0;36m1\u001b[0m\u001b[0;34m]\u001b[0m\u001b[0;34m,\u001b[0m\u001b[0;36m0\u001b[0m\u001b[0;34m)\u001b[0m\u001b[0;34m\u001b[0m\u001b[0;34m\u001b[0m\u001b[0m\n\u001b[0m",
      "\u001b[0;32m/tmp/ipykernel_2990/1762254708.py\u001b[0m in \u001b[0;36mgoTo\u001b[0;34m(desiredx, desiredy, desired_yaw)\u001b[0m\n\u001b[1;32m     31\u001b[0m         \u001b[0mrobot\u001b[0m\u001b[0;34m.\u001b[0m\u001b[0modom_future\u001b[0m \u001b[0;34m=\u001b[0m \u001b[0mrclpy\u001b[0m\u001b[0;34m.\u001b[0m\u001b[0mFuture\u001b[0m\u001b[0;34m(\u001b[0m\u001b[0;34m)\u001b[0m\u001b[0;34m\u001b[0m\u001b[0;34m\u001b[0m\u001b[0m\n\u001b[1;32m     32\u001b[0m \u001b[0;34m\u001b[0m\u001b[0m\n\u001b[0;32m---> 33\u001b[0;31m         \u001b[0mpose\u001b[0m \u001b[0;34m=\u001b[0m \u001b[0mrobot\u001b[0m\u001b[0;34m.\u001b[0m\u001b[0mspin_until_future_completed\u001b[0m\u001b[0;34m(\u001b[0m\u001b[0mrobot\u001b[0m\u001b[0;34m.\u001b[0m\u001b[0modom_future\u001b[0m\u001b[0;34m)\u001b[0m\u001b[0;34m.\u001b[0m\u001b[0mpose\u001b[0m\u001b[0;34m.\u001b[0m\u001b[0mpose\u001b[0m\u001b[0;34m\u001b[0m\u001b[0;34m\u001b[0m\u001b[0m\n\u001b[0m\u001b[1;32m     34\u001b[0m \u001b[0;34m\u001b[0m\u001b[0m\n\u001b[1;32m     35\u001b[0m         \u001b[0;34m(\u001b[0m\u001b[0mcurrentx\u001b[0m\u001b[0;34m,\u001b[0m \u001b[0mcurrenty\u001b[0m\u001b[0;34m)\u001b[0m \u001b[0;34m=\u001b[0m \u001b[0;34m(\u001b[0m\u001b[0mpose\u001b[0m\u001b[0;34m.\u001b[0m\u001b[0mposition\u001b[0m\u001b[0;34m.\u001b[0m\u001b[0mx\u001b[0m\u001b[0;34m,\u001b[0m \u001b[0mpose\u001b[0m\u001b[0;34m.\u001b[0m\u001b[0mposition\u001b[0m\u001b[0;34m.\u001b[0m\u001b[0my\u001b[0m\u001b[0;34m)\u001b[0m\u001b[0;34m\u001b[0m\u001b[0;34m\u001b[0m\u001b[0m\n",
      "\u001b[0;32m/opt/robohub/humble/lib/python3.10/site-packages/turtlebot4_wrapper/__init__.py\u001b[0m in \u001b[0;36mspin_until_future_completed\u001b[0;34m(self, future)\u001b[0m\n\u001b[1;32m    354\u001b[0m         \u001b[0;31m# Use while loop to be responsive to kernel interrupt\u001b[0m\u001b[0;34m\u001b[0m\u001b[0;34m\u001b[0m\u001b[0m\n\u001b[1;32m    355\u001b[0m         \u001b[0;31m# instead of\u001b[0m\u001b[0;34m\u001b[0m\u001b[0;34m\u001b[0m\u001b[0m\n\u001b[0;32m--> 356\u001b[0;31m         \u001b[0mrclpy\u001b[0m\u001b[0;34m.\u001b[0m\u001b[0mspin_until_future_complete\u001b[0m\u001b[0;34m(\u001b[0m\u001b[0mself\u001b[0m\u001b[0;34m,\u001b[0m\u001b[0mfuture\u001b[0m\u001b[0;34m)\u001b[0m\u001b[0;34m\u001b[0m\u001b[0;34m\u001b[0m\u001b[0m\n\u001b[0m\u001b[1;32m    357\u001b[0m         \u001b[0;31m#while not future.done():\u001b[0m\u001b[0;34m\u001b[0m\u001b[0;34m\u001b[0m\u001b[0m\n\u001b[1;32m    358\u001b[0m         \u001b[0;31m#    rclpy.spin_once(self)\u001b[0m\u001b[0;34m\u001b[0m\u001b[0;34m\u001b[0m\u001b[0m\n",
      "\u001b[0;32m/opt/ros/humble/local/lib/python3.10/dist-packages/rclpy/__init__.py\u001b[0m in \u001b[0;36mspin_until_future_complete\u001b[0;34m(node, future, executor, timeout_sec)\u001b[0m\n\u001b[1;32m    246\u001b[0m     \u001b[0;32mtry\u001b[0m\u001b[0;34m:\u001b[0m\u001b[0;34m\u001b[0m\u001b[0;34m\u001b[0m\u001b[0m\n\u001b[1;32m    247\u001b[0m         \u001b[0mexecutor\u001b[0m\u001b[0;34m.\u001b[0m\u001b[0madd_node\u001b[0m\u001b[0;34m(\u001b[0m\u001b[0mnode\u001b[0m\u001b[0;34m)\u001b[0m\u001b[0;34m\u001b[0m\u001b[0;34m\u001b[0m\u001b[0m\n\u001b[0;32m--> 248\u001b[0;31m         \u001b[0mexecutor\u001b[0m\u001b[0;34m.\u001b[0m\u001b[0mspin_until_future_complete\u001b[0m\u001b[0;34m(\u001b[0m\u001b[0mfuture\u001b[0m\u001b[0;34m,\u001b[0m \u001b[0mtimeout_sec\u001b[0m\u001b[0;34m)\u001b[0m\u001b[0;34m\u001b[0m\u001b[0;34m\u001b[0m\u001b[0m\n\u001b[0m\u001b[1;32m    249\u001b[0m     \u001b[0;32mfinally\u001b[0m\u001b[0;34m:\u001b[0m\u001b[0;34m\u001b[0m\u001b[0;34m\u001b[0m\u001b[0m\n\u001b[1;32m    250\u001b[0m         \u001b[0mexecutor\u001b[0m\u001b[0;34m.\u001b[0m\u001b[0mremove_node\u001b[0m\u001b[0;34m(\u001b[0m\u001b[0mnode\u001b[0m\u001b[0;34m)\u001b[0m\u001b[0;34m\u001b[0m\u001b[0;34m\u001b[0m\u001b[0m\n",
      "\u001b[0;32m/opt/ros/humble/local/lib/python3.10/dist-packages/rclpy/executors.py\u001b[0m in \u001b[0;36mspin_until_future_complete\u001b[0;34m(self, future, timeout_sec)\u001b[0m\n\u001b[1;32m    286\u001b[0m         \u001b[0;32mif\u001b[0m \u001b[0mtimeout_sec\u001b[0m \u001b[0;32mis\u001b[0m \u001b[0;32mNone\u001b[0m \u001b[0;32mor\u001b[0m \u001b[0mtimeout_sec\u001b[0m \u001b[0;34m<\u001b[0m \u001b[0;36m0\u001b[0m\u001b[0;34m:\u001b[0m\u001b[0;34m\u001b[0m\u001b[0;34m\u001b[0m\u001b[0m\n\u001b[1;32m    287\u001b[0m             \u001b[0;32mwhile\u001b[0m \u001b[0mself\u001b[0m\u001b[0;34m.\u001b[0m\u001b[0m_context\u001b[0m\u001b[0;34m.\u001b[0m\u001b[0mok\u001b[0m\u001b[0;34m(\u001b[0m\u001b[0;34m)\u001b[0m \u001b[0;32mand\u001b[0m \u001b[0;32mnot\u001b[0m \u001b[0mfuture\u001b[0m\u001b[0;34m.\u001b[0m\u001b[0mdone\u001b[0m\u001b[0;34m(\u001b[0m\u001b[0;34m)\u001b[0m \u001b[0;32mand\u001b[0m \u001b[0;32mnot\u001b[0m \u001b[0mself\u001b[0m\u001b[0;34m.\u001b[0m\u001b[0m_is_shutdown\u001b[0m\u001b[0;34m:\u001b[0m\u001b[0;34m\u001b[0m\u001b[0;34m\u001b[0m\u001b[0m\n\u001b[0;32m--> 288\u001b[0;31m                 \u001b[0mself\u001b[0m\u001b[0;34m.\u001b[0m\u001b[0mspin_once_until_future_complete\u001b[0m\u001b[0;34m(\u001b[0m\u001b[0mfuture\u001b[0m\u001b[0;34m,\u001b[0m \u001b[0mtimeout_sec\u001b[0m\u001b[0;34m)\u001b[0m\u001b[0;34m\u001b[0m\u001b[0;34m\u001b[0m\u001b[0m\n\u001b[0m\u001b[1;32m    289\u001b[0m         \u001b[0;32melse\u001b[0m\u001b[0;34m:\u001b[0m\u001b[0;34m\u001b[0m\u001b[0;34m\u001b[0m\u001b[0m\n\u001b[1;32m    290\u001b[0m             \u001b[0mstart\u001b[0m \u001b[0;34m=\u001b[0m \u001b[0mtime\u001b[0m\u001b[0;34m.\u001b[0m\u001b[0mmonotonic\u001b[0m\u001b[0;34m(\u001b[0m\u001b[0;34m)\u001b[0m\u001b[0;34m\u001b[0m\u001b[0;34m\u001b[0m\u001b[0m\n",
      "\u001b[0;32m/opt/ros/humble/local/lib/python3.10/dist-packages/rclpy/executors.py\u001b[0m in \u001b[0;36mspin_once_until_future_complete\u001b[0;34m(self, future, timeout_sec)\u001b[0m\n\u001b[1;32m    714\u001b[0m \u001b[0;34m\u001b[0m\u001b[0m\n\u001b[1;32m    715\u001b[0m     \u001b[0;32mdef\u001b[0m \u001b[0mspin_once_until_future_complete\u001b[0m\u001b[0;34m(\u001b[0m\u001b[0mself\u001b[0m\u001b[0;34m,\u001b[0m \u001b[0mfuture\u001b[0m\u001b[0;34m:\u001b[0m \u001b[0mFuture\u001b[0m\u001b[0;34m,\u001b[0m \u001b[0mtimeout_sec\u001b[0m\u001b[0;34m:\u001b[0m \u001b[0mfloat\u001b[0m \u001b[0;34m=\u001b[0m \u001b[0;32mNone\u001b[0m\u001b[0;34m)\u001b[0m \u001b[0;34m->\u001b[0m \u001b[0;32mNone\u001b[0m\u001b[0;34m:\u001b[0m\u001b[0;34m\u001b[0m\u001b[0;34m\u001b[0m\u001b[0m\n\u001b[0;32m--> 716\u001b[0;31m         \u001b[0mself\u001b[0m\u001b[0;34m.\u001b[0m\u001b[0mspin_once\u001b[0m\u001b[0;34m(\u001b[0m\u001b[0mtimeout_sec\u001b[0m\u001b[0;34m)\u001b[0m\u001b[0;34m\u001b[0m\u001b[0;34m\u001b[0m\u001b[0m\n\u001b[0m\u001b[1;32m    717\u001b[0m \u001b[0;34m\u001b[0m\u001b[0m\n\u001b[1;32m    718\u001b[0m \u001b[0;34m\u001b[0m\u001b[0m\n",
      "\u001b[0;32m/opt/ros/humble/local/lib/python3.10/dist-packages/rclpy/executors.py\u001b[0m in \u001b[0;36mspin_once\u001b[0;34m(self, timeout_sec)\u001b[0m\n\u001b[1;32m    703\u001b[0m     \u001b[0;32mdef\u001b[0m \u001b[0mspin_once\u001b[0m\u001b[0;34m(\u001b[0m\u001b[0mself\u001b[0m\u001b[0;34m,\u001b[0m \u001b[0mtimeout_sec\u001b[0m\u001b[0;34m:\u001b[0m \u001b[0mfloat\u001b[0m \u001b[0;34m=\u001b[0m \u001b[0;32mNone\u001b[0m\u001b[0;34m)\u001b[0m \u001b[0;34m->\u001b[0m \u001b[0;32mNone\u001b[0m\u001b[0;34m:\u001b[0m\u001b[0;34m\u001b[0m\u001b[0;34m\u001b[0m\u001b[0m\n\u001b[1;32m    704\u001b[0m         \u001b[0;32mtry\u001b[0m\u001b[0;34m:\u001b[0m\u001b[0;34m\u001b[0m\u001b[0;34m\u001b[0m\u001b[0m\n\u001b[0;32m--> 705\u001b[0;31m             \u001b[0mhandler\u001b[0m\u001b[0;34m,\u001b[0m \u001b[0mentity\u001b[0m\u001b[0;34m,\u001b[0m \u001b[0mnode\u001b[0m \u001b[0;34m=\u001b[0m \u001b[0mself\u001b[0m\u001b[0;34m.\u001b[0m\u001b[0mwait_for_ready_callbacks\u001b[0m\u001b[0;34m(\u001b[0m\u001b[0mtimeout_sec\u001b[0m\u001b[0;34m=\u001b[0m\u001b[0mtimeout_sec\u001b[0m\u001b[0;34m)\u001b[0m\u001b[0;34m\u001b[0m\u001b[0;34m\u001b[0m\u001b[0m\n\u001b[0m\u001b[1;32m    706\u001b[0m         \u001b[0;32mexcept\u001b[0m \u001b[0mShutdownException\u001b[0m\u001b[0;34m:\u001b[0m\u001b[0;34m\u001b[0m\u001b[0;34m\u001b[0m\u001b[0m\n\u001b[1;32m    707\u001b[0m             \u001b[0;32mpass\u001b[0m\u001b[0;34m\u001b[0m\u001b[0;34m\u001b[0m\u001b[0m\n",
      "\u001b[0;32m/opt/ros/humble/local/lib/python3.10/dist-packages/rclpy/executors.py\u001b[0m in \u001b[0;36mwait_for_ready_callbacks\u001b[0;34m(self, *args, **kwargs)\u001b[0m\n\u001b[1;32m    689\u001b[0m \u001b[0;34m\u001b[0m\u001b[0m\n\u001b[1;32m    690\u001b[0m             \u001b[0;32mtry\u001b[0m\u001b[0;34m:\u001b[0m\u001b[0;34m\u001b[0m\u001b[0;34m\u001b[0m\u001b[0m\n\u001b[0;32m--> 691\u001b[0;31m                 \u001b[0;32mreturn\u001b[0m \u001b[0mnext\u001b[0m\u001b[0;34m(\u001b[0m\u001b[0mself\u001b[0m\u001b[0;34m.\u001b[0m\u001b[0m_cb_iter\u001b[0m\u001b[0;34m)\u001b[0m\u001b[0;34m\u001b[0m\u001b[0;34m\u001b[0m\u001b[0m\n\u001b[0m\u001b[1;32m    692\u001b[0m             \u001b[0;32mexcept\u001b[0m \u001b[0mStopIteration\u001b[0m\u001b[0;34m:\u001b[0m\u001b[0;34m\u001b[0m\u001b[0;34m\u001b[0m\u001b[0m\n\u001b[1;32m    693\u001b[0m                 \u001b[0;31m# Generator ran out of work\u001b[0m\u001b[0;34m\u001b[0m\u001b[0;34m\u001b[0m\u001b[0m\n",
      "\u001b[0;32m/opt/ros/humble/local/lib/python3.10/dist-packages/rclpy/executors.py\u001b[0m in \u001b[0;36m_wait_for_ready_callbacks\u001b[0;34m(self, timeout_sec, nodes, condition)\u001b[0m\n\u001b[1;32m    586\u001b[0m \u001b[0;34m\u001b[0m\u001b[0m\n\u001b[1;32m    587\u001b[0m                 \u001b[0;31m# Wait for something to become ready\u001b[0m\u001b[0;34m\u001b[0m\u001b[0;34m\u001b[0m\u001b[0m\n\u001b[0;32m--> 588\u001b[0;31m                 \u001b[0mwait_set\u001b[0m\u001b[0;34m.\u001b[0m\u001b[0mwait\u001b[0m\u001b[0;34m(\u001b[0m\u001b[0mtimeout_nsec\u001b[0m\u001b[0;34m)\u001b[0m\u001b[0;34m\u001b[0m\u001b[0;34m\u001b[0m\u001b[0m\n\u001b[0m\u001b[1;32m    589\u001b[0m                 \u001b[0;32mif\u001b[0m \u001b[0mself\u001b[0m\u001b[0;34m.\u001b[0m\u001b[0m_is_shutdown\u001b[0m\u001b[0;34m:\u001b[0m\u001b[0;34m\u001b[0m\u001b[0;34m\u001b[0m\u001b[0m\n\u001b[1;32m    590\u001b[0m                     \u001b[0;32mraise\u001b[0m \u001b[0mShutdownException\u001b[0m\u001b[0;34m(\u001b[0m\u001b[0;34m)\u001b[0m\u001b[0;34m\u001b[0m\u001b[0;34m\u001b[0m\u001b[0m\n",
      "\u001b[0;31mKeyboardInterrupt\u001b[0m: "
     ]
    }
   ],
   "source": [
    "import numpy as np\n",
    "\n",
    "from tf_transformations import euler_from_quaternion\n",
    "\n",
    "from geometry_msgs.msg import Twist\n",
    "\n",
    "import time\n",
    "\n",
    "import eigenpy\n",
    "\n",
    "\n",
    "\n",
    "\n",
    "#Quaternion test\n",
    "\n",
    "\n",
    "\n",
    "\n",
    "(desiredx,desiredy) = (-1,0)\n",
    "msg = Twist()\n",
    "\n",
    "\n",
    "\n",
    "\n",
    "def goTo(desiredx,desiredy,desired_yaw):\n",
    "\n",
    "    while True:\n",
    "\n",
    "        # Localization\n",
    "\n",
    "        robot.odom_future = rclpy.Future()\n",
    "\n",
    "        pose = robot.spin_until_future_completed(robot.odom_future).pose.pose\n",
    "\n",
    "        (currentx, currenty) = (pose.position.x, pose.position.y)\n",
    "\n",
    "        yaw = np.arctan2(2 * (pose.orientation.w * pose.orientation.z + pose.orientation.x * pose.orientation.y),1 - 2 * (pose.orientation.y ** 2 + pose.orientation.z ** 2))\n",
    "\n",
    "       \n",
    "\n",
    "        # Navigation\n",
    "\n",
    "        distance = np.sqrt((np.square(desiredx-currentx))+(np.square(desiredy-currenty)))\n",
    "        angle_goal = np.arctan2((desiredy-currenty),(desiredx-currentx))\n",
    "\n",
    "    \n",
    "\n",
    "        angle_diff_rad = np.arctan2(np.sin(angle_goal-yaw), np.cos(angle_goal-yaw))\n",
    "        vel_dir =  1*angle_diff_rad\n",
    "\n",
    "\n",
    "        print(\"\\rdistance\",distance,\"angle\",yaw,\"angle_goal\",angle_goal,end=\"\")\n",
    "\n",
    "  \n",
    "\n",
    "        if distance>0.01:\n",
    "\n",
    "            msg.linear.x = min(0.05, 1. * distance)\n",
    "\n",
    "            msg.angular.z = max(-0.4,min(0.4, 0.25 * (vel_dir)))\n",
    "\n",
    "        else:\n",
    "\n",
    "        #velocity_x = 0.01*(time.time() - start_time)\n",
    "\n",
    "            msg.angular.z = max(-0.1,min(0.1, 0.25 * (desired_yaw-yaw)))\n",
    "\n",
    "        robot.cmd_vel_publisher.publish(msg)\n",
    "\n",
    "        if(distance<0.05 and abs(desired_yaw-yaw)<0.05):\n",
    "            print(\"Reached point\\n\")\n",
    "            break\n",
    "\n",
    "points  = [(1 , 0) , (1, -0.5) , (1.5 ,-0.8)]#Notes When the distance or angle between the current point and the next point is very small it seems like we cant pass the command threshold\n",
    "\n",
    "robot.reset_odometry()\n",
    "for p in points:\n",
    "\n",
    "    goTo(p[0],p[1],0)"
   ]
  }
 ],
 "metadata": {
  "kernelspec": {
   "display_name": "Python 3 (ipykernel)",
   "language": "python",
   "name": "python3"
  },
  "language_info": {
   "codemirror_mode": {
    "name": "ipython",
    "version": 3
   },
   "file_extension": ".py",
   "mimetype": "text/x-python",
   "name": "python",
   "nbconvert_exporter": "python",
   "pygments_lexer": "ipython3",
   "version": "3.10.6"
  }
 },
 "nbformat": 4,
 "nbformat_minor": 4
}
